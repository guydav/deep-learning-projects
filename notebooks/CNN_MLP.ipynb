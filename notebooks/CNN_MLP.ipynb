{
 "cells": [
  {
   "cell_type": "markdown",
   "metadata": {
    "id": "view-in-github",
    "colab_type": "text"
   },
   "source": [
    "<a href=\"https://colab.research.google.com/github/guydav/deep-learning-projects/blob/master/notebooks/CNN_MLP.ipynb\" target=\"_parent\"><img src=\"https://colab.research.google.com/assets/colab-badge.svg\" alt=\"Open In Colab\"/></a>"
   ]
  },
  {
   "cell_type": "code",
   "execution_count": 0,
   "metadata": {
    "id": "lSL_i-UEOZd1",
    "colab_type": "code",
    "colab": {}
   },
   "outputs": [],
   "source": [
    "!kill -9 -1"
   ]
  },
  {
   "cell_type": "markdown",
   "metadata": {
    "id": "DJYiMGw60VhQ",
    "colab_type": "text"
   },
   "source": [
    "# Resources used/encountered while working on this\n",
    "\n",
    "Colab & GPU:\n",
    "\n",
    "https://medium.com/deep-learning-turkey/google-colab-free-gpu-tutorial-e113627b9f5d\n",
    "\n",
    "https://medium.com/@oribarel/getting-the-most-out-of-your-google-colab-2b0585f82403?fbclid=IwAR02sUAHdrAJAKDbxXYNhKx3bOyZk7U8EnlsRY73_7xWMT7QHdSengZmp3c\n",
    "\n",
    "https://colab.research.google.com/drive/16nkLsNCzKd3lpiZzkWEhIe_Y-hNr6C2Q#scrollTo=ZqDa9zhe-UPj\n",
    "\n",
    "Colab & PyTorch:\n",
    "\n",
    "https://medium.com/@chsafouane/getting-started-with-pytorch-on-google-colab-811c59a656b6\n",
    "\n",
    "https://jovianlin.io/pytorch-with-gpu-in-google-colab/\n",
    "\n"
   ]
  },
  {
   "cell_type": "markdown",
   "metadata": {
    "id": "VzF8oqybOlF-",
    "colab_type": "text"
   },
   "source": [
    "# Setup and test GPU and PyTorch"
   ]
  },
  {
   "cell_type": "code",
   "execution_count": 0,
   "metadata": {
    "id": "fSCf04-HPjAK",
    "colab_type": "code",
    "outputId": "8941e9aa-114d-4501-f079-d736851b2724",
    "colab": {
     "base_uri": "https://localhost:8080/",
     "height": 1346.0
    }
   },
   "outputs": [
    {
     "name": "stdout",
     "output_type": "stream",
     "text": [
      "tcmalloc: large alloc 1073750016 bytes == 0x59088000 @  0x7f434af832a4 0x591a07 0x5b5d56 0x502e9a 0x506859 0x502209 0x502f3d 0x506859 0x504c28 0x502540 0x502f3d 0x506859 0x504c28 0x502540 0x502f3d 0x506859 0x504c28 0x502540 0x502f3d 0x507641 0x502209 0x502f3d 0x506859 0x504c28 0x502540 0x502f3d 0x507641 0x504c28 0x502540 0x502f3d 0x507641\n",
      "Collecting torchsummary\n",
      "  Downloading https://files.pythonhosted.org/packages/7d/18/1474d06f721b86e6a9b9d7392ad68bed711a02f3b61ac43f13c719db50a6/torchsummary-1.5.1-py3-none-any.whl\n",
      "Installing collected packages: torchsummary\n",
      "Successfully installed torchsummary-1.5.1\n",
      "Collecting wandb\n",
      "\u001b[?25l  Downloading https://files.pythonhosted.org/packages/67/49/8c556bf93c02c3f8dafc3affc2c72ff5d20b5bc3583e8164e25255add843/wandb-0.6.30-py2.py3-none-any.whl (1.2MB)\n",
      "\u001b[K    100% |████████████████████████████████| 1.2MB 15.6MB/s \n",
      "\u001b[?25hCollecting gql>=0.1.0 (from wandb)\n",
      "  Downloading https://files.pythonhosted.org/packages/aa/9c/2933b7791210e00f5c26a6243198cc03af9132c29cf85e4c22cb007f171e/gql-0.1.0.tar.gz\n",
      "Collecting python-dateutil>=2.6.1 (from wandb)\n",
      "\u001b[?25l  Downloading https://files.pythonhosted.org/packages/74/68/d87d9b36af36f44254a8d512cbfc48369103a3b9e474be9bdfe536abfc45/python_dateutil-2.7.5-py2.py3-none-any.whl (225kB)\n",
      "\u001b[K    100% |████████████████████████████████| 235kB 26.8MB/s \n",
      "\u001b[?25hCollecting subprocess32>=3.5.3 (from wandb)\n",
      "\u001b[?25l  Downloading https://files.pythonhosted.org/packages/be/2b/beeba583e9877e64db10b52a96915afc0feabf7144dcbf2a0d0ea68bf73d/subprocess32-3.5.3.tar.gz (96kB)\n",
      "\u001b[K    100% |████████████████████████████████| 102kB 25.6MB/s \n",
      "\u001b[?25hCollecting GitPython>=1.0.0 (from wandb)\n",
      "\u001b[?25l  Downloading https://files.pythonhosted.org/packages/fe/e5/fafe827507644c32d6dc553a1c435cdf882e0c28918a5bab29f7fbebfb70/GitPython-2.1.11-py2.py3-none-any.whl (448kB)\n",
      "\u001b[K    100% |████████████████████████████████| 450kB 25.6MB/s \n",
      "\u001b[?25hRequirement already satisfied: requests>=2.0.0 in /usr/local/lib/python3.6/dist-packages (from wandb) (2.18.4)\n",
      "Requirement already satisfied: psutil>=5.0.0 in /usr/local/lib/python3.6/dist-packages (from wandb) (5.4.8)\n",
      "Collecting sentry-sdk>=0.4.0 (from wandb)\n",
      "\u001b[?25l  Downloading https://files.pythonhosted.org/packages/ec/0b/9d64e91787a3bea4abd0c08dd334c68c88535e112bfbb2b0412b178136fc/sentry_sdk-0.6.2-py2.py3-none-any.whl (46kB)\n",
      "\u001b[K    100% |████████████████████████████████| 51kB 20.0MB/s \n",
      "\u001b[?25hRequirement already satisfied: six>=1.10.0 in /usr/local/lib/python3.6/dist-packages (from wandb) (1.11.0)\n",
      "Collecting shortuuid>=0.5.0 (from wandb)\n",
      "  Downloading https://files.pythonhosted.org/packages/80/d7/2bfc9332e68d3e15ea97b9b1588b3899ad565120253d3fd71c8f7f13b4fe/shortuuid-0.5.0.tar.gz\n",
      "Collecting nvidia-ml-py3>=7.352.0 (from wandb)\n",
      "  Downloading https://files.pythonhosted.org/packages/6d/64/cce82bddb80c0b0f5c703bbdafa94bfb69a1c5ad7a79cff00b482468f0d3/nvidia-ml-py3-7.352.0.tar.gz\n",
      "Collecting watchdog>=0.8.3 (from wandb)\n",
      "\u001b[?25l  Downloading https://files.pythonhosted.org/packages/bb/e3/5a55d48a29300160779f0a0d2776d17c1b762a2039b36de528b093b87d5b/watchdog-0.9.0.tar.gz (85kB)\n",
      "\u001b[K    100% |████████████████████████████████| 92kB 26.1MB/s \n",
      "\u001b[?25hRequirement already satisfied: Click>=6.0 in /usr/local/lib/python3.6/dist-packages (from wandb) (7.0)\n",
      "Collecting graphql-core>=0.5.0 (from gql>=0.1.0->wandb)\n",
      "\u001b[?25l  Downloading https://files.pythonhosted.org/packages/35/dd/2dff553c929d059e53a95a8bcff66f6a3930d736dfea17f88d16229eaf84/graphql_core-2.1-py2.py3-none-any.whl (249kB)\n",
      "\u001b[K    100% |████████████████████████████████| 256kB 25.1MB/s \n",
      "\u001b[?25hRequirement already satisfied: promise>=0.4.0 in /usr/local/lib/python3.6/dist-packages (from gql>=0.1.0->wandb) (2.2.1)\n",
      "Collecting gitdb2>=2.0.0 (from GitPython>=1.0.0->wandb)\n",
      "\u001b[?25l  Downloading https://files.pythonhosted.org/packages/da/30/a407568aa8d8f25db817cf50121a958722f3fc5f87e3a6fba1f40c0633e3/gitdb2-2.0.5-py2.py3-none-any.whl (62kB)\n",
      "\u001b[K    100% |████████████████████████████████| 71kB 22.9MB/s \n",
      "\u001b[?25hRequirement already satisfied: certifi>=2017.4.17 in /usr/local/lib/python3.6/dist-packages (from requests>=2.0.0->wandb) (2018.11.29)\n",
      "Requirement already satisfied: urllib3<1.23,>=1.21.1 in /usr/local/lib/python3.6/dist-packages (from requests>=2.0.0->wandb) (1.22)\n",
      "Requirement already satisfied: idna<2.7,>=2.5 in /usr/local/lib/python3.6/dist-packages (from requests>=2.0.0->wandb) (2.6)\n",
      "Requirement already satisfied: chardet<3.1.0,>=3.0.2 in /usr/local/lib/python3.6/dist-packages (from requests>=2.0.0->wandb) (3.0.4)\n",
      "Requirement already satisfied: PyYAML>=3.10 in /usr/local/lib/python3.6/dist-packages (from watchdog>=0.8.3->wandb) (3.13)\n",
      "Collecting argh>=0.24.1 (from watchdog>=0.8.3->wandb)\n",
      "  Downloading https://files.pythonhosted.org/packages/06/1c/e667a7126f0b84aaa1c56844337bf0ac12445d1beb9c8a6199a7314944bf/argh-0.26.2-py2.py3-none-any.whl\n",
      "Collecting pathtools>=0.1.1 (from watchdog>=0.8.3->wandb)\n",
      "  Downloading https://files.pythonhosted.org/packages/e7/7f/470d6fcdf23f9f3518f6b0b76be9df16dcc8630ad409947f8be2eb0ed13a/pathtools-0.1.2.tar.gz\n",
      "Collecting rx>=1.6.0 (from graphql-core>=0.5.0->gql>=0.1.0->wandb)\n",
      "\u001b[?25l  Downloading https://files.pythonhosted.org/packages/33/0f/5ef4ac78e2a538cc1b054eb86285fe0bf7a5dbaeaac2c584757c300515e2/Rx-1.6.1-py2.py3-none-any.whl (179kB)\n",
      "\u001b[K    100% |████████████████████████████████| 184kB 26.1MB/s \n",
      "\u001b[?25hCollecting smmap2>=2.0.0 (from gitdb2>=2.0.0->GitPython>=1.0.0->wandb)\n",
      "  Downloading https://files.pythonhosted.org/packages/55/d2/866d45e3a121ee15a1dc013824d58072fd5c7799c9c34d01378eb262ca8f/smmap2-2.0.5-py2.py3-none-any.whl\n",
      "Building wheels for collected packages: gql, subprocess32, shortuuid, nvidia-ml-py3, watchdog, pathtools\n",
      "  Running setup.py bdist_wheel for gql ... \u001b[?25l-\b \bdone\n",
      "\u001b[?25h  Stored in directory: /root/.cache/pip/wheels/a7/8d/65/a3247f500d675d80a01e4d2f0ee44fe99f1faef575bc2a1664\n",
      "  Running setup.py bdist_wheel for subprocess32 ... \u001b[?25l-\b \b\\\b \bdone\n",
      "\u001b[?25h  Stored in directory: /root/.cache/pip/wheels/c0/08/48/bb468e57d688ea6fa40a450d88d7d9f5fb3c955510077da743\n",
      "  Running setup.py bdist_wheel for shortuuid ... \u001b[?25l-\b \bdone\n",
      "\u001b[?25h  Stored in directory: /root/.cache/pip/wheels/3f/eb/fd/69e5177f67b505e44acbd1aedfbe44b91768ee0c4cd5636576\n",
      "  Running setup.py bdist_wheel for nvidia-ml-py3 ... \u001b[?25l-\b \bdone\n",
      "\u001b[?25h  Stored in directory: /root/.cache/pip/wheels/e4/1d/06/640c93f5270d67d0247f30be91f232700d19023f9e66d735c7\n",
      "  Running setup.py bdist_wheel for watchdog ... \u001b[?25l-\b \b\\\b \bdone\n",
      "\u001b[?25h  Stored in directory: /root/.cache/pip/wheels/61/1d/d0/04cfe495619be2095eb8d89a31c42adb4e42b76495bc8f784c\n",
      "  Running setup.py bdist_wheel for pathtools ... \u001b[?25l-\b \bdone\n",
      "\u001b[?25h  Stored in directory: /root/.cache/pip/wheels/0b/04/79/c3b0c3a0266a3cb4376da31e5bfe8bba0c489246968a68e843\n",
      "Successfully built gql subprocess32 shortuuid nvidia-ml-py3 watchdog pathtools\n",
      "\u001b[31mfeaturetools 0.4.1 has requirement pandas>=0.23.0, but you'll have pandas 0.22.0 which is incompatible.\u001b[0m\n",
      "\u001b[31mcufflinks 0.14.6 has requirement plotly>=3.0.0, but you'll have plotly 1.12.12 which is incompatible.\u001b[0m\n",
      "Installing collected packages: rx, graphql-core, gql, python-dateutil, subprocess32, smmap2, gitdb2, GitPython, sentry-sdk, shortuuid, nvidia-ml-py3, argh, pathtools, watchdog, wandb\n",
      "  Found existing installation: python-dateutil 2.5.3\n",
      "    Uninstalling python-dateutil-2.5.3:\n",
      "      Successfully uninstalled python-dateutil-2.5.3\n",
      "Successfully installed GitPython-2.1.11 argh-0.26.2 gitdb2-2.0.5 gql-0.1.0 graphql-core-2.1 nvidia-ml-py3-7.352.0 pathtools-0.1.2 python-dateutil-2.7.5 rx-1.6.1 sentry-sdk-0.6.2 shortuuid-0.5.0 smmap2-2.0.5 subprocess32-3.5.3 wandb-0.6.30 watchdog-0.9.0\n",
      "Appending key for api.wandb.ai to your netrc file: /root/.netrc\n",
      "\u001b[32mSuccessfully logged in to Weights & Biases!\u001b[0m\n"
     ]
    }
   ],
   "source": [
    "# http://pytorch.org/\n",
    "from os.path import exists\n",
    "from wheel.pep425tags import get_abbr_impl, get_impl_ver, get_abi_tag\n",
    "platform = '{}{}-{}'.format(get_abbr_impl(), get_impl_ver(), get_abi_tag())\n",
    "cuda_output = !ldconfig -p|grep cudart.so|sed -e 's/.*\\.\\([0-9]*\\)\\.\\([0-9]*\\)$/cu\\1\\2/'\n",
    "accelerator = cuda_output[0] if exists('/dev/nvidia0') else 'cpu'\n",
    "\n",
    "!pip install -q http://download.pytorch.org/whl/{accelerator}/torch-0.4.1-{platform}-linux_x86_64.whl torchvision\n",
    "!pip install torchsummary\n",
    "!pip install wandb\n",
    "!wandb login 9676e3cc95066e4865586082971f2653245f09b4"
   ]
  },
  {
   "cell_type": "code",
   "execution_count": 0,
   "metadata": {
    "id": "335Z1W8yPckM",
    "colab_type": "code",
    "outputId": "09571406-34de-4b0b-8d65-97c9b4989abf",
    "colab": {
     "base_uri": "https://localhost:8080/",
     "height": 85.0
    }
   },
   "outputs": [
    {
     "name": "stdout",
     "output_type": "stream",
     "text": [
      "0\n",
      "<torch.cuda.device object at 0x7f444fe54dd8>\n",
      "1\n",
      "Tesla K80\n"
     ]
    }
   ],
   "source": [
    "import torch\n",
    "print(torch.cuda.current_device())\n",
    "print(torch.cuda.device(0))\n",
    "print(torch.cuda.device_count())\n",
    "print(torch.cuda.get_device_name(0))"
   ]
  },
  {
   "cell_type": "code",
   "execution_count": 0,
   "metadata": {
    "id": "RAguBFRrJ2Kv",
    "colab_type": "code",
    "outputId": "15736e33-1031-43db-da73-6b6b4a947eea",
    "colab": {
     "base_uri": "https://localhost:8080/",
     "height": 238.0
    }
   },
   "outputs": [
    {
     "name": "stdout",
     "output_type": "stream",
     "text": [
      "Collecting gputil\n",
      "  Downloading https://files.pythonhosted.org/packages/45/99/837428d26b47ebd6b66d6e1b180e98ec4a557767a93a81a02ea9d6242611/GPUtil-1.3.0.tar.gz\n",
      "Requirement already satisfied: numpy in /usr/local/lib/python3.6/dist-packages (from gputil) (1.14.6)\n",
      "Building wheels for collected packages: gputil\n",
      "  Running setup.py bdist_wheel for gputil ... \u001b[?25l-\b \bdone\n",
      "\u001b[?25h  Stored in directory: /root/.cache/pip/wheels/17/0f/04/b79c006972335e35472c0b835ed52bfc0815258d409f560108\n",
      "Successfully built gputil\n",
      "Installing collected packages: gputil\n",
      "Successfully installed gputil-1.3.0\n",
      "Requirement already satisfied: psutil in /usr/local/lib/python3.6/dist-packages (5.4.8)\n",
      "Requirement already satisfied: humanize in /usr/local/lib/python3.6/dist-packages (0.5.1)\n",
      "Gen RAM Free: 12.9 GB  | Proc size: 218.6 MB\n",
      "GPU RAM Free: 11430MB | Used: 11MB | Util   0% | Total 11441MB\n"
     ]
    }
   ],
   "source": [
    "# memory footprint support libraries/code\n",
    "!ln -sf /opt/bin/nvidia-smi /usr/bin/nvidia-smi\n",
    "!pip install gputil\n",
    "!pip install psutil\n",
    "!pip install humanize\n",
    "import psutil\n",
    "import humanize\n",
    "import os\n",
    "import GPUtil as GPU\n",
    "GPUs = GPU.getGPUs()\n",
    "# XXX: only one GPU on Colab and isn’t guaranteed\n",
    "gpu = GPUs[0]\n",
    "def printm():\n",
    " process = psutil.Process(os.getpid())\n",
    " print(\"Gen RAM Free: \" + humanize.naturalsize( psutil.virtual_memory().available ), \" | Proc size: \" + humanize.naturalsize( process.memory_info().rss))\n",
    " print(\"GPU RAM Free: {0:.0f}MB | Used: {1:.0f}MB | Util {2:3.0f}% | Total {3:.0f}MB\".format(gpu.memoryFree, gpu.memoryUsed, gpu.memoryUtil*100, gpu.memoryTotal))\n",
    "printm() "
   ]
  },
  {
   "cell_type": "markdown",
   "metadata": {
    "id": "zQwT_nALZrJj",
    "colab_type": "text"
   },
   "source": [
    "# Google Drive Setup"
   ]
  },
  {
   "cell_type": "markdown",
   "metadata": {
    "id": "Q02iRPQUZviu",
    "colab_type": "text"
   },
   "source": [
    "## Auth"
   ]
  },
  {
   "cell_type": "code",
   "execution_count": 0,
   "metadata": {
    "id": "GjEKWKt7Ojk5",
    "colab_type": "code",
    "outputId": "3373a995-842d-4332-92bb-8645df12e124",
    "colab": {
     "base_uri": "https://localhost:8080/",
     "height": 972.0
    }
   },
   "outputs": [
    {
     "name": "stdout",
     "output_type": "stream",
     "text": [
      " Mount Google Drive on Ubuntu (via FUSE): Beta versions\n",
      " More info: https://launchpad.net/~alessandro-strada/+archive/ubuntu/google-drive-ocamlfuse-beta\n",
      "Press [ENTER] to continue or Ctrl-c to cancel adding it.\n",
      "\n",
      "Ign:1 https://developer.download.nvidia.com/compute/cuda/repos/ubuntu1710/x86_64  InRelease\n",
      "Ign:2 https://developer.download.nvidia.com/compute/machine-learning/repos/ubuntu1604/x86_64  InRelease\n",
      "Get:3 http://ppa.launchpad.net/alessandro-strada/google-drive-ocamlfuse-beta/ubuntu bionic InRelease [15.4 kB]\n",
      "Hit:4 http://archive.ubuntu.com/ubuntu bionic InRelease\n",
      "Get:5 http://security.ubuntu.com/ubuntu bionic-security InRelease [83.2 kB]\n",
      "Hit:6 https://developer.download.nvidia.com/compute/cuda/repos/ubuntu1710/x86_64  Release\n",
      "Get:7 https://developer.download.nvidia.com/compute/machine-learning/repos/ubuntu1604/x86_64  Release [564 B]\n",
      "Get:8 https://developer.download.nvidia.com/compute/machine-learning/repos/ubuntu1604/x86_64  Release.gpg [801 B]\n",
      "Get:9 http://archive.ubuntu.com/ubuntu bionic-updates InRelease [88.7 kB]\n",
      "Get:10 http://ppa.launchpad.net/graphics-drivers/ppa/ubuntu bionic InRelease [21.3 kB]\n",
      "Get:11 http://archive.ubuntu.com/ubuntu bionic-backports InRelease [74.6 kB]\n",
      "Get:12 http://ppa.launchpad.net/alessandro-strada/google-drive-ocamlfuse-beta/ubuntu bionic/main amd64 Packages [2,017 B]\n",
      "Get:14 https://developer.download.nvidia.com/compute/machine-learning/repos/ubuntu1604/x86_64  Packages [35.8 kB]\n",
      "Get:15 http://security.ubuntu.com/ubuntu bionic-security/main amd64 Packages [281 kB]\n",
      "Get:16 http://ppa.launchpad.net/graphics-drivers/ppa/ubuntu bionic/main amd64 Packages [27.3 kB]\n",
      "Get:17 http://security.ubuntu.com/ubuntu bionic-security/universe amd64 Packages [133 kB]\n",
      "Get:18 http://archive.ubuntu.com/ubuntu bionic-updates/universe amd64 Packages [757 kB]\n",
      "Get:19 http://archive.ubuntu.com/ubuntu bionic-updates/main amd64 Packages [597 kB]\n",
      "Fetched 2,118 kB in 2s (921 kB/s)\n",
      "Reading package lists... Done\n",
      "Ign:1 https://developer.download.nvidia.com/compute/cuda/repos/ubuntu1710/x86_64  InRelease\n",
      "Ign:2 https://developer.download.nvidia.com/compute/machine-learning/repos/ubuntu1604/x86_64  InRelease\n",
      "Hit:3 http://security.ubuntu.com/ubuntu bionic-security InRelease\n",
      "Hit:4 http://archive.ubuntu.com/ubuntu bionic InRelease\n",
      "Hit:5 http://ppa.launchpad.net/alessandro-strada/google-drive-ocamlfuse-beta/ubuntu bionic InRelease\n",
      "Hit:6 https://developer.download.nvidia.com/compute/cuda/repos/ubuntu1710/x86_64  Release\n",
      "Hit:7 https://developer.download.nvidia.com/compute/machine-learning/repos/ubuntu1604/x86_64  Release\n",
      "Hit:8 http://archive.ubuntu.com/ubuntu bionic-updates InRelease\n",
      "Hit:9 http://ppa.launchpad.net/graphics-drivers/ppa/ubuntu bionic InRelease\n",
      "Hit:10 http://archive.ubuntu.com/ubuntu bionic-backports InRelease\n",
      "Reading package lists... Done\n",
      "Reading package lists... Done\n",
      "Building dependency tree       \n",
      "Reading state information... Done\n",
      "The following NEW packages will be installed:\n",
      "  google-drive-ocamlfuse\n",
      "0 upgraded, 1 newly installed, 0 to remove and 13 not upgraded.\n",
      "Need to get 1,246 kB of archives.\n",
      "After this operation, 6,494 kB of additional disk space will be used.\n",
      "Get:1 http://ppa.launchpad.net/alessandro-strada/google-drive-ocamlfuse-beta/ubuntu bionic/main amd64 google-drive-ocamlfuse amd64 0.7.1-0ubuntu3~ubuntu18.04.1 [1,246 kB]\n",
      "Fetched 1,246 kB in 3s (441 kB/s)\n",
      "Selecting previously unselected package google-drive-ocamlfuse.\n",
      "(Reading database ... 110377 files and directories currently installed.)\n",
      "Preparing to unpack .../google-drive-ocamlfuse_0.7.1-0ubuntu3~ubuntu18.04.1_amd64.deb ...\n",
      "Unpacking google-drive-ocamlfuse (0.7.1-0ubuntu3~ubuntu18.04.1) ...\n",
      "Setting up google-drive-ocamlfuse (0.7.1-0ubuntu3~ubuntu18.04.1) ...\n",
      "Processing triggers for man-db (2.8.3-2ubuntu0.1) ...\n",
      "Please, open the following URL in a web browser: https://accounts.google.com/o/oauth2/auth?client_id=32555940559.apps.googleusercontent.com&redirect_uri=urn%3Aietf%3Awg%3Aoauth%3A2.0%3Aoob&scope=https%3A%2F%2Fwww.googleapis.com%2Fauth%2Fdrive&response_type=code&access_type=offline&approval_prompt=force\n",
      "··········\n",
      "Please, open the following URL in a web browser: https://accounts.google.com/o/oauth2/auth?client_id=32555940559.apps.googleusercontent.com&redirect_uri=urn%3Aietf%3Awg%3Aoauth%3A2.0%3Aoob&scope=https%3A%2F%2Fwww.googleapis.com%2Fauth%2Fdrive&response_type=code&access_type=offline&approval_prompt=force\n",
      "Please enter the verification code: Access token retrieved correctly.\n"
     ]
    }
   ],
   "source": [
    "# !apt-get install -y -qq software-properties-common python-software-properties module-init-tools\n",
    "# !wget https://launchpad.net/~alessandro-strada/+archive/ubuntu/google-drive-ocamlfuse-beta/+build/15331130/+files/google-drive-ocamlfuse_0.7.0-0ubuntu1_amd64.deb\n",
    "# !dpkg -i google-drive-ocamlfuse_0.7.0-0ubuntu1_amd64.deb\n",
    "# !apt-get install -f\n",
    "\n",
    "!add-apt-repository -y ppa:alessandro-strada/google-drive-ocamlfuse-beta\n",
    "!apt-get update\n",
    "!apt-get install google-drive-ocamlfuse\n",
    "!apt-get -y install -qq fuse\n",
    "from google.colab import auth\n",
    "auth.authenticate_user()\n",
    "from oauth2client.client import GoogleCredentials\n",
    "creds = GoogleCredentials.get_application_default()\n",
    "import getpass\n",
    "!google-drive-ocamlfuse -headless -id={creds.client_id} -secret={creds.client_secret} < /dev/null 2>&1 | grep URL\n",
    "vcode = getpass.getpass()\n",
    "!echo {vcode} | google-drive-ocamlfuse -headless -id={creds.client_id} -secret={creds.client_secret}"
   ]
  },
  {
   "cell_type": "markdown",
   "metadata": {
    "id": "_OLZzuMdZ2gS",
    "colab_type": "text"
   },
   "source": [
    "## Mount"
   ]
  },
  {
   "cell_type": "code",
   "execution_count": 0,
   "metadata": {
    "id": "7wLnkKF4Z2ES",
    "colab_type": "code",
    "colab": {}
   },
   "outputs": [],
   "source": [
    "!mkdir -p drive\n",
    "!google-drive-ocamlfuse drive"
   ]
  },
  {
   "cell_type": "markdown",
   "metadata": {
    "id": "aswLVS0hZ_iR",
    "colab_type": "text"
   },
   "source": [
    "## Sync data"
   ]
  },
  {
   "cell_type": "code",
   "execution_count": 0,
   "metadata": {
    "id": "orfk2TW9Z-m_",
    "colab_type": "code",
    "outputId": "f7b01e61-932e-404d-cd01-a67d73277113",
    "colab": {
     "base_uri": "https://localhost:8080/",
     "height": 34.0
    }
   },
   "outputs": [
    {
     "name": "stdout",
     "output_type": "stream",
     "text": [
      "Clearing cache...done\n"
     ]
    }
   ],
   "source": [
    "!google-drive-ocamlfuse -cc"
   ]
  },
  {
   "cell_type": "code",
   "execution_count": 0,
   "metadata": {
    "id": "fu__sU8_aMMv",
    "colab_type": "code",
    "outputId": "e31030ff-d349-400b-de58-fd813de5354a",
    "colab": {
     "base_uri": "https://localhost:8080/",
     "height": 238.0
    }
   },
   "outputs": [
    {
     "name": "stdout",
     "output_type": "stream",
     "text": [
      "total 48\n",
      "drwxr-xr-x 2 root root 4096 Nov  9 18:46 .\n",
      "drwxr-xr-x 2 root root 4096 Nov  7 13:11 ..\n",
      "drwxr-xr-x 2 root root 4096 Nov  9 18:50 CNN_MLP\n",
      "drwxr-xr-x 2 root root 4096 Dec  9 16:53 data_augment_mse_larger_pooling_dropout_CNN_MLP\n",
      "drwxr-xr-x 2 root root 4096 Dec 13 19:56 large_batch_dimension_unit_larger_pooling_dropout_CNN_MLP\n",
      "drwxr-xr-x 2 root root 4096 Nov 27 23:09 larger_pooling_dropout_CNN_MLP\n",
      "drwxr-xr-x 2 root root 4096 Dec  4 14:46 mse_larger_pooling_dropout_CNN_MLP\n",
      "drwxr-xr-x 2 root root 4096 Nov 20 00:46 Pooling_Dropout_CNN_MLP\n",
      "drwxr-xr-x 2 root root 4096 Nov 21 23:31 pooling_dropout_decay_scheduler_CNN_MLP\n",
      "drwxr-xr-x 2 root root 4096 Nov 19 17:58 smaller_normalized_CNN_MLP\n",
      "drwxr-xr-x 2 root root 4096 Nov 28 23:13 task_subset_larger_pooling_dropout_CNN_MLP\n",
      "drwxr-xr-x 2 root root 4096 Dec 12 13:03 task_subset_mse_larger_pooling_dropout_CNN_MLP\n"
     ]
    }
   ],
   "source": [
    "!ls -la \"drive/Research Projects/Meta-Learning/v1/models\""
   ]
  },
  {
   "cell_type": "markdown",
   "metadata": {
    "id": "vR-CY0lA0dyg",
    "colab_type": "text"
   },
   "source": [
    "## Clear up old checkpoints"
   ]
  },
  {
   "cell_type": "code",
   "execution_count": 0,
   "metadata": {
    "id": "bETLlvyauOm4",
    "colab_type": "code",
    "colab": {}
   },
   "outputs": [],
   "source": [
    "!find \"drive/Research Projects/Meta-Learning/v1/models/CNN_MLP\" -type f ! -name '*0.pth' -type f !  -name '*5.pth' -type f !  -name 'results*'"
   ]
  },
  {
   "cell_type": "code",
   "execution_count": 0,
   "metadata": {
    "id": "7-cRQaJ68UeE",
    "colab_type": "code",
    "colab": {}
   },
   "outputs": [],
   "source": [
    "!find \"drive/Research Projects/Meta-Learning/v1/models/pooling_dropout_decay_scheduler_CNN_MLP\" -type f ! -name '*0.pth' -type f !  -name '*5.pth' -type f !  -name 'results*' -delete"
   ]
  },
  {
   "cell_type": "markdown",
   "metadata": {
    "id": "eUnlhBbB9PAk",
    "colab_type": "text"
   },
   "source": [
    "# PyTorch\n",
    "\n",
    "## Define the dataset loader"
   ]
  },
  {
   "cell_type": "code",
   "execution_count": 0,
   "metadata": {
    "id": "pS6b1AD-gZU2",
    "colab_type": "code",
    "colab": {}
   },
   "outputs": [],
   "source": [
    "import torch\n",
    "from torch.utils.data import Dataset, DataLoader\n",
    "import random\n",
    "import h5py\n",
    "\n",
    "# META_LEARNING_DATA = 'drive/Research Projects/Meta-Learning/v1/CLEVR_meta_learning_uint8.h5'\n",
    "# Switched to improved format, fixed an ordering bug\n",
    "\n",
    "\n",
    "class MetaLearningH5Dataset(Dataset):\n",
    "    def __init__(self, in_file, transform=None, start_index=0,\n",
    "                end_index=None, query_subset=None):\n",
    "        super(MetaLearningH5Dataset, self).__init__()\n",
    "        self.file = h5py.File(in_file, 'r')\n",
    "        self.transform = transform\n",
    "        \n",
    "        self.start_index = start_index\n",
    "        self.end_index = end_index\n",
    "        if self.end_index is None:\n",
    "            self.end_index = self.file['X'].shape[0]\n",
    "\n",
    "        self.num_images = self.end_index - self.start_index\n",
    "        self.query_length = self.file['Q'].shape[2]\n",
    "        self.total_queries_per_image = self.file['Q'].shape[1]\n",
    "        \n",
    "        if query_subset is None:\n",
    "            query_subset = np.arange(self.total_queries_per_image)\n",
    "        \n",
    "        self.query_subset = query_subset\n",
    "        self.active_queries_per_image = len(self.query_subset)\n",
    "            \n",
    "    def _compute_indices(self, index):\n",
    "        image_index = self.start_index + (index // self.active_queries_per_image)\n",
    "        query_index = index % self.active_queries_per_image\n",
    "        # index from the query to the subset \n",
    "        actual_query_index = self.query_subset[query_index]\n",
    "        return image_index, actual_query_index\n",
    "\n",
    "    def __getitem__(self, index):\n",
    "        image_index, query_index = self._compute_indices(index)\n",
    "        \n",
    "        x = self.file['X'][image_index, ...]\n",
    "        q = self.file['Q'][image_index, query_index, ...]\n",
    "        y = self.file['y'][image_index, query_index]\n",
    "        \n",
    "        # Preprocessing each image\n",
    "        if self.transform is not None:\n",
    "            x = self.transform(x)        \n",
    "        \n",
    "        return (x, q, y), index\n",
    " \n",
    "    def __len__(self):\n",
    "        return self.num_images * self.active_queries_per_image\n",
    "    \n",
    "    \n",
    "class MetaLearningH5DatasetFromDescription(MetaLearningH5Dataset):\n",
    "     def __init__(self, in_file, transform=None, start_index=0,\n",
    "                 end_index=None, query_subset=None,\n",
    "                 num_dimensions=2, features_per_dimension=(10, 11)):\n",
    "        super(MetaLearningH5DatasetFromDescription, self).__init__(\n",
    "            in_file, transform, start_index, end_index, query_subset)\n",
    "        \n",
    "        self.num_dimensions = num_dimensions\n",
    "        self.features_per_dimension = features_per_dimension\n",
    "        \n",
    "     def __getitem__(self, index):\n",
    "        image_index, query_index = self._compute_indices(index)\n",
    "\n",
    "        x = self.file['X'][image_index, ...]\n",
    "        # TODO: for simple queries I can use y, but I will compute y, because I'll need to later\n",
    "        # y = self.file['y'][image_index, actual_query_index]\n",
    "       \n",
    "        desc = self.file['D'][image_index]\n",
    "        y = int(np.any(desc == query_index))\n",
    "        q = np.zeros((self.num_dimensions + self.total_queries_per_image,))\n",
    "        # TODO: generalize for 2-item queries and 3rd dimensions\n",
    "        q[0] = query_index < self.features_per_dimension[0]\n",
    "        q[1] = 1 - q[0]\n",
    "        q[self.num_dimensions + query_index] = 1\n",
    "        \n",
    "        # Preprocessing each image\n",
    "        if self.transform is not None:\n",
    "            x = self.transform(x)  \n",
    "            \n",
    "        return (x, q, y), index"
   ]
  },
  {
   "cell_type": "markdown",
   "metadata": {
    "id": "y99T8yYBxCEn",
    "colab_type": "text"
   },
   "source": [
    "## Define the basic model and training routine\n",
    "\n",
    "Aided by https://github.com/kimhc6028/relational-networks/blob/master/model.py"
   ]
  },
  {
   "cell_type": "code",
   "execution_count": 0,
   "metadata": {
    "id": "KHSZ3flu_5al",
    "colab_type": "code",
    "colab": {}
   },
   "outputs": [],
   "source": [
    "import torch\n",
    "import torch.nn as nn\n",
    "import torch.nn.functional as F\n",
    "import torch.optim as optim\n",
    "from torch.autograd import Variable\n",
    "from torchvision import transforms\n",
    "from torchsummary import summary\n",
    "\n",
    "import wandb\n",
    "\n",
    "import numpy as np\n",
    "import matplotlib.pyplot as plt\n",
    "from sklearn.metrics import roc_auc_score\n",
    "\n",
    "from collections import defaultdict\n",
    "from datetime import datetime\n",
    "import pickle\n",
    "import os\n",
    "\n",
    "\n",
    "DEFAULT_SAVE_DIR = 'drive/Research Projects/Meta-Learning/v1/models'\n",
    "DEFAULT_NUM_EPOCHS = 10\n",
    "DEFAULT_NUM_BATCHES_TO_PRINT = 100\n",
    "\n",
    "DEFAULT_CONV_FILTER_SIZES = (24, 24, 24, 24)\n",
    "DEFAULT_MLP_LAYER_SIZES = (256, 64, 16, 4)\n",
    "\n",
    "class ConvInputModel(nn.Module):\n",
    "    def __init__(self, filter_sizes=DEFAULT_CONV_FILTER_SIZES):\n",
    "        super(ConvInputModel, self).__init__()\n",
    "        \n",
    "        self.conv1 = nn.Conv2d(3, filter_sizes[0], 3, stride=2, padding=1)\n",
    "        self.batchNorm1 = nn.BatchNorm2d(filter_sizes[0])\n",
    "        self.conv2 = nn.Conv2d(filter_sizes[0], filter_sizes[1], 3, stride=2, padding=1)\n",
    "        self.batchNorm2 = nn.BatchNorm2d(filter_sizes[1])\n",
    "        self.conv3 = nn.Conv2d(filter_sizes[1], filter_sizes[2], 3, stride=2, padding=1)\n",
    "        self.batchNorm3 = nn.BatchNorm2d(filter_sizes[2])\n",
    "        self.conv4 = nn.Conv2d(filter_sizes[2], filter_sizes[3], 3, stride=2, padding=1)\n",
    "        self.batchNorm4 = nn.BatchNorm2d(filter_sizes[3])\n",
    "\n",
    "        \n",
    "    def forward(self, img):\n",
    "        \"\"\"convolution\"\"\"\n",
    "        x = self.conv1(img)\n",
    "        x = F.relu(x)\n",
    "        x = self.batchNorm1(x)\n",
    "        x = self.conv2(x)\n",
    "        x = F.relu(x)\n",
    "        x = self.batchNorm2(x)\n",
    "        x = self.conv3(x)\n",
    "        x = F.relu(x)\n",
    "        x = self.batchNorm3(x)\n",
    "        x = self.conv4(x)\n",
    "        x = F.relu(x)\n",
    "        x = self.batchNorm4(x)\n",
    "        return x\n",
    "\n",
    "  \n",
    "class FCOutputModel(nn.Module):\n",
    "    def __init__(self, layer_sizes=DEFAULT_MLP_LAYER_SIZES, log_softmax=True):\n",
    "        super(FCOutputModel, self).__init__()\n",
    "\n",
    "        self.fc2 = nn.Linear(layer_sizes[0], layer_sizes[1])\n",
    "        self.fc3 = nn.Linear(layer_sizes[1], layer_sizes[2])\n",
    "        self.fc4 = nn.Linear(layer_sizes[2], layer_sizes[3])\n",
    "        self.fc5 = nn.Linear(layer_sizes[3], 2)\n",
    "        self.log_softmax = log_softmax\n",
    "\n",
    "    def forward(self, x):\n",
    "        x = self.fc2(x)\n",
    "        x = F.relu(x)\n",
    "        # x = F.dropout(x)\n",
    "        x = self.fc3(x)\n",
    "        x = F.relu(x)\n",
    "        x = self.fc4(x)\n",
    "        x = F.relu(x)\n",
    "        x = self.fc5(x)\n",
    "        if self.log_softmax:\n",
    "            return F.log_softmax(x, dim=1)\n",
    "        else:\n",
    "            return F.softmax(x, dim=1)\n",
    "  \n",
    "\n",
    "class BasicModel(nn.Module):\n",
    "    def __init__(self, name, use_mse=False,\n",
    "                 save_dir=DEFAULT_SAVE_DIR, mse_threshold=0.5):\n",
    "        super(BasicModel, self).__init__()\n",
    "        \n",
    "        self.name = name\n",
    "        self.use_mse = use_mse\n",
    "        self.mse_threshold = mse_threshold\n",
    "        self.save_dir = save_dir\n",
    "        self.optimizer = None\n",
    "        self._init_dir()\n",
    "        \n",
    "        self.train_accuracies = []\n",
    "        self.train_losses = []\n",
    "        self.test_accuracies = []\n",
    "        self.test_losses = []\n",
    "        self.train_aucs = []\n",
    "        self.test_aucs = []\n",
    "\n",
    "    def train_(self, input_img, input_query, label):\n",
    "        if self.optimizer is None:\n",
    "            self._create_optimizer()\n",
    "        \n",
    "        self.optimizer.zero_grad()\n",
    "        output = self(input_img, input_query)\n",
    "        \n",
    "        if self.use_mse:\n",
    "#             target = np.zeros((64, 2))\n",
    "#             target[np.arange(output.shape[0]), label.data.numpy()] = 1\n",
    "#             target = torch.from_numpy(target).to(label.device)\n",
    "#             loss = F.mse_loss(output, target)\n",
    "            output = torch.squeeze(output)\n",
    "            loss = F.mse_loss(output, label.to(torch.float))\n",
    "            pred = output.data > self.mse_threshold\n",
    "            pred = pred.to(torch.long)\n",
    "            \n",
    "        else:\n",
    "            loss = F.nll_loss(output, label)\n",
    "            pred = output.data.max(1)[1]\n",
    "            \n",
    "        loss.backward()\n",
    "        self.optimizer.step()\n",
    "        \n",
    "        correct = pred.eq(label.data).cpu().sum()\n",
    "        accuracy = correct * 100. / len(label)\n",
    "        auc = roc_auc_score(label.data.cpu().numpy(), pred.cpu().numpy())\n",
    "        \n",
    "        return accuracy, loss.item(), auc\n",
    "        \n",
    "    def test_(self, input_img, input_query, label, training=False):\n",
    "        output = self(input_img, input_query)\n",
    "        \n",
    "        if self.use_mse:\n",
    "#             target = np.zeros((64, 2))\n",
    "#             target[np.arange(output.shape[0]), label.data.numpy()] = 1\n",
    "#             target = torch.from_numpy(target).to(label.device)\n",
    "#             loss = F.mse_loss(output, target)\n",
    "            output = torch.squeeze(output)\n",
    "            loss = F.mse_loss(output, label.to(torch.float))\n",
    "            pred = output.data > self.mse_threshold\n",
    "            pred = pred.to(torch.long)\n",
    "            \n",
    "            \n",
    "        else:\n",
    "            loss = F.nll_loss(output, label)\n",
    "            pred = output.data.max(1)[1]\n",
    "            \n",
    "        correct = pred.eq(label.data).cpu()\n",
    "        accuracy = correct.sum() * 100. / len(label)\n",
    "        auc = roc_auc_score(label.data.cpu().numpy(), pred.cpu().numpy())\n",
    "        \n",
    "        return accuracy, loss.item(), auc, correct\n",
    "\n",
    "    def save_model(self, epoch=None, **kwargs):            \n",
    "        if epoch is None:\n",
    "            epoch = len(self.train_accuracies)\n",
    "        \n",
    "        torch.save(self.state_dict(), self._save_path(epoch))\n",
    "            \n",
    "        results = dict(epoch=epoch, \n",
    "                       train_accuracies=self.train_accuracies,\n",
    "                       train_losses=self.train_losses, \n",
    "                       test_accuracies=self.test_accuracies,\n",
    "                       test_losses=self.test_losses,\n",
    "                       train_aucs=self.train_aucs,\n",
    "                       test_aucs=self.test_aucs,\n",
    "                       **kwargs)\n",
    "    \n",
    "        with open(f'{self._save_dir()}/results.pickle', 'wb') as f:\n",
    "            pickle.dump(results, f)\n",
    "        \n",
    "    def load_model(self, epoch=None):\n",
    "        if epoch == 0:\n",
    "            print('Warning: asked to load model with epoch 0. Ignoring...')\n",
    "            return\n",
    "        \n",
    "        with open(f'{self._save_dir()}/results.pickle', 'rb') as f:\n",
    "            results = pickle.load(f)\n",
    "            \n",
    "        self.train_accuracies = results.pop('train_accuracies')\n",
    "        self.train_losses = results.pop('train_losses')\n",
    "        self.test_accuracies = results.pop('test_accuracies')\n",
    "        self.test_losses = results.pop('test_losses')\n",
    "        self.train_aucs = results.pop('train_aucs')\n",
    "        self.test_aucs = results.pop('test_aucs')\n",
    "        \n",
    "        if epoch is None:\n",
    "            epoch = len(self.train_accuracies)\n",
    "        \n",
    "        self.load_state_dict(torch.load(self._save_path(epoch)))\n",
    "        \n",
    "        return results\n",
    "        \n",
    "    def _save_path(self, epoch):\n",
    "        return f'{self._save_dir()}/epoch_{epoch:02d}.pth'\n",
    "    \n",
    "    def _save_dir(self):\n",
    "        return f'{self.save_dir}/{self.name}'\n",
    "    \n",
    "    def _init_dir(self):\n",
    "        os.makedirs(self._save_dir(), exist_ok=True)\n",
    "            \n",
    "        print(os.system(f'ls -laR {self._save_dir()}'))\n",
    "    \n",
    "    def _create_optimizer(self):\n",
    "        raise NotImplementedError()\n",
    "        \n",
    "    def post_test(self, test_loss):\n",
    "        pass\n",
    "\n",
    "        \n",
    "class CNN_MLP(BasicModel):\n",
    "    def __init__(self, query_length, conv_filter_sizes=DEFAULT_CONV_FILTER_SIZES, \n",
    "                 mlp_layer_sizes=DEFAULT_MLP_LAYER_SIZES, conv_output_size=7200, \n",
    "                 lr=1e-4,\n",
    "                 name='CNN_MLP', save_dir=DEFAULT_SAVE_DIR):\n",
    "        super(CNN_MLP, self).__init__(name, start_epoch, save_dir)\n",
    "\n",
    "        self.query_length = query_length\n",
    "        self.conv  = ConvInputModel(conv_filter_sizes)\n",
    "        self.fc1   = nn.Linear(conv_output_size + query_length, mlp_layer_sizes[0])  # query concatenated to all\n",
    "        self.fcout = FCOutputModel(mlp_layer_sizes)\n",
    "        self.lr = lr\n",
    "        \n",
    "    def _create_optimizer(self):\n",
    "        self.optimizer = optim.Adam(self.parameters(), lr=self.lr)\n",
    "  \n",
    "    def forward(self, img, query):\n",
    "        \n",
    "        x = self.conv(img) ## x = (16 x 24 x 15 x 20)\n",
    "        \"\"\"fully connected layers\"\"\"\n",
    "        x = x.view(x.size(0), -1)\n",
    "        \n",
    "        x_ = torch.cat((x, query), 1)  # Concat query - as a float?\n",
    "        \n",
    "        x_ = self.fc1(x_)\n",
    "        x_ = F.relu(x_)\n",
    "        \n",
    "        return self.fcout(x_) \n",
    "    \n",
    "    \n",
    "def now():\n",
    "    return datetime.now().strftime('%Y-%m-%d %H:%M:%S')\n",
    "\n",
    "      \n",
    "def train_epoch(model, dataloader, cuda=True, \n",
    "                num_batches_to_print=DEFAULT_NUM_BATCHES_TO_PRINT):\n",
    "    accuracies = []\n",
    "    losses = []\n",
    "    aucs = []\n",
    "    for b, ((X, Q, y), indices) in enumerate(dataloader):\n",
    "        if cuda:\n",
    "            X = X.cuda()\n",
    "            Q = Q.cuda()\n",
    "            y = y.cuda()\n",
    "        \n",
    "        images = Variable(X)\n",
    "        queries = Variable(Q).float()\n",
    "        labels = Variable(y).long()\n",
    "\n",
    "        acc, loss, auc = model.train_(images, queries, labels)\n",
    "        accuracies.append(acc)\n",
    "        losses.append(loss)\n",
    "        aucs.append(auc)\n",
    "\n",
    "        if (b + 1) % num_batches_to_print == 0:\n",
    "            print(f'{now()}: After batch {b + 1}, average acc is {np.mean(accuracies):.3f} and average loss is {np.mean(losses):.3f}')        \n",
    "        \n",
    "    model.train_accuracies.append(np.mean(accuracies))\n",
    "    model.train_losses.append(np.mean(losses))\n",
    "    model.train_aucs.append(np.mean(aucs))\n",
    "        \n",
    "    return accuracies, losses, aucs\n",
    "        \n",
    "        \n",
    "def test(model, dataloader, cuda=True, num_batches_to_test=None, training=False): \n",
    "    accuracies = []\n",
    "    losses = []\n",
    "    aucs = []\n",
    "    correct_per_query = defaultdict(list)\n",
    "    for b, ((X, Q, y), indices) in enumerate(dataloader):\n",
    "        if cuda:\n",
    "            X = X.cuda()\n",
    "            Q = Q.cuda()\n",
    "            y = y.cuda()\n",
    "        \n",
    "        images = Variable(X)\n",
    "        queries = Variable(Q).float()\n",
    "        labels = Variable(y).long()\n",
    "\n",
    "        acc, loss, auc, correct = model.test_(images, queries, labels, training)\n",
    "        accuracies.append(acc)\n",
    "        losses.append(loss)\n",
    "        aucs.append(auc)\n",
    "        \n",
    "        for query, result in zip(queries.cpu(), correct):\n",
    "            correct_per_query[np.argmax(query.numpy())].append(result.numpy())\n",
    "        \n",
    "        if (num_batches_to_test is not None) and (b >= num_batches_to_test - 1):\n",
    "            break\n",
    "           \n",
    "    for query_key in correct_per_query:\n",
    "        correct_per_query[query_key] = np.array(correct_per_query[query_key])\n",
    "            \n",
    "    model.test_accuracies.append(np.mean(accuracies))\n",
    "    mean_loss = np.mean(losses)\n",
    "    model.test_losses.append(mean_loss)\n",
    "    model.post_test(mean_loss)\n",
    "    model.test_aucs.append(np.mean(aucs))\n",
    "            \n",
    "    return accuracies, losses, aucs, correct_per_query\n",
    "        \n",
    "\n",
    "def mid_train_plot(model, epochs_to_test):\n",
    "    plt.figure(figsize=(12, 4))\n",
    "    epoch = len(model.train_losses)\n",
    "    plt.suptitle(f'After epoch {epoch}')\n",
    "    train_x_values = np.arange(1, epoch + 1) \n",
    "    test_x_values = np.arange(1, len(model.test_losses) + 1) * epochs_to_test\n",
    "    \n",
    "    loss_ax = plt.subplot(1, 3, 1)\n",
    "    loss_ax.set_title('Loss')\n",
    "    loss_ax.plot(train_x_values, model.train_losses, label='Train')\n",
    "    loss_ax.plot(test_x_values, model.test_losses, label='Test')\n",
    "    loss_ax.legend(loc='best')\n",
    "    \n",
    "    acc_ax = plt.subplot(1, 3, 2)\n",
    "    acc_ax.set_title('Accuracy')\n",
    "    acc_ax.plot(train_x_values, model.train_accuracies, label='Train')\n",
    "    acc_ax.plot(test_x_values, model.test_accuracies, label='Test')\n",
    "    acc_ax.legend(loc='best')\n",
    "    \n",
    "    auc_ax = plt.subplot(1, 3, 3)\n",
    "    auc_ax.set_title('AUC')\n",
    "    auc_ax.plot(train_x_values, model.train_aucs, label='Train')\n",
    "    auc_ax.plot(test_x_values, model.test_aucs, label='Test')\n",
    "    auc_ax.legend(loc='best')\n",
    "    \n",
    "    plt.show()\n",
    "    \n",
    "    \n",
    "def train(model, train_dataloader, test_dataloader, num_epochs=100, \n",
    "          epochs_to_test=5, epochs_to_graph=None, cuda=True,\n",
    "          num_batches_to_print=DEFAULT_NUM_BATCHES_TO_PRINT, save=True,\n",
    "          num_batches_to_test=None, start_epoch=0):\n",
    "    \n",
    "    if epochs_to_graph is None:\n",
    "        epochs_to_graph = epochs_to_test\n",
    "    \n",
    "    test_correct_per_query = []\n",
    "    \n",
    "    wandb.watch(model)\n",
    "\n",
    "    for epoch in range(start_epoch + 1, start_epoch + num_epochs + 1):\n",
    "        train_acc, train_loss, train_auc = train_epoch(model, train_dataloader, cuda, num_batches_to_print)\n",
    "        print(f'{now()}: After epoch {epoch}, TRAIN average acc is {np.mean(train_acc):.4f}, average loss is {np.mean(train_loss):.4f}, and average AUC is {np.mean(train_auc):.4f}')\n",
    "        \n",
    "        if save:\n",
    "            model.save_model(test_correct_per_query=test_correct_per_query)\n",
    "        \n",
    "        if epoch % epochs_to_test == 0:\n",
    "            test_acc, test_loss, test_auc, test_cpq = test(model, test_dataloader, cuda, num_batches_to_test, True)\n",
    "            print(f'{now()}: After epoch {epoch}, TEST average acc is {np.mean(test_acc):.4f}, average loss is {np.mean(test_loss):.4f}, and average AUC is {np.mean(test_auc):.4f}')\n",
    "            test_correct_per_query.append(test_cpq)\n",
    "            wandb.log({'Train Accuracy': np.mean(train_acc), \n",
    "                       'Train Loss': np.mean(train_loss),\n",
    "                       'Train AUC': np.mean(train_auc),\n",
    "                       'Test Accuracy': np.mean(test_acc), \n",
    "                       'Test Loss': np.mean(test_loss),\n",
    "                       'Test AUC': np.mean(test_auc)},\n",
    "                     step=epoch)\n",
    "            \n",
    "        if epoch % epochs_to_graph == 0:\n",
    "            mid_train_plot(model, epochs_to_test)\n",
    "    \n",
    "    # TODO: implement test-error based stopping\n",
    "    \n",
    "    return test_correct_per_query\n",
    "    \n",
    "    '''\n",
    "    input_img = torch.FloatTensor(batch_size, 240, 320, 3)\n",
    "    input_query = torch.FloatTensor(batch_size, dataset.query_length)\n",
    "    label = torch.LongTensor(batch_size)\n",
    "\n",
    "    model.cuda()\n",
    "    input_img = input_img.cuda()\n",
    "    input_query = input_qst.cuda()\n",
    "    label = label.cuda()\n",
    "    \n",
    "    input_img_var = Variable(input_img)\n",
    "    input_query_var = Variable(input_qst)\n",
    "    label_var = Variable(label)\n",
    "    '''\n",
    "    \n",
    "    "
   ]
  },
  {
   "cell_type": "markdown",
   "metadata": {
    "id": "p-yrPkIwTm1o",
    "colab_type": "text"
   },
   "source": [
    "## Create data loader, normalize data"
   ]
  },
  {
   "cell_type": "code",
   "execution_count": 0,
   "metadata": {
    "id": "r3AYgvVeTp8Y",
    "colab_type": "code",
    "outputId": "a9636b19-b35e-4f5a-f54e-ff1b805ab1a4",
    "colab": {
     "base_uri": "https://localhost:8080/",
     "height": 51.0
    }
   },
   "outputs": [
    {
     "name": "stdout",
     "output_type": "stream",
     "text": [
      "[0.4606134  0.45282578 0.44267213]\n",
      "[0.10389671 0.10068669 0.10868205]\n"
     ]
    }
   ],
   "source": [
    "META_LEARNING_DATA = 'drive/Research Projects/Meta-Learning/v1/CLEVR_meta_learning_uint8_desc.h5'\n",
    "META_LEARNING_DATA_SMALL = 'drive/Research Projects/Meta-Learning/v1/CLEVR_meta_learning_small_uint8.h5'\n",
    "BATCH_SIZE = 512 #64\n",
    "NUM_WORKERS = 1\n",
    "\n",
    "DOWNSAMPLE_SIZE = (96, 128)\n",
    "TEST_TRAIN_SPLIT_INDEX =  4096 * 7 // 8 # 512 * 7 // 8 #\n",
    "\n",
    "to_tensor = transforms.ToTensor()\n",
    "resize = transforms.Resize(DOWNSAMPLE_SIZE)\n",
    "to_pil = transforms.ToPILImage()\n",
    "\n",
    "# TODO: why did I have to_tensor.float()? Add it back in later?\n",
    "unnormalized_transformer = transforms.Compose([\n",
    "    to_pil,\n",
    "    resize,\n",
    "    to_tensor\n",
    "])\n",
    "\n",
    "\n",
    "unnormalized_train_dataset = MetaLearningH5DatasetFromDescription(META_LEARNING_DATA, # META_LEARNING_DATA_SMALL,\n",
    "                                                     unnormalized_transformer,\n",
    "                                                     end_index=TEST_TRAIN_SPLIT_INDEX)\n",
    "\n",
    "transformed_images = np.stack([unnormalized_transformer(image).numpy() for image in\n",
    "                               unnormalized_train_dataset.file['X']])\n",
    "channel_means = np.mean(transformed_images, (0, 2, 3))\n",
    "channel_stds = np.std(transformed_images, (0, 2, 3))\n",
    "print(channel_means)\n",
    "print(channel_stds)\n",
    "\n",
    "normalizer = transforms.Normalize(torch.from_numpy(channel_means), \n",
    "                                  torch.from_numpy(channel_stds))\n",
    "\n",
    "normalized_transformer = transforms.Compose([\n",
    "    to_pil,\n",
    "    resize,\n",
    "    to_tensor,\n",
    "    normalizer,\n",
    "])\n",
    "\n",
    "\n",
    "normalized_augmenting_transformer = transforms.Compose([\n",
    "    to_pil,\n",
    "    resize,\n",
    "    transforms.RandomHorizontalFlip(),\n",
    "    transforms.RandomVerticalFlip(),\n",
    "    to_tensor,\n",
    "    normalizer,\n",
    "])\n",
    "\n",
    "# def normalized_transformer(img):\n",
    "#     return normalizer(unnormalized_transformer(img))\n",
    "\n",
    "normalized_train_dataset = MetaLearningH5DatasetFromDescription(META_LEARNING_DATA, # META_LEARNING_DATA_SMALL,\n",
    "                                                    normalized_augmenting_transformer, # augment only in train\n",
    "                                                    end_index=TEST_TRAIN_SPLIT_INDEX)\n",
    "train_dataloader = DataLoader(normalized_train_dataset, batch_size=BATCH_SIZE,\n",
    "                              shuffle=True, num_workers=1, pin_memory=True)\n",
    "\n",
    "normalized_test_dataset = MetaLearningH5DatasetFromDescription(META_LEARNING_DATA, # META_LEARNING_DATA_SMALL,\n",
    "                                                   normalized_transformer, # augment only in train\n",
    "                                                   start_index=TEST_TRAIN_SPLIT_INDEX)\n",
    "test_dataloader = DataLoader(normalized_test_dataset, batch_size=BATCH_SIZE,\n",
    "                             shuffle=True, num_workers=1, pin_memory=True)\n",
    "\n",
    "# small_X = unnormalized_train_dataset.file['X'][:10]\n",
    "# small_X_list = [unnormalized_transformer(x).numpy() for x in small_X]\n",
    "# print(np.stack(small_X_list).shape)\n",
    "# print(np.mean(np.stack(small_X_list), (0, 2, 3)))\n",
    "# print(np.mean([np.mean(x, (1, 2)) for x in small_X_list], 0))"
   ]
  },
  {
   "cell_type": "markdown",
   "metadata": {
    "id": "5FfXv_Z9atLZ",
    "colab_type": "text"
   },
   "source": [
    "## Define a model"
   ]
  },
  {
   "cell_type": "code",
   "execution_count": 0,
   "metadata": {
    "id": "Mg-D-HOVymW5",
    "colab_type": "code",
    "outputId": "8b09b00b-41b8-4bef-8de2-1dc99185e766",
    "colab": {
     "base_uri": "https://localhost:8080/",
     "height": 334.0
    }
   },
   "outputs": [
    {
     "ename": "NameError",
     "evalue": "ignored",
     "traceback": [
      "\u001b[0;31m---------------------------------------------------------------------------\u001b[0m",
      "\u001b[0;31mNameError\u001b[0m                                 Traceback (most recent call last)",
      "\u001b[0;32m<ipython-input-83-ead4765eb1e0>\u001b[0m in \u001b[0;36m<module>\u001b[0;34m()\u001b[0m\n\u001b[1;32m      3\u001b[0m                                    \u001b[0mmlp_layer_sizes\u001b[0m\u001b[0;34m=\u001b[0m\u001b[0;34m(\u001b[0m\u001b[0;36m256\u001b[0m\u001b[0;34m,\u001b[0m \u001b[0;36m256\u001b[0m\u001b[0;34m,\u001b[0m \u001b[0;36m256\u001b[0m\u001b[0;34m,\u001b[0m \u001b[0;36m256\u001b[0m\u001b[0;34m)\u001b[0m\u001b[0;34m,\u001b[0m\u001b[0;34m\u001b[0m\u001b[0;34m\u001b[0m\u001b[0m\n\u001b[1;32m      4\u001b[0m                                    \u001b[0mconv_output_size\u001b[0m\u001b[0;34m=\u001b[0m\u001b[0;36m3072\u001b[0m\u001b[0;34m,\u001b[0m\u001b[0;34m\u001b[0m\u001b[0;34m\u001b[0m\u001b[0m\n\u001b[0;32m----> 5\u001b[0;31m                                    name='smaller_normalized_CNN_MLP')\n\u001b[0m\u001b[1;32m      6\u001b[0m \u001b[0msmaller_normalized_model\u001b[0m\u001b[0;34m.\u001b[0m\u001b[0mcuda\u001b[0m\u001b[0;34m(\u001b[0m\u001b[0;34m)\u001b[0m\u001b[0;34m\u001b[0m\u001b[0;34m\u001b[0m\u001b[0m\n",
      "\u001b[0;32m<ipython-input-81-29764d3bf960>\u001b[0m in \u001b[0;36m__init__\u001b[0;34m(self, query_length, conv_filter_sizes, mlp_layer_sizes, conv_output_size, lr, name, save_dir)\u001b[0m\n\u001b[1;32m    210\u001b[0m                  \u001b[0mlr\u001b[0m\u001b[0;34m=\u001b[0m\u001b[0;36m1e-4\u001b[0m\u001b[0;34m,\u001b[0m\u001b[0;34m\u001b[0m\u001b[0;34m\u001b[0m\u001b[0m\n\u001b[1;32m    211\u001b[0m                  name='CNN_MLP', save_dir=DEFAULT_SAVE_DIR):\n\u001b[0;32m--> 212\u001b[0;31m         \u001b[0msuper\u001b[0m\u001b[0;34m(\u001b[0m\u001b[0mCNN_MLP\u001b[0m\u001b[0;34m,\u001b[0m \u001b[0mself\u001b[0m\u001b[0;34m)\u001b[0m\u001b[0;34m.\u001b[0m\u001b[0m__init__\u001b[0m\u001b[0;34m(\u001b[0m\u001b[0mname\u001b[0m\u001b[0;34m,\u001b[0m \u001b[0mstart_epoch\u001b[0m\u001b[0;34m,\u001b[0m \u001b[0msave_dir\u001b[0m\u001b[0;34m)\u001b[0m\u001b[0;34m\u001b[0m\u001b[0;34m\u001b[0m\u001b[0m\n\u001b[0m\u001b[1;32m    213\u001b[0m \u001b[0;34m\u001b[0m\u001b[0m\n\u001b[1;32m    214\u001b[0m         \u001b[0mself\u001b[0m\u001b[0;34m.\u001b[0m\u001b[0mquery_length\u001b[0m \u001b[0;34m=\u001b[0m \u001b[0mquery_length\u001b[0m\u001b[0;34m\u001b[0m\u001b[0;34m\u001b[0m\u001b[0m\n",
      "\u001b[0;31mNameError\u001b[0m: name 'start_epoch' is not defined"
     ],
     "output_type": "error"
    }
   ],
   "source": [
    "smaller_normalized_model = CNN_MLP(normalized_train_dataset.query_length,  \n",
    "                                   conv_filter_sizes=(16, 32, 48, 64),\n",
    "                                   mlp_layer_sizes=(256, 256, 256, 256),\n",
    "                                   conv_output_size=3072,\n",
    "                                   name='smaller_normalized_CNN_MLP')\n",
    "smaller_normalized_model.cuda()\n"
   ]
  },
  {
   "cell_type": "code",
   "execution_count": 0,
   "metadata": {
    "id": "P-zNX0_oGIov",
    "colab_type": "code",
    "colab": {}
   },
   "outputs": [],
   "source": [
    "train(smaller_normalized_model, train_dataloader, test_dataloader,\n",
    "      num_epochs=100, epochs_to_test=10, num_batches_to_print=1000)"
   ]
  },
  {
   "cell_type": "code",
   "execution_count": 0,
   "metadata": {
    "id": "NTyYm1uAiCDx",
    "colab_type": "code",
    "colab": {}
   },
   "outputs": [],
   "source": [
    "# train another 200 epochs\n",
    "train(smaller_normalized_model, train_dataloader, test_dataloader,\n",
    "      num_epochs=200, epochs_to_test=10, num_batches_to_print=1000, start_epoch=100)"
   ]
  },
  {
   "cell_type": "code",
   "execution_count": 0,
   "metadata": {
    "id": "pngVmeSd-7lh",
    "colab_type": "code",
    "colab": {}
   },
   "outputs": [],
   "source": [
    "# train another 100 epochs\n",
    "train(smaller_normalized_model, train_dataloader, test_dataloader,\n",
    "      num_epochs=100, epochs_to_test=10, num_batches_to_print=1000, start_epoch=300)"
   ]
  },
  {
   "cell_type": "markdown",
   "metadata": {
    "id": "PqmjNFYNgPkW",
    "colab_type": "text"
   },
   "source": [
    "## Looking at the original CLEVR paper:\n",
    "\n",
    "*   For full CLEVR:\n",
    "    * They downsample to 128 x 128, pad to 136 x 136, and then resample down to 128 x 128 and rotate. \n",
    "    * Their full model four conv layers with 24 filters each (3x3), stride 2, ReLU, and batch norm. \n",
    "    * Cross-entropy, Adam, LR of 2.5e-4.\n",
    "*  For Sort-of-CLEVR:\n",
    "    * Images are 75 x 75\n",
    "    * 10k images x 20 questions/image - I currently have sets of 4096 and 512.\n",
    "    * Four conv layers with 32/64/128/256 filters each, ReLU, and batch norm.\n",
    "    * They have two MLPs: *f* is r layers of 2000 units each, *g* is 2000-1000-500-100, both ReLU, with a final layer to produce the output softmax. \n",
    "    \n",
    "This already helped me catch my first mistake, which I will fix above - I blindly had 10 units in the output layer. I reconfigurd it to two now, and changed the architecture there a little bit (reducing layer size a little bit more gradually). This, however, doesn't seem to help. \n",
    "\n",
    "Let's try below with downsampling to 128x128 first.\n",
    "\n",
    "## TO-DO list:\n",
    "* Network architecture:\n",
    "    * ~~Add pooling?~~\n",
    "    * Weight decay? ~~Dropout? Regularize a little bit~~ starting with dropout\n",
    "* ~~Try adding normalization...~~\n",
    "    * ~~Of incoming data - at least zero mean, and maybe even full z-score?~~\n",
    "* ~~If I am downsampling to 128 x 128, why not generate 128 x 128 at first place?~~ currently downsampling to 96 x 128 to preserve aspect ratio.\n",
    "* Figure out async workers in the dataloader, and pin_memory\n",
    "* Implement loss-based or accuracy-based stopping rather than strictly epoch-based\n",
    "* ~~Email Santoro about exact CNN_MLP implementation?~~\n"
   ]
  },
  {
   "cell_type": "code",
   "execution_count": 0,
   "metadata": {
    "id": "yuY_4LacvpED",
    "colab_type": "code",
    "colab": {}
   },
   "outputs": [],
   "source": [
    "class PoolingDropoutConvInputModel(nn.Module):\n",
    "    def __init__(self, filter_sizes=(16, 24, 32, 40), \n",
    "                 dropout=True, p_dropout=0.2):\n",
    "        super(PoolingDropoutConvInputModel, self).__init__()\n",
    "        \n",
    "        self.conv1 = nn.Conv2d(3, filter_sizes[0], 3, stride=1, padding=1)\n",
    "        self.batchNorm1 = nn.BatchNorm2d(filter_sizes[0])\n",
    "        self.conv2 = nn.Conv2d(filter_sizes[0], filter_sizes[1], 3, stride=1, padding=1)\n",
    "        self.batchNorm2 = nn.BatchNorm2d(filter_sizes[1])\n",
    "        self.conv3 = nn.Conv2d(filter_sizes[1], filter_sizes[2], 3, stride=1, padding=1)\n",
    "        self.batchNorm3 = nn.BatchNorm2d(filter_sizes[2])\n",
    "        self.conv4 = nn.Conv2d(filter_sizes[2], filter_sizes[3], 3, stride=1, padding=1)\n",
    "        self.batchNorm4 = nn.BatchNorm2d(filter_sizes[3])\n",
    "        \n",
    "        self.dropout = dropout\n",
    "        self.p_dropout = p_dropout\n",
    "\n",
    "        \n",
    "    def forward(self, img):\n",
    "        \"\"\"convolution\"\"\"\n",
    "        x = self.conv1(img)\n",
    "        x = F.relu(x)\n",
    "        x = self.batchNorm1(x)\n",
    "        x = F.max_pool2d(x, 2)\n",
    "        if self.dropout:\n",
    "            x = F.dropout2d(x, self.p_dropout, self.training)\n",
    "        \n",
    "        x = self.conv2(x)\n",
    "        x = F.relu(x)\n",
    "        x = self.batchNorm2(x)\n",
    "        x = F.max_pool2d(x, 2)\n",
    "        if self.dropout:\n",
    "            x = F.dropout2d(x, self.p_dropout, self.training)\n",
    "        \n",
    "        x = self.conv3(x)\n",
    "        x = F.relu(x)\n",
    "        x = self.batchNorm3(x)\n",
    "        x = F.max_pool2d(x, 2)\n",
    "        if self.dropout:\n",
    "            x = F.dropout2d(x, self.p_dropout, self.training)\n",
    "        \n",
    "        x = self.conv4(x)\n",
    "        x = F.relu(x)\n",
    "        x = self.batchNorm4(x)\n",
    "        x = F.max_pool2d(x, 2)\n",
    "        if self.dropout:\n",
    "            x = F.dropout2d(x, self.p_dropout, self.training)\n",
    "            \n",
    "        return x\n",
    "\n",
    "    \n",
    "class SmallerDropoutFCOutputModel(nn.Module):\n",
    "    def __init__(self, layer_sizes=(256, 256, 256, 256), \n",
    "                 dropout=True, p_dropout=0.5, output_func=F.log_softmax, output_size=2):\n",
    "        super(SmallerDropoutFCOutputModel, self).__init__()\n",
    "\n",
    "        self.fc2 = nn.Linear(layer_sizes[0], layer_sizes[1])\n",
    "        self.fc3 = nn.Linear(layer_sizes[1], layer_sizes[2])\n",
    "        self.fc4 = nn.Linear(layer_sizes[2], layer_sizes[3])\n",
    "        self.fc5 = nn.Linear(layer_sizes[3], output_size)\n",
    "        \n",
    "        self.dropout = dropout\n",
    "        self.p_dropout = p_dropout\n",
    "        self.output_func = output_func\n",
    "\n",
    "    def forward(self, x):\n",
    "        x = self.fc2(x)\n",
    "        x = F.relu(x)\n",
    "        if self.dropout:\n",
    "            x = F.dropout(x, self.p_dropout, self.training)\n",
    "            \n",
    "        x = self.fc3(x)\n",
    "        x = F.relu(x)\n",
    "        if self.dropout:\n",
    "            x = F.dropout(x, self.p_dropout, self.training)\n",
    "            \n",
    "        x = self.fc4(x)\n",
    "        x = F.relu(x)\n",
    "        if self.dropout:\n",
    "            x = F.dropout(x, self.p_dropout, self.training)\n",
    "            \n",
    "        x = self.fc5(x)\n",
    "        \n",
    "        if self.output_func is not None:\n",
    "            return self.output_func(x)\n",
    "        else:\n",
    "            return x\n",
    "#         if self.log_softmax:\n",
    "#             return F.log_softmax(x, dim=1)\n",
    "#         else:\n",
    "#             return F.softmax(x, dim=1)\n",
    "    \n",
    "    \n",
    "class PoolingDropoutCNN_MLP(BasicModel):\n",
    "    def __init__(self, query_length=21, conv_filter_sizes=(16, 24, 32, 40), \n",
    "                 conv_dropout=True, conv_p_dropout=0.2,\n",
    "                 mlp_layer_sizes=(256, 256, 256, 256),\n",
    "                 mlp_dropout=True, mlp_p_dropout=0.5,\n",
    "                 conv_output_size=1920, lr=1e-4, weight_decay=0, use_mse=False,\n",
    "                 name='Pooling_Dropout_CNN_MLP', save_dir=DEFAULT_SAVE_DIR):\n",
    "        super(PoolingDropoutCNN_MLP, self).__init__(name, use_mse, save_dir)\n",
    "\n",
    "        self.query_length = query_length\n",
    "        self.conv  = PoolingDropoutConvInputModel(conv_filter_sizes,\n",
    "                                                  conv_dropout, \n",
    "                                                  conv_p_dropout)\n",
    "        self.fc1   = nn.Linear(conv_output_size + query_length, mlp_layer_sizes[0])  # query concatenated to all\n",
    "        if use_mse:\n",
    "            fc_output_func = lambda x: torch.sigmoid(x)\n",
    "        else:\n",
    "            fc_output_func = lambda x: F.log_softmax(x, dim=1)\n",
    "        self.fcout = SmallerDropoutFCOutputModel(mlp_layer_sizes,\n",
    "                                                 mlp_dropout,\n",
    "                                                 mlp_p_dropout,\n",
    "                                                 output_func=fc_output_func,\n",
    "                                                 output_size=use_mse and 1 or 2)\n",
    "        self.lr = lr\n",
    "        self.weight_decay = weight_decay\n",
    "        \n",
    "    def _create_optimizer(self):\n",
    "        self.optimizer = optim.Adam(self.parameters(), lr=self.lr, \n",
    "                                    weight_decay=self.weight_decay)\n",
    "        self.scheduler = optim.lr_scheduler.ReduceLROnPlateau(self.optimizer,\n",
    "            factor=0.5, patience=10, verbose=True)\n",
    "        \n",
    "    def post_test(self, test_loss):\n",
    "        epoch = len(self.test_losses)\n",
    "        if epoch > 100:\n",
    "            self.scheduler.step(test_loss)\n",
    "  \n",
    "    def forward(self, img, query):\n",
    "        \n",
    "        x = self.conv(img) ## x = (16 x 24 x 15 x 20)\n",
    "        \"\"\"fully connected layers\"\"\"\n",
    "        x = x.view(x.size(0), -1)\n",
    "        \n",
    "        x_ = torch.cat((x, query), 1)  # Concat query - as a float?\n",
    "        \n",
    "        x_ = self.fc1(x_)\n",
    "        x_ = F.relu(x_)\n",
    "        \n",
    "        return self.fcout(x_) "
   ]
  },
  {
   "cell_type": "markdown",
   "metadata": {
    "id": "xmZE_ZM7qgr6",
    "colab_type": "text"
   },
   "source": [
    "## Train a model with MSE, and reporting AUC as well"
   ]
  },
  {
   "cell_type": "code",
   "execution_count": 0,
   "metadata": {
    "id": "P2C2kuazqO2k",
    "colab_type": "code",
    "outputId": "f110077f-445a-4748-fa54-803892855b6a",
    "colab": {
     "base_uri": "https://localhost:8080/",
     "height": 357.0
    }
   },
   "outputs": [
    {
     "name": "stdout",
     "output_type": "stream",
     "text": [
      "512\n"
     ]
    },
    {
     "data": {
      "text/plain": [
       "PoolingDropoutCNN_MLP(\n",
       "  (conv): PoolingDropoutConvInputModel(\n",
       "    (conv1): Conv2d(3, 16, kernel_size=(3, 3), stride=(1, 1), padding=(1, 1))\n",
       "    (batchNorm1): BatchNorm2d(16, eps=1e-05, momentum=0.1, affine=True, track_running_stats=True)\n",
       "    (conv2): Conv2d(16, 32, kernel_size=(3, 3), stride=(1, 1), padding=(1, 1))\n",
       "    (batchNorm2): BatchNorm2d(32, eps=1e-05, momentum=0.1, affine=True, track_running_stats=True)\n",
       "    (conv3): Conv2d(32, 48, kernel_size=(3, 3), stride=(1, 1), padding=(1, 1))\n",
       "    (batchNorm3): BatchNorm2d(48, eps=1e-05, momentum=0.1, affine=True, track_running_stats=True)\n",
       "    (conv4): Conv2d(48, 64, kernel_size=(3, 3), stride=(1, 1), padding=(1, 1))\n",
       "    (batchNorm4): BatchNorm2d(64, eps=1e-05, momentum=0.1, affine=True, track_running_stats=True)\n",
       "  )\n",
       "  (fc1): Linear(in_features=3095, out_features=512, bias=True)\n",
       "  (fcout): SmallerDropoutFCOutputModel(\n",
       "    (fc2): Linear(in_features=512, out_features=512, bias=True)\n",
       "    (fc3): Linear(in_features=512, out_features=512, bias=True)\n",
       "    (fc4): Linear(in_features=512, out_features=512, bias=True)\n",
       "    (fc5): Linear(in_features=512, out_features=2, bias=True)\n",
       "  )\n",
       ")"
      ]
     },
     "execution_count": 13,
     "metadata": {
      "tags": []
     },
     "output_type": "execute_result"
    }
   ],
   "source": [
    "# TODO: consider implementing cosine annealing\n",
    "\n",
    "current_epoch = 594\n",
    "\n",
    "large_batch_dimension_unit_larger_pooling_dropout_CNN_MLP = PoolingDropoutCNN_MLP(\n",
    "    query_length=23,\n",
    "    conv_filter_sizes=(16, 32, 48, 64),\n",
    "    conv_output_size=3072, \n",
    "    mlp_layer_sizes=(512, 512, 512, 512),\n",
    "    lr=1e-4, \n",
    "    weight_decay=1e-4, \n",
    "    # use_mse=True,\n",
    "    name='large_batch_dimension_unit_larger_pooling_dropout_CNN_MLP')\n",
    "large_batch_dimension_unit_larger_pooling_dropout_CNN_MLP.load_model(current_epoch)\n",
    "large_batch_dimension_unit_larger_pooling_dropout_CNN_MLP.cuda()\n",
    "# summary(larger_pooling_dropout_model, [(3, 96, 128), (21,)])"
   ]
  },
  {
   "cell_type": "code",
   "execution_count": 0,
   "metadata": {
    "id": "yB3r37e-gjGx",
    "colab_type": "code",
    "outputId": "0878ed02-6c0a-4333-9703-2be16c2b6f99",
    "colab": {
     "base_uri": "https://localhost:8080/",
     "height": 51.0
    }
   },
   "outputs": [
    {
     "name": "stdout",
     "output_type": "stream",
     "text": [
      "W&B Run: https://app.wandb.ai/None/meta-learning/runs/qe6rpwk9\n",
      "Call `%%wandb` in the cell containing your training loop to display live results.\n"
     ]
    }
   ],
   "source": [
    "os.environ['WANDB_RUN_ID'] ='qe6rpwk9'\n",
    "os.environ['WANDB_RESUME'] = 'must'\n",
    "wandb.init(project=\"meta-learning\")\n",
    "\n",
    "current_model = large_batch_dimension_unit_larger_pooling_dropout_CNN_MLP\n",
    "\n",
    "wandb.config.epochs = 250\n",
    "wandb.config.lr = current_model.lr\n",
    "wandb.config.decay = current_model.weight_decay\n",
    "wandb.config.loss = 'CE'\n",
    "wandb.config.batch_size = train_dataloader.batch_size"
   ]
  },
  {
   "cell_type": "code",
   "execution_count": 0,
   "metadata": {
    "colab_type": "code",
    "id": "Vlj7vIpS3f-p",
    "outputId": "53f8a8e0-3aaa-451c-b4b6-044fc806b16c",
    "colab": {
     "base_uri": "https://localhost:8080/",
     "height": 821.0
    }
   },
   "outputs": [
    {
     "name": "stdout",
     "output_type": "stream",
     "text": [
      "2018-12-17 09:03:22: After epoch 595, TRAIN average acc is 91.2925, average loss is 0.1857, and average AUC is 0.9160\n",
      "2018-12-17 09:04:28: After epoch 595, TEST average acc is 81.1905, average loss is 0.4686, and average AUC is 0.8122\n",
      "Resuming run: https://app.wandb.ai/guy/meta-learning/runs/qe6rpwk9\n",
      "2018-12-17 09:08:24: After epoch 596, TRAIN average acc is 91.2313, average loss is 0.1839, and average AUC is 0.9163\n",
      "2018-12-17 09:09:02: After epoch 596, TEST average acc is 81.7143, average loss is 0.4674, and average AUC is 0.8152\n",
      "2018-12-17 09:13:06: After epoch 597, TRAIN average acc is 91.4626, average loss is 0.1822, and average AUC is 0.9180\n",
      "2018-12-17 09:13:45: After epoch 597, TEST average acc is 81.5714, average loss is 0.4515, and average AUC is 0.8163\n",
      "2018-12-17 09:17:49: After epoch 598, TRAIN average acc is 91.5442, average loss is 0.1797, and average AUC is 0.9193\n",
      "2018-12-17 09:18:28: After epoch 598, TEST average acc is 81.3333, average loss is 0.4653, and average AUC is 0.8120\n",
      "2018-12-17 09:22:33: After epoch 599, TRAIN average acc is 91.3878, average loss is 0.1808, and average AUC is 0.9176\n",
      "2018-12-17 09:23:11: After epoch 599, TEST average acc is 81.6667, average loss is 0.4632, and average AUC is 0.8149\n",
      "2018-12-17 09:27:12: After epoch 600, TRAIN average acc is 91.6531, average loss is 0.1799, and average AUC is 0.9200\n",
      "2018-12-17 09:27:50: After epoch 600, TEST average acc is 81.4762, average loss is 0.4631, and average AUC is 0.8144\n"
     ]
    },
    {
     "data": {
      "image/png": "[encoded data removed]",
      "text/plain": [
       "<matplotlib.figure.Figure at 0x7f4417507eb8>"
      ]
     },
     "metadata": {
      "tags": []
     },
     "output_type": "display_data"
    },
    {
     "data": {
      "text/plain": [
       "[defaultdict(list,\n",
       "             {0: array([1, 1, 1, ..., 0, 1, 1], dtype=uint8),\n",
       "              1: array([1, 1, 1, ..., 1, 1, 0], dtype=uint8)}),\n",
       " defaultdict(list,\n",
       "             {0: array([1, 0, 1, ..., 1, 1, 0], dtype=uint8),\n",
       "              1: array([1, 1, 1, ..., 0, 0, 1], dtype=uint8)}),\n",
       " defaultdict(list,\n",
       "             {0: array([0, 1, 1, ..., 1, 1, 1], dtype=uint8),\n",
       "              1: array([1, 1, 1, ..., 0, 1, 1], dtype=uint8)}),\n",
       " defaultdict(list,\n",
       "             {0: array([1, 1, 0, ..., 1, 1, 0], dtype=uint8),\n",
       "              1: array([1, 1, 0, ..., 1, 1, 1], dtype=uint8)}),\n",
       " defaultdict(list,\n",
       "             {0: array([1, 1, 1, ..., 1, 1, 1], dtype=uint8),\n",
       "              1: array([0, 1, 1, ..., 1, 1, 0], dtype=uint8)}),\n",
       " defaultdict(list,\n",
       "             {0: array([1, 1, 1, ..., 1, 1, 1], dtype=uint8),\n",
       "              1: array([0, 1, 0, ..., 1, 1, 1], dtype=uint8)})]"
      ]
     },
     "execution_count": 15,
     "metadata": {
      "tags": []
     },
     "output_type": "execute_result"
    }
   ],
   "source": [
    "total_epochs = 600\n",
    "wandb.config.update(dict(epochs=total_epochs), allow_val_change=True)\n",
    "\n",
    "train(large_batch_dimension_unit_larger_pooling_dropout_CNN_MLP, train_dataloader, test_dataloader, \n",
    "      num_epochs=total_epochs - current_epoch, epochs_to_test=1, epochs_to_graph=10, \n",
    "      num_batches_to_print=2000, start_epoch=current_epoch)"
   ]
  },
  {
   "cell_type": "code",
   "execution_count": 0,
   "metadata": {
    "id": "FON2WfbickAB",
    "colab_type": "code",
    "colab": {}
   },
   "outputs": [],
   "source": [
    ""
   ]
  },
  {
   "cell_type": "markdown",
   "metadata": {
    "id": "wPUlD8QbkwvW",
    "colab_type": "text"
   },
   "source": [
    "## Create dataset with subset of tasks"
   ]
  },
  {
   "cell_type": "code",
   "execution_count": 0,
   "metadata": {
    "id": "EDJLQqy6kwBr",
    "colab_type": "code",
    "outputId": "2612a893-c364-4ef7-c504-91e6bcaa0db1",
    "colab": {
     "base_uri": "https://localhost:8080/",
     "height": 34.0
    }
   },
   "outputs": [
    {
     "data": {
      "text/plain": [
       "array([17,  8, 15, 18,  5,  0, 11,  4, 19,  1])"
      ]
     },
     "execution_count": 16,
     "metadata": {
      "tags": []
     },
     "output_type": "execute_result"
    }
   ],
   "source": [
    "np.random.seed(33)\n",
    "NUM_TASKS = 10\n",
    "task_subset = np.random.choice(np.arange(normalized_train_dataset.total_queries_per_image), \n",
    "                              NUM_TASKS, replace=False)\n",
    "task_subset"
   ]
  },
  {
   "cell_type": "code",
   "execution_count": 0,
   "metadata": {
    "id": "8ZQyae2llHLL",
    "colab_type": "code",
    "outputId": "05c32e73-1e25-4595-cc24-c3e910af77d4",
    "colab": {
     "base_uri": "https://localhost:8080/",
     "height": 34.0
    }
   },
   "outputs": [
    {
     "name": "stdout",
     "output_type": "stream",
     "text": [
      "35840 5120\n"
     ]
    }
   ],
   "source": [
    "subset_normalized_train_dataset = MetaLearningH5Dataset(META_LEARNING_DATA, # META_LEARNING_DATA_SMALL,\n",
    "                                                           normalized_transformer,\n",
    "                                                           end_index=TEST_TRAIN_SPLIT_INDEX,\n",
    "                                                           query_subset=task_subset)\n",
    "subset_train_dataloader = DataLoader(normalized_train_dataset, batch_size=BATCH_SIZE,\n",
    "                              shuffle=True, num_workers=1, pin_memory=True)\n",
    "\n",
    "subset_normalized_test_dataset = MetaLearningH5Dataset(META_LEARNING_DATA, # META_LEARNING_DATA_SMALL,\n",
    "                                                          normalized_transformer,\n",
    "                                                          start_index=TEST_TRAIN_SPLIT_INDEX,\n",
    "                                                          query_subset=task_subset)\n",
    "subset_test_dataloader = DataLoader(normalized_test_dataset, batch_size=BATCH_SIZE,\n",
    "                             shuffle=True, num_workers=1, pin_memory=True)\n",
    "\n",
    "print(len(subset_normalized_train_dataset), len(subset_normalized_test_dataset))"
   ]
  },
  {
   "cell_type": "code",
   "execution_count": 0,
   "metadata": {
    "id": "O8kAj4vWnGJF",
    "colab_type": "code",
    "outputId": "6efab6ae-c678-422f-f341-828323826fde",
    "colab": {
     "base_uri": "https://localhost:8080/",
     "height": 357.0
    }
   },
   "outputs": [
    {
     "name": "stdout",
     "output_type": "stream",
     "text": [
      "512\n"
     ]
    },
    {
     "data": {
      "text/plain": [
       "PoolingDropoutCNN_MLP(\n",
       "  (conv): PoolingDropoutConvInputModel(\n",
       "    (conv1): Conv2d(3, 16, kernel_size=(3, 3), stride=(1, 1), padding=(1, 1))\n",
       "    (batchNorm1): BatchNorm2d(16, eps=1e-05, momentum=0.1, affine=True, track_running_stats=True)\n",
       "    (conv2): Conv2d(16, 32, kernel_size=(3, 3), stride=(1, 1), padding=(1, 1))\n",
       "    (batchNorm2): BatchNorm2d(32, eps=1e-05, momentum=0.1, affine=True, track_running_stats=True)\n",
       "    (conv3): Conv2d(32, 48, kernel_size=(3, 3), stride=(1, 1), padding=(1, 1))\n",
       "    (batchNorm3): BatchNorm2d(48, eps=1e-05, momentum=0.1, affine=True, track_running_stats=True)\n",
       "    (conv4): Conv2d(48, 64, kernel_size=(3, 3), stride=(1, 1), padding=(1, 1))\n",
       "    (batchNorm4): BatchNorm2d(64, eps=1e-05, momentum=0.1, affine=True, track_running_stats=True)\n",
       "  )\n",
       "  (fc1): Linear(in_features=3093, out_features=512, bias=True)\n",
       "  (fcout): SmallerDropoutFCOutputModel(\n",
       "    (fc2): Linear(in_features=512, out_features=512, bias=True)\n",
       "    (fc3): Linear(in_features=512, out_features=512, bias=True)\n",
       "    (fc4): Linear(in_features=512, out_features=512, bias=True)\n",
       "    (fc5): Linear(in_features=512, out_features=1, bias=True)\n",
       "  )\n",
       ")"
      ]
     },
     "execution_count": 18,
     "metadata": {
      "tags": []
     },
     "output_type": "execute_result"
    }
   ],
   "source": [
    "# TODO: consider implementing cosine annealing\n",
    "\n",
    "current_epoch = 250\n",
    "\n",
    "task_subset_mse_larger_pooling_dropout_CNN_MLP = PoolingDropoutCNN_MLP(\n",
    "    conv_filter_sizes=(16, 32, 48, 64),\n",
    "    conv_output_size=3072, \n",
    "    mlp_layer_sizes=(512, 512, 512, 512),\n",
    "    lr=1e-4, \n",
    "    weight_decay=1e-4, use_mse=True,\n",
    "    name='task_subset_mse_larger_pooling_dropout_CNN_MLP')\n",
    "task_subset_mse_larger_pooling_dropout_CNN_MLP.load_model(current_epoch)\n",
    "task_subset_mse_larger_pooling_dropout_CNN_MLP.cuda()\n",
    "# summary(larger_pooling_dropout_model, [(3, 96, 128), (21,)])"
   ]
  },
  {
   "cell_type": "code",
   "execution_count": 0,
   "metadata": {
    "id": "DixqtBFOg1pM",
    "colab_type": "code",
    "outputId": "b3e898ed-a60a-48fa-9fee-a30f31602655",
    "colab": {
     "base_uri": "https://localhost:8080/",
     "height": 51.0
    }
   },
   "outputs": [
    {
     "name": "stdout",
     "output_type": "stream",
     "text": [
      "W&B Run: https://app.wandb.ai/None/meta-learning/runs/w579w5nq\n",
      "Call `%%wandb` in the cell containing your training loop to display live results.\n"
     ]
    }
   ],
   "source": [
    "os.environ['WANDB_RUN_ID'] = 'w579w5nq'\n",
    "os.environ['WANDB_RESUME'] = 'must'\n",
    "wandb.init(project=\"meta-learning\")\n",
    "\n",
    "wandb.config.epochs = 200\n",
    "wandb.config.lr = 1e-4\n",
    "wandb.config.decay = 1e-4\n",
    "wandb.config.loss = 'MSE'\n",
    "wandb.config.task_subset = [17,  8, 15, 18,  5,  0, 11,  4, 19,  1]"
   ]
  },
  {
   "cell_type": "code",
   "execution_count": 0,
   "metadata": {
    "id": "LP1oBEYqkXv3",
    "colab_type": "code",
    "outputId": "27496344-0409-4eb6-e5e1-c0900f014ac9",
    "colab": {
     "base_uri": "https://localhost:8080/",
     "height": 232.0
    }
   },
   "outputs": [
    {
     "ename": "NameError",
     "evalue": "ignored",
     "traceback": [
      "\u001b[0;31m---------------------------------------------------------------------------\u001b[0m",
      "\u001b[0;31mNameError\u001b[0m                                 Traceback (most recent call last)",
      "\u001b[0;32m<ipython-input-19-23d8a56063d2>\u001b[0m in \u001b[0;36m<module>\u001b[0;34m()\u001b[0m\n\u001b[1;32m      1\u001b[0m \u001b[0mtotal_epochs\u001b[0m \u001b[0;34m=\u001b[0m \u001b[0;36m300\u001b[0m\u001b[0;34m\u001b[0m\u001b[0;34m\u001b[0m\u001b[0m\n\u001b[1;32m      2\u001b[0m \u001b[0;34m\u001b[0m\u001b[0m\n\u001b[0;32m----> 3\u001b[0;31m train(task_subset_mse_larger_pooling_dropout_CNN_MLP, subset_train_dataloader, subset_test_dataloader, \n\u001b[0m\u001b[1;32m      4\u001b[0m       \u001b[0mnum_epochs\u001b[0m\u001b[0;34m=\u001b[0m\u001b[0mtotal_epochs\u001b[0m \u001b[0;34m-\u001b[0m \u001b[0mcurrent_epoch\u001b[0m\u001b[0;34m,\u001b[0m \u001b[0mepochs_to_test\u001b[0m\u001b[0;34m=\u001b[0m\u001b[0;36m1\u001b[0m\u001b[0;34m,\u001b[0m \u001b[0mepochs_to_graph\u001b[0m\u001b[0;34m=\u001b[0m\u001b[0;36m10\u001b[0m\u001b[0;34m,\u001b[0m\u001b[0;34m\u001b[0m\u001b[0;34m\u001b[0m\u001b[0m\n\u001b[1;32m      5\u001b[0m       num_batches_to_print=2000, start_epoch=current_epoch)\n",
      "\u001b[0;31mNameError\u001b[0m: name 'subset_train_dataloader' is not defined"
     ],
     "output_type": "error"
    }
   ],
   "source": [
    "total_epochs = 300\n",
    "\n",
    "train(task_subset_mse_larger_pooling_dropout_CNN_MLP, subset_train_dataloader, subset_test_dataloader, \n",
    "      num_epochs=total_epochs - current_epoch, epochs_to_test=1, epochs_to_graph=10, \n",
    "      num_batches_to_print=2000, start_epoch=current_epoch)"
   ]
  },
  {
   "cell_type": "code",
   "execution_count": 0,
   "metadata": {
    "id": "BURbJZMh71VG",
    "colab_type": "code",
    "outputId": "fcce18b4-7529-4503-ae10-3429a0431c51",
    "colab": {
     "base_uri": "https://localhost:8080/",
     "height": 34.0
    }
   },
   "outputs": [
    {
     "name": "stdout",
     "output_type": "stream",
     "text": [
      "True\n"
     ]
    }
   ],
   "source": [
    "results = []\n",
    "\n",
    "for i in range(300):\n",
    "    for j in range(10):\n",
    "        results.append(np.all(subset_normalized_train_dataset[i * 10 + j][0][1] == subset_normalized_train_dataset[(i + 1) * 10 + j][0][1]))\n",
    "    \n",
    "print(np.all(results))"
   ]
  },
  {
   "cell_type": "code",
   "execution_count": 0,
   "metadata": {
    "id": "cP56gIMkaH0e",
    "colab_type": "code",
    "colab": {}
   },
   "outputs": [],
   "source": [
    "train(pooling_dropout_decay_scheduler_model, train_dataloader, test_dataloader, \n",
    "      num_epochs=200,  epochs_to_test=1, epochs_to_graph=10, start_epoch=300,\n",
    "      num_batches_to_print=1000)"
   ]
  },
  {
   "cell_type": "code",
   "execution_count": 0,
   "metadata": {
    "id": "vUImhNZxCvaF",
    "colab_type": "code",
    "colab": {}
   },
   "outputs": [],
   "source": [
    "DOWNSAMPLE_SIZE = (128, 128)\n",
    "\n",
    "to_tensor = transforms.ToTensor()\n",
    "resize = transforms.Resize(DOWNSAMPLE_SIZE)\n",
    "to_pil = transforms.ToPILImage()\n",
    "\n",
    "def transformer(img):\n",
    "    return to_tensor(resize(to_pil(img))).float()\n",
    "\n",
    "# dataset = MetaLearningH5Dataset(META_LEARNING_DATA)\n",
    "dataset = MetaLearningH5Dataset(META_LEARNING_DATA_SMALL,\n",
    "                                   transformer)\n",
    "# TODO: once works, move to async/more workers\n",
    "dataloader = DataLoader(dataset, batch_size=BATCH_SIZE,\n",
    "                        shuffle=True, num_workers=0)\n",
    "# TODO: does it not work with more than one worker?\n",
    "# TODO: try using pin_memory and see if it helps\n",
    "\n",
    "model = CNN_MLP(dataset.query_length,  \n",
    "                mlp_layer_sizes=(1024, 256, 64, 16),\n",
    "                conv_output_size=1536)\n",
    "model.cuda()\n",
    "train(model, dataloader, 200, 1000)"
   ]
  },
  {
   "cell_type": "markdown",
   "metadata": {
    "id": "HAvBKmxatgu2",
    "colab_type": "text"
   },
   "source": [
    "### Try loading a model and testing it on some other data"
   ]
  },
  {
   "cell_type": "code",
   "execution_count": 0,
   "metadata": {
    "id": "7lFFFbjEDKpm",
    "colab_type": "code",
    "colab": {}
   },
   "outputs": [],
   "source": [
    "DOWNSAMPLE_SIZE = (128, 128)\n",
    "\n",
    "to_tensor = transforms.ToTensor()\n",
    "resize = transforms.Resize(DOWNSAMPLE_SIZE)\n",
    "to_pil = transforms.ToPILImage()\n",
    "\n",
    "def transformer(img):\n",
    "    return to_tensor(resize(to_pil(img))).float()\n",
    "\n",
    "# dataset = MetaLearningH5Dataset(META_LEARNING_DATA)\n",
    "dataset = MetaLearningH5Dataset(META_LEARNING_DATA_SMALL,\n",
    "                                   transformer)\n",
    "# TODO: once works, move to async/more workers\n",
    "dataloader = DataLoader(dataset, batch_size=BATCH_SIZE,\n",
    "                        shuffle=True, num_workers=0)\n",
    "\n",
    "model = CNN_MLP(dataset.query_length,  \n",
    "                mlp_layer_sizes=(1024, 256, 64, 16),\n",
    "                conv_output_size=1536)\n",
    "model.cuda()\n",
    "model.load_model(199)"
   ]
  },
  {
   "cell_type": "code",
   "execution_count": 0,
   "metadata": {
    "id": "5SyaUF6wtKrU",
    "colab_type": "code",
    "colab": {}
   },
   "outputs": [],
   "source": [
    "full_dataset = MetaLearningH5Dataset(META_LEARNING_DATA,\n",
    "                                        transformer)\n",
    "# TODO: restore to True next time training\n",
    "full_dataloader = DataLoader(full_dataset, batch_size=BATCH_SIZE,\n",
    "                             shuffle=False, num_workers=0)"
   ]
  },
  {
   "cell_type": "code",
   "execution_count": 0,
   "metadata": {
    "id": "LsFUgIzjwuCP",
    "colab_type": "code",
    "colab": {}
   },
   "outputs": [],
   "source": [
    "accuracies, losses, correct_per_query = test(model, full_dataloader, 1000)"
   ]
  },
  {
   "cell_type": "code",
   "execution_count": 0,
   "metadata": {
    "id": "NFnZeBPp3h5E",
    "colab_type": "code",
    "outputId": "35448f64-5fd7-4a6c-c600-7fb5f6c873ad",
    "colab": {
     "base_uri": "https://localhost:8080/",
     "height": 408.0
    }
   },
   "outputs": [
    {
     "name": "stdout",
     "output_type": "stream",
     "text": [
      "For queries about blue, average test accuracy of 0.713 (2922 / 4096)\n",
      "For queries about brown, average test accuracy of 0.603 (2468 / 4096)\n",
      "For queries about cyan, average test accuracy of 0.639 (2619 / 4096)\n",
      "For queries about gray, average test accuracy of 0.585 (2396 / 4096)\n",
      "For queries about green, average test accuracy of 0.672 (2752 / 4096)\n",
      "For queries about orange, average test accuracy of 0.592 (2425 / 4096)\n",
      "For queries about pink, average test accuracy of 0.657 (2690 / 4096)\n",
      "For queries about purple, average test accuracy of 0.588 (2409 / 4096)\n",
      "For queries about red, average test accuracy of 0.888 (3639 / 4096)\n",
      "For queries about yellow, average test accuracy of 0.594 (2434 / 4096)\n",
      "For queries about cone, average test accuracy of 0.591 (2170 / 3674)\n",
      "For queries about cube, average test accuracy of 0.642 (1959 / 3052)\n",
      "For queries about curved, average test accuracy of 0.683 (1685 / 2468)\n",
      "For queries about cylinder, average test accuracy of 0.688 (1406 / 2044)\n",
      "For queries about g1, average test accuracy of 0.776 (1400 / 1804)\n",
      "For queries about g2, average test accuracy of 0.774 (1286 / 1661)\n",
      "For queries about g3, average test accuracy of 0.710 (1155 / 1626)\n",
      "For queries about pyramid, average test accuracy of 0.711 (1171 / 1648)\n",
      "For queries about rectangle, average test accuracy of 0.706 (1170 / 1658)\n",
      "For queries about sphere, average test accuracy of 0.694 (1185 / 1707)\n",
      "For queries about torus, average test accuracy of 0.770 (1308 / 1698)\n",
      "Overall, in color queries, average test accuracy of 0.653 (26754.0 / 40960)\n",
      "Overall, in shape queries, average test accuracy of 0.690 (15895.0 / 23040)\n"
     ]
    }
   ],
   "source": [
    "props = dataset.file['properties']\n",
    "for i in range(props.shape[0]):\n",
    "    cpq = correct_per_query[i]\n",
    "    print(f'For queries about {props[i]}, average test accuracy of {np.mean(cpq):.3f} ({np.sum(cpq)} / {cpq.shape[0]})')\n",
    "\n",
    "    \n",
    "num_colors = 10\n",
    "num_shapes = 11\n",
    "\n",
    "color_correct = 0\n",
    "color_total = 0\n",
    "for i in range(num_colors):\n",
    "    color_correct += np.sum(correct_per_query[i])\n",
    "    color_total += correct_per_query[i].shape[0]\n",
    "    \n",
    "shape_correct = 0\n",
    "shape_total = 0\n",
    "for i in range(num_shapes):\n",
    "    shape_correct += np.sum(correct_per_query[num_colors + i])\n",
    "    shape_total += correct_per_query[num_colors + i].shape[0]\n",
    "    \n",
    "print(f'Overall, in color queries, average test accuracy of {color_correct / color_total:.3f} ({color_correct} / {color_total})')\n",
    "print(f'Overall, in shape queries, average test accuracy of {shape_correct / shape_total:.3f} ({shape_correct} / {shape_total})')\n",
    "      "
   ]
  },
  {
   "cell_type": "code",
   "execution_count": 0,
   "metadata": {
    "id": "lrT3bOfvwuFP",
    "colab_type": "code",
    "outputId": "7b5cddb3-b5a0-4657-8f8b-ccb656b45f30",
    "colab": {
     "base_uri": "https://localhost:8080/",
     "height": 364.0
    }
   },
   "outputs": [
    {
     "name": "stdout",
     "output_type": "stream",
     "text": [
      "66.235\n"
     ]
    },
    {
     "data": {
      "image/png": "[encoded data removed]",
      "text/plain": [
       "<matplotlib.figure.Figure at 0x7f77b98f9c88>"
      ]
     },
     "metadata": {
      "tags": []
     },
     "output_type": "display_data"
    }
   ],
   "source": [
    "import matplotlib.pyplot as plt\n",
    "print(np.mean(accuracies))\n",
    "hist = plt.hist(accuracies)"
   ]
  },
  {
   "cell_type": "markdown",
   "metadata": {
    "id": "9iEg2m5eX1NG",
    "colab_type": "text"
   },
   "source": [
    "## Trying exactly the network they ran on Sort-of-CLEVR"
   ]
  },
  {
   "cell_type": "code",
   "execution_count": 0,
   "metadata": {
    "id": "KKkQU91vX5Xz",
    "colab_type": "code",
    "outputId": "e38b6e0e-1088-4088-bc61-56cc153e457c",
    "colab": {
     "base_uri": "https://localhost:8080/",
     "height": 3111.0
    }
   },
   "outputs": [
    {
     "name": "stdout",
     "output_type": "stream",
     "text": [
      "2018-11-15 12:59:25: After epoch 1, the average accuracy is 56.619 and the average loss is 0.684\n",
      "2018-11-15 13:00:13: After epoch 2, the average accuracy is 56.696 and the average loss is 0.682\n",
      "2018-11-15 13:01:04: After epoch 3, the average accuracy is 56.732 and the average loss is 0.681\n",
      "2018-11-15 13:01:55: After epoch 4, the average accuracy is 56.714 and the average loss is 0.681\n",
      "2018-11-15 13:02:46: After epoch 5, the average accuracy is 56.744 and the average loss is 0.680\n",
      "2018-11-15 13:03:36: After epoch 6, the average accuracy is 56.673 and the average loss is 0.680\n",
      "2018-11-15 13:04:28: After epoch 7, the average accuracy is 56.679 and the average loss is 0.680\n",
      "2018-11-15 13:05:18: After epoch 8, the average accuracy is 56.679 and the average loss is 0.680\n",
      "2018-11-15 13:06:08: After epoch 9, the average accuracy is 56.714 and the average loss is 0.679\n",
      "2018-11-15 13:07:02: After epoch 10, the average accuracy is 56.696 and the average loss is 0.680\n",
      "2018-11-15 13:07:53: After epoch 11, the average accuracy is 56.690 and the average loss is 0.679\n",
      "2018-11-15 13:08:43: After epoch 12, the average accuracy is 56.708 and the average loss is 0.679\n",
      "2018-11-15 13:09:34: After epoch 13, the average accuracy is 56.595 and the average loss is 0.680\n",
      "2018-11-15 13:10:25: After epoch 14, the average accuracy is 56.673 and the average loss is 0.680\n",
      "2018-11-15 13:11:17: After epoch 15, the average accuracy is 56.714 and the average loss is 0.679\n",
      "2018-11-15 13:12:08: After epoch 16, the average accuracy is 56.690 and the average loss is 0.679\n",
      "2018-11-15 13:13:00: After epoch 17, the average accuracy is 56.732 and the average loss is 0.679\n",
      "2018-11-15 13:14:05: After epoch 18, the average accuracy is 56.696 and the average loss is 0.679\n",
      "2018-11-15 13:14:57: After epoch 19, the average accuracy is 56.690 and the average loss is 0.679\n",
      "2018-11-15 13:15:49: After epoch 20, the average accuracy is 56.720 and the average loss is 0.679\n",
      "2018-11-15 13:16:41: After epoch 21, the average accuracy is 56.732 and the average loss is 0.679\n",
      "2018-11-15 13:17:38: After epoch 22, the average accuracy is 56.732 and the average loss is 0.679\n",
      "2018-11-15 13:18:27: After epoch 23, the average accuracy is 56.720 and the average loss is 0.679\n",
      "2018-11-15 13:19:19: After epoch 24, the average accuracy is 56.714 and the average loss is 0.679\n",
      "2018-11-15 13:20:09: After epoch 25, the average accuracy is 56.726 and the average loss is 0.679\n",
      "2018-11-15 13:21:00: After epoch 26, the average accuracy is 56.726 and the average loss is 0.679\n",
      "2018-11-15 13:21:51: After epoch 27, the average accuracy is 56.685 and the average loss is 0.679\n",
      "2018-11-15 13:22:42: After epoch 28, the average accuracy is 56.714 and the average loss is 0.679\n",
      "2018-11-15 13:23:33: After epoch 29, the average accuracy is 56.726 and the average loss is 0.679\n",
      "2018-11-15 13:24:24: After epoch 30, the average accuracy is 56.685 and the average loss is 0.679\n",
      "2018-11-15 13:25:16: After epoch 31, the average accuracy is 56.696 and the average loss is 0.679\n",
      "2018-11-15 13:26:08: After epoch 32, the average accuracy is 56.756 and the average loss is 0.679\n",
      "2018-11-15 13:27:03: After epoch 33, the average accuracy is 56.708 and the average loss is 0.679\n",
      "2018-11-15 13:27:55: After epoch 34, the average accuracy is 56.673 and the average loss is 0.679\n",
      "2018-11-15 13:28:47: After epoch 35, the average accuracy is 56.714 and the average loss is 0.679\n",
      "2018-11-15 13:29:38: After epoch 36, the average accuracy is 56.708 and the average loss is 0.679\n",
      "2018-11-15 13:30:28: After epoch 37, the average accuracy is 56.690 and the average loss is 0.679\n",
      "2018-11-15 13:31:21: After epoch 38, the average accuracy is 56.702 and the average loss is 0.679\n",
      "2018-11-15 13:32:12: After epoch 39, the average accuracy is 56.679 and the average loss is 0.679\n",
      "2018-11-15 13:33:03: After epoch 40, the average accuracy is 56.667 and the average loss is 0.679\n",
      "2018-11-15 13:33:54: After epoch 41, the average accuracy is 56.685 and the average loss is 0.679\n",
      "2018-11-15 13:34:45: After epoch 42, the average accuracy is 56.702 and the average loss is 0.679\n",
      "2018-11-15 13:35:37: After epoch 43, the average accuracy is 56.679 and the average loss is 0.679\n",
      "2018-11-15 13:36:28: After epoch 44, the average accuracy is 56.696 and the average loss is 0.679\n",
      "2018-11-15 13:37:18: After epoch 45, the average accuracy is 56.702 and the average loss is 0.679\n",
      "2018-11-15 13:38:09: After epoch 46, the average accuracy is 56.702 and the average loss is 0.679\n",
      "2018-11-15 13:39:00: After epoch 47, the average accuracy is 56.696 and the average loss is 0.679\n",
      "2018-11-15 13:39:51: After epoch 48, the average accuracy is 56.685 and the average loss is 0.679\n",
      "2018-11-15 13:40:42: After epoch 49, the average accuracy is 56.696 and the average loss is 0.679\n",
      "2018-11-15 13:41:34: After epoch 50, the average accuracy is 56.696 and the average loss is 0.679\n",
      "2018-11-15 13:42:25: After epoch 51, the average accuracy is 56.714 and the average loss is 0.679\n",
      "2018-11-15 13:43:16: After epoch 52, the average accuracy is 56.732 and the average loss is 0.678\n",
      "2018-11-15 13:44:08: After epoch 53, the average accuracy is 56.702 and the average loss is 0.678\n",
      "2018-11-15 13:45:03: After epoch 54, the average accuracy is 56.696 and the average loss is 0.679\n",
      "2018-11-15 13:45:54: After epoch 55, the average accuracy is 56.714 and the average loss is 0.679\n",
      "2018-11-15 13:46:49: After epoch 56, the average accuracy is 56.435 and the average loss is 0.680\n",
      "2018-11-15 13:47:41: After epoch 57, the average accuracy is 56.726 and the average loss is 0.679\n",
      "2018-11-15 13:48:33: After epoch 58, the average accuracy is 56.679 and the average loss is 0.679\n",
      "2018-11-15 13:49:25: After epoch 59, the average accuracy is 56.679 and the average loss is 0.679\n",
      "2018-11-15 13:50:16: After epoch 60, the average accuracy is 56.720 and the average loss is 0.679\n",
      "2018-11-15 13:51:08: After epoch 61, the average accuracy is 56.720 and the average loss is 0.679\n",
      "2018-11-15 13:52:02: After epoch 62, the average accuracy is 56.685 and the average loss is 0.678\n",
      "2018-11-15 13:53:02: After epoch 63, the average accuracy is 56.702 and the average loss is 0.678\n",
      "2018-11-15 13:53:55: After epoch 64, the average accuracy is 56.702 and the average loss is 0.679\n",
      "2018-11-15 13:54:47: After epoch 65, the average accuracy is 56.720 and the average loss is 0.678\n",
      "2018-11-15 13:55:41: After epoch 66, the average accuracy is 56.708 and the average loss is 0.679\n",
      "2018-11-15 13:56:32: After epoch 67, the average accuracy is 56.756 and the average loss is 0.679\n",
      "2018-11-15 13:57:36: After epoch 68, the average accuracy is 56.685 and the average loss is 0.679\n",
      "2018-11-15 13:58:28: After epoch 69, the average accuracy is 56.702 and the average loss is 0.678\n",
      "2018-11-15 13:59:20: After epoch 70, the average accuracy is 56.690 and the average loss is 0.679\n",
      "2018-11-15 14:00:13: After epoch 71, the average accuracy is 56.714 and the average loss is 0.678\n",
      "2018-11-15 14:01:05: After epoch 72, the average accuracy is 56.708 and the average loss is 0.679\n",
      "2018-11-15 14:02:01: After epoch 73, the average accuracy is 56.690 and the average loss is 0.679\n",
      "2018-11-15 14:02:53: After epoch 74, the average accuracy is 56.714 and the average loss is 0.679\n",
      "2018-11-15 14:03:48: After epoch 75, the average accuracy is 56.696 and the average loss is 0.679\n",
      "2018-11-15 14:04:41: After epoch 76, the average accuracy is 56.667 and the average loss is 0.679\n",
      "2018-11-15 14:05:34: After epoch 77, the average accuracy is 56.702 and the average loss is 0.679\n",
      "2018-11-15 14:06:27: After epoch 78, the average accuracy is 56.679 and the average loss is 0.679\n",
      "2018-11-15 14:07:19: After epoch 79, the average accuracy is 56.708 and the average loss is 0.679\n",
      "2018-11-15 14:08:11: After epoch 80, the average accuracy is 56.720 and the average loss is 0.679\n",
      "2018-11-15 14:09:05: After epoch 81, the average accuracy is 56.435 and the average loss is 0.679\n",
      "2018-11-15 14:09:57: After epoch 82, the average accuracy is 56.679 and the average loss is 0.679\n",
      "2018-11-15 14:10:52: After epoch 83, the average accuracy is 56.726 and the average loss is 0.679\n",
      "2018-11-15 14:11:44: After epoch 84, the average accuracy is 56.726 and the average loss is 0.679\n",
      "2018-11-15 14:12:38: After epoch 85, the average accuracy is 56.738 and the average loss is 0.678\n",
      "2018-11-15 14:13:30: After epoch 86, the average accuracy is 56.702 and the average loss is 0.678\n",
      "2018-11-15 14:14:23: After epoch 87, the average accuracy is 56.673 and the average loss is 0.678\n",
      "2018-11-15 14:15:15: After epoch 88, the average accuracy is 56.708 and the average loss is 0.678\n",
      "2018-11-15 14:16:09: After epoch 89, the average accuracy is 56.667 and the average loss is 0.679\n",
      "2018-11-15 14:17:03: After epoch 90, the average accuracy is 56.720 and the average loss is 0.679\n",
      "2018-11-15 14:17:57: After epoch 91, the average accuracy is 56.702 and the average loss is 0.678\n",
      "2018-11-15 14:19:02: After epoch 92, the average accuracy is 56.690 and the average loss is 0.679\n",
      "2018-11-15 14:19:55: After epoch 93, the average accuracy is 56.696 and the average loss is 0.678\n",
      "2018-11-15 14:20:47: After epoch 94, the average accuracy is 56.714 and the average loss is 0.678\n",
      "2018-11-15 14:21:42: After epoch 95, the average accuracy is 56.714 and the average loss is 0.678\n",
      "2018-11-15 14:22:37: After epoch 96, the average accuracy is 56.702 and the average loss is 0.679\n",
      "2018-11-15 14:23:30: After epoch 97, the average accuracy is 56.714 and the average loss is 0.678\n",
      "2018-11-15 14:24:23: After epoch 98, the average accuracy is 56.690 and the average loss is 0.679\n",
      "2018-11-15 14:25:16: After epoch 99, the average accuracy is 56.679 and the average loss is 0.679\n",
      "2018-11-15 14:26:11: After epoch 100, the average accuracy is 56.696 and the average loss is 0.678\n",
      "2018-11-15 14:27:04: After epoch 101, the average accuracy is 56.708 and the average loss is 0.678\n",
      "2018-11-15 14:27:57: After epoch 102, the average accuracy is 56.726 and the average loss is 0.678\n",
      "2018-11-15 14:28:49: After epoch 103, the average accuracy is 56.732 and the average loss is 0.679\n",
      "2018-11-15 14:29:42: After epoch 104, the average accuracy is 56.679 and the average loss is 0.678\n",
      "2018-11-15 14:30:35: After epoch 105, the average accuracy is 56.708 and the average loss is 0.679\n",
      "2018-11-15 14:31:28: After epoch 106, the average accuracy is 56.750 and the average loss is 0.678\n",
      "2018-11-15 14:32:20: After epoch 107, the average accuracy is 56.702 and the average loss is 0.678\n",
      "2018-11-15 14:33:16: After epoch 108, the average accuracy is 56.696 and the average loss is 0.679\n",
      "2018-11-15 14:34:11: After epoch 109, the average accuracy is 56.702 and the average loss is 0.678\n",
      "2018-11-15 14:35:05: After epoch 110, the average accuracy is 56.685 and the average loss is 0.678\n",
      "2018-11-15 14:35:58: After epoch 111, the average accuracy is 56.720 and the average loss is 0.678\n",
      "2018-11-15 14:36:53: After epoch 112, the average accuracy is 56.673 and the average loss is 0.678\n",
      "2018-11-15 14:37:45: After epoch 113, the average accuracy is 56.714 and the average loss is 0.678\n",
      "2018-11-15 14:38:37: After epoch 114, the average accuracy is 56.685 and the average loss is 0.678\n",
      "2018-11-15 14:39:34: After epoch 115, the average accuracy is 56.714 and the average loss is 0.678\n",
      "2018-11-15 14:40:26: After epoch 116, the average accuracy is 56.714 and the average loss is 0.678\n",
      "2018-11-15 14:41:16: After epoch 117, the average accuracy is 56.690 and the average loss is 0.678\n",
      "2018-11-15 14:42:09: After epoch 118, the average accuracy is 56.714 and the average loss is 0.678\n",
      "2018-11-15 14:43:01: After epoch 119, the average accuracy is 56.655 and the average loss is 0.678\n",
      "2018-11-15 14:43:57: After epoch 120, the average accuracy is 56.738 and the average loss is 0.678\n",
      "2018-11-15 14:44:48: After epoch 121, the average accuracy is 56.702 and the average loss is 0.678\n",
      "2018-11-15 14:45:40: After epoch 122, the average accuracy is 56.690 and the average loss is 0.678\n",
      "2018-11-15 14:46:31: After epoch 123, the average accuracy is 56.732 and the average loss is 0.678\n",
      "2018-11-15 14:47:24: After epoch 124, the average accuracy is 56.685 and the average loss is 0.678\n",
      "2018-11-15 14:48:15: After epoch 125, the average accuracy is 56.720 and the average loss is 0.679\n",
      "2018-11-15 14:49:07: After epoch 126, the average accuracy is 56.577 and the average loss is 0.679\n",
      "2018-11-15 14:49:59: After epoch 127, the average accuracy is 56.726 and the average loss is 0.678\n",
      "2018-11-15 14:50:50: After epoch 128, the average accuracy is 56.720 and the average loss is 0.678\n",
      "2018-11-15 14:51:44: After epoch 129, the average accuracy is 56.696 and the average loss is 0.678\n",
      "2018-11-15 14:52:36: After epoch 130, the average accuracy is 56.673 and the average loss is 0.678\n",
      "2018-11-15 14:53:27: After epoch 131, the average accuracy is 56.690 and the average loss is 0.678\n",
      "2018-11-15 14:54:20: After epoch 132, the average accuracy is 56.738 and the average loss is 0.678\n",
      "2018-11-15 14:55:10: After epoch 133, the average accuracy is 56.702 and the average loss is 0.678\n",
      "2018-11-15 14:56:09: After epoch 134, the average accuracy is 56.714 and the average loss is 0.678\n",
      "2018-11-15 14:57:01: After epoch 135, the average accuracy is 56.696 and the average loss is 0.678\n",
      "2018-11-15 14:57:52: After epoch 136, the average accuracy is 56.685 and the average loss is 0.678\n",
      "2018-11-15 14:58:43: After epoch 137, the average accuracy is 56.738 and the average loss is 0.678\n",
      "2018-11-15 14:59:34: After epoch 138, the average accuracy is 56.667 and the average loss is 0.678\n",
      "2018-11-15 15:00:27: After epoch 139, the average accuracy is 56.696 and the average loss is 0.678\n",
      "2018-11-15 15:01:18: After epoch 140, the average accuracy is 56.714 and the average loss is 0.678\n",
      "2018-11-15 15:02:11: After epoch 141, the average accuracy is 56.714 and the average loss is 0.678\n",
      "2018-11-15 15:03:02: After epoch 142, the average accuracy is 56.708 and the average loss is 0.678\n",
      "2018-11-15 15:03:55: After epoch 143, the average accuracy is 56.685 and the average loss is 0.678\n",
      "2018-11-15 15:04:46: After epoch 144, the average accuracy is 56.685 and the average loss is 0.678\n",
      "2018-11-15 15:05:38: After epoch 145, the average accuracy is 56.690 and the average loss is 0.678\n",
      "2018-11-15 15:06:36: After epoch 146, the average accuracy is 56.726 and the average loss is 0.678\n",
      "2018-11-15 15:07:28: After epoch 147, the average accuracy is 56.679 and the average loss is 0.678\n",
      "2018-11-15 15:08:18: After epoch 148, the average accuracy is 56.708 and the average loss is 0.678\n",
      "2018-11-15 15:09:10: After epoch 149, the average accuracy is 56.714 and the average loss is 0.678\n",
      "2018-11-15 15:10:01: After epoch 150, the average accuracy is 56.732 and the average loss is 0.678\n",
      "2018-11-15 15:10:54: After epoch 151, the average accuracy is 56.696 and the average loss is 0.678\n",
      "2018-11-15 15:11:46: After epoch 152, the average accuracy is 56.714 and the average loss is 0.678\n",
      "2018-11-15 15:12:40: After epoch 153, the average accuracy is 56.726 and the average loss is 0.678\n",
      "2018-11-15 15:13:33: After epoch 154, the average accuracy is 56.726 and the average loss is 0.678\n",
      "2018-11-15 15:14:26: After epoch 155, the average accuracy is 56.714 and the average loss is 0.678\n",
      "2018-11-15 15:15:19: After epoch 156, the average accuracy is 56.696 and the average loss is 0.678\n",
      "2018-11-15 15:16:10: After epoch 157, the average accuracy is 56.720 and the average loss is 0.678\n",
      "2018-11-15 15:17:01: After epoch 158, the average accuracy is 56.702 and the average loss is 0.678\n",
      "2018-11-15 15:17:53: After epoch 159, the average accuracy is 56.744 and the average loss is 0.678\n",
      "2018-11-15 15:18:50: After epoch 160, the average accuracy is 56.667 and the average loss is 0.678\n",
      "2018-11-15 15:19:42: After epoch 161, the average accuracy is 56.702 and the average loss is 0.678\n",
      "2018-11-15 15:20:32: After epoch 162, the average accuracy is 56.673 and the average loss is 0.678\n",
      "2018-11-15 15:21:24: After epoch 163, the average accuracy is 56.667 and the average loss is 0.678\n",
      "2018-11-15 15:22:15: After epoch 164, the average accuracy is 56.690 and the average loss is 0.678\n",
      "2018-11-15 15:23:09: After epoch 165, the average accuracy is 56.708 and the average loss is 0.678\n",
      "2018-11-15 15:23:59: After epoch 166, the average accuracy is 56.750 and the average loss is 0.678\n",
      "2018-11-15 15:24:52: After epoch 167, the average accuracy is 56.708 and the average loss is 0.678\n",
      "2018-11-15 15:25:44: After epoch 168, the average accuracy is 56.708 and the average loss is 0.678\n",
      "2018-11-15 15:26:39: After epoch 169, the average accuracy is 56.708 and the average loss is 0.678\n",
      "2018-11-15 15:27:29: After epoch 170, the average accuracy is 56.708 and the average loss is 0.678\n",
      "2018-11-15 15:28:22: After epoch 171, the average accuracy is 56.673 and the average loss is 0.678\n",
      "2018-11-15 15:29:15: After epoch 172, the average accuracy is 56.720 and the average loss is 0.678\n",
      "2018-11-15 15:30:07: After epoch 173, the average accuracy is 56.679 and the average loss is 0.678\n",
      "2018-11-15 15:30:59: After epoch 174, the average accuracy is 56.696 and the average loss is 0.678\n",
      "2018-11-15 15:31:50: After epoch 175, the average accuracy is 56.708 and the average loss is 0.678\n",
      "2018-11-15 15:32:41: After epoch 176, the average accuracy is 56.690 and the average loss is 0.678\n",
      "2018-11-15 15:33:33: After epoch 177, the average accuracy is 56.732 and the average loss is 0.678\n",
      "2018-11-15 15:34:30: After epoch 178, the average accuracy is 56.702 and the average loss is 0.678\n",
      "2018-11-15 15:35:22: After epoch 179, the average accuracy is 56.661 and the average loss is 0.678\n",
      "2018-11-15 15:36:14: After epoch 180, the average accuracy is 56.756 and the average loss is 0.678\n",
      "2018-11-15 15:37:06: After epoch 181, the average accuracy is 56.667 and the average loss is 0.678\n",
      "2018-11-15 15:37:58: After epoch 182, the average accuracy is 56.714 and the average loss is 0.679\n"
     ]
    }
   ],
   "source": [
    "DOWNSAMPLE_SIZE = (128, 128)\n",
    "\n",
    "to_tensor = transforms.ToTensor()\n",
    "resize = transforms.Resize(DOWNSAMPLE_SIZE)\n",
    "to_pil = transforms.ToPILImage()\n",
    "\n",
    "def transformer(img):\n",
    "    return to_tensor(resize(to_pil(img))).float()\n",
    "\n",
    "# dataset = MetaLearningH5Dataset(META_LEARNING_DATA)\n",
    "dataset = MetaLearningH5Dataset(META_LEARNING_DATA_SMALL,\n",
    "                                   transformer)\n",
    "# TODO: once works, move to async/more workers\n",
    "dataloader = DataLoader(dataset, batch_size=BATCH_SIZE,\n",
    "                        shuffle=True, num_workers=0, pin_memory=True)\n",
    "# TODO: does it not work with more than one worker?\n",
    "# TODO: try using pin_memory and see if it helps\n",
    "\n",
    "model = CNN_MLP(dataset.query_length,  \n",
    "                conv_filter_sizes=(32, 64, 128, 256),\n",
    "                mlp_layer_sizes=(2000, 1000, 500, 100),\n",
    "                conv_output_size=16384)\n",
    "model.cuda()\n",
    "results = train(model, dataloader, 200, 200)"
   ]
  },
  {
   "cell_type": "markdown",
   "metadata": {
    "id": "19sEcpeI3YSl",
    "colab_type": "text"
   },
   "source": [
    "# Scratch work"
   ]
  },
  {
   "cell_type": "code",
   "execution_count": 0,
   "metadata": {
    "id": "nBYvX_mUFlFr",
    "colab_type": "code",
    "outputId": "9aca8cad-b17a-4cb8-f2e3-3ea61469fd07",
    "colab": {
     "base_uri": "https://localhost:8080/",
     "height": 51.0
    }
   },
   "outputs": [
    {
     "name": "stdout",
     "output_type": "stream",
     "text": [
      "[0 0 0 0 0 0 0 0 0 0 0 0 0 0 0 0 0 1 0 0 0]\n"
     ]
    },
    {
     "data": {
      "text/plain": [
       "17"
      ]
     },
     "execution_count": 38,
     "metadata": {
      "tags": []
     },
     "output_type": "execute_result"
    }
   ],
   "source": [
    "print(dataset.file['Q'][0, 7])\n",
    "np.argmax(dataset.file['Q'][0, 7])"
   ]
  },
  {
   "cell_type": "code",
   "execution_count": 0,
   "metadata": {
    "id": "gJuxv9pKPq0f",
    "colab_type": "code",
    "colab": {}
   },
   "outputs": [],
   "source": [
    "import datetime\n",
    "dt = datetime.datetime.now()"
   ]
  },
  {
   "cell_type": "code",
   "execution_count": 0,
   "metadata": {
    "id": "ZJH5QyVxxYyh",
    "colab_type": "code",
    "outputId": "42d3d243-ca47-4efd-8c6a-57d3a6efe2a4",
    "colab": {
     "base_uri": "https://localhost:8080/",
     "height": 34.0
    }
   },
   "outputs": [
    {
     "data": {
      "text/plain": [
       "<__main__.meta_learning_h5_dataset at 0x7f808b64ce80>"
      ]
     },
     "execution_count": 11,
     "metadata": {
      "tags": []
     },
     "output_type": "execute_result"
    }
   ],
   "source": [
    "unnormalized_train_dataset"
   ]
  },
  {
   "cell_type": "code",
   "execution_count": 0,
   "metadata": {
    "id": "99gvT5D51Kjv",
    "colab_type": "code",
    "outputId": "9ce20688-8b62-4b74-95e7-1b5dc3f1aa54",
    "colab": {
     "base_uri": "https://localhost:8080/",
     "height": 699.0
    }
   },
   "outputs": [
    {
     "name": "stdout",
     "output_type": "stream",
     "text": [
      "(240, 320, 3)\n"
     ]
    },
    {
     "data": {
      "image/png": "[encoded data removed]",
      "text/plain": [
       "<matplotlib.figure.Figure at 0x7f808f2b2da0>"
      ]
     },
     "metadata": {
      "tags": []
     },
     "output_type": "display_data"
    },
    {
     "data": {
      "image/png": "[encoded data removed]",
      "text/plain": [
       "<matplotlib.figure.Figure at 0x7f808b5adf98>"
      ]
     },
     "metadata": {
      "tags": []
     },
     "output_type": "display_data"
    }
   ],
   "source": [
    "import matplotlib.pyplot as plt\n",
    "\n",
    "DOWNSAMPLE_SIZE = (96, 128)\n",
    "\n",
    "to_tensor = transforms.ToTensor()\n",
    "resize = transforms.Resize(DOWNSAMPLE_SIZE)\n",
    "to_pil = transforms.ToPILImage()\n",
    "\n",
    "def resizer(img):\n",
    "    return resize(to_pil(img))\n",
    "dataset = MetaLearningH5Dataset(META_LEARNING_DATA_SMALL,\n",
    "                                   resizer)\n",
    "print(dataset.file['X'][100].shape)\n",
    "plt.imshow(dataset.file['X'][100])\n",
    "plt.show()\n",
    "plt.imshow(resizer(dataset.file['X'][100]))\n",
    "plt.show()"
   ]
  },
  {
   "cell_type": "code",
   "execution_count": 0,
   "metadata": {
    "id": "nevf4K--GbvN",
    "colab_type": "code",
    "outputId": "f1e1620d-8842-45d4-81b5-09dc626fd224",
    "colab": {
     "base_uri": "https://localhost:8080/",
     "height": 408.0
    }
   },
   "outputs": [
    {
     "data": {
      "text/plain": [
       "tensor([[[0.4118, 0.4118, 0.4157,  ..., 0.4078, 0.4039, 0.4039],\n",
       "         [0.4118, 0.4118, 0.4118,  ..., 0.4078, 0.4078, 0.4039],\n",
       "         [0.4118, 0.4118, 0.4118,  ..., 0.4039, 0.4039, 0.4039],\n",
       "         ...,\n",
       "         [0.4706, 0.4745, 0.4706,  ..., 0.5686, 0.5686, 0.5686],\n",
       "         [0.4745, 0.4706, 0.4745,  ..., 0.5686, 0.5686, 0.5686],\n",
       "         [0.4706, 0.4706, 0.4745,  ..., 0.5725, 0.5686, 0.5686]],\n",
       "\n",
       "        [[0.4078, 0.4118, 0.4157,  ..., 0.4078, 0.4039, 0.4039],\n",
       "         [0.4078, 0.4078, 0.4118,  ..., 0.4078, 0.4078, 0.4039],\n",
       "         [0.4118, 0.4118, 0.4118,  ..., 0.4039, 0.4039, 0.4039],\n",
       "         ...,\n",
       "         [0.4667, 0.4706, 0.4667,  ..., 0.5569, 0.5608, 0.5569],\n",
       "         [0.4667, 0.4667, 0.4706,  ..., 0.5608, 0.5608, 0.5608],\n",
       "         [0.4667, 0.4667, 0.4706,  ..., 0.5608, 0.5608, 0.5569]],\n",
       "\n",
       "        [[0.4078, 0.4118, 0.4118,  ..., 0.4078, 0.4039, 0.4039],\n",
       "         [0.4078, 0.4078, 0.4118,  ..., 0.4078, 0.4039, 0.4039],\n",
       "         [0.4078, 0.4118, 0.4118,  ..., 0.4039, 0.4039, 0.4039],\n",
       "         ...,\n",
       "         [0.4667, 0.4667, 0.4627,  ..., 0.5412, 0.5451, 0.5451],\n",
       "         [0.4627, 0.4627, 0.4667,  ..., 0.5451, 0.5451, 0.5451],\n",
       "         [0.4627, 0.4627, 0.4667,  ..., 0.5451, 0.5451, 0.5412]]])"
      ]
     },
     "execution_count": 17,
     "metadata": {
      "tags": []
     },
     "output_type": "execute_result"
    }
   ],
   "source": [
    ""
   ]
  },
  {
   "cell_type": "code",
   "execution_count": 0,
   "metadata": {
    "id": "O9UFELdiGyNy",
    "colab_type": "code",
    "outputId": "f2682f1b-0412-436c-e237-7e20d265b812",
    "colab": {
     "base_uri": "https://localhost:8080/",
     "height": 34.0
    }
   },
   "outputs": [
    {
     "data": {
      "text/plain": [
       "dtype('<f8')"
      ]
     },
     "execution_count": 20,
     "metadata": {
      "tags": []
     },
     "output_type": "execute_result"
    }
   ],
   "source": [
    "np.cast?\n",
    "dataset.file['X'][100].dtype"
   ]
  },
  {
   "cell_type": "code",
   "execution_count": 0,
   "metadata": {
    "id": "o3xpab-fHAEw",
    "colab_type": "code",
    "colab": {}
   },
   "outputs": [],
   "source": [
    "dataset.file['X'][100]"
   ]
  },
  {
   "cell_type": "code",
   "execution_count": 0,
   "metadata": {
    "id": "s3LiWWKyRMvj",
    "colab_type": "code",
    "outputId": "dffac78b-9aa8-4e5c-9bb9-9cdd56923c59",
    "colab": {
     "base_uri": "https://localhost:8080/",
     "height": 34.0
    }
   },
   "outputs": [
    {
     "name": "stdout",
     "output_type": "stream",
     "text": [
      "E: Unable to locate package gpustat\n"
     ]
    }
   ],
   "source": [
    "!apt-get install -y -qq gpustat"
   ]
  },
  {
   "cell_type": "code",
   "execution_count": 0,
   "metadata": {
    "id": "EUaF5uIqDBlN",
    "colab_type": "code",
    "outputId": "54058fb6-a189-49e8-c491-4d721ba7d87a",
    "colab": {
     "base_uri": "https://localhost:8080/",
     "height": 85.0
    }
   },
   "outputs": [
    {
     "name": "stdout",
     "output_type": "stream",
     "text": [
      "[[0.9064657  0.97079206 0.69706684 0.87157816]\n",
      " [0.7866388  0.69764864 0.98198307 0.58196664]\n",
      " [0.68014616 0.9411912  0.09706616 0.9728676 ]\n",
      " [0.61758286 0.02640218 0.77136165 0.6011839 ]]\n"
     ]
    }
   ],
   "source": [
    "t = torch.rand((4, 4)).numpy()\n",
    "print(t)\n",
    "num_classes = 4\n",
    "correct = [0, 0, 2, 2]"
   ]
  },
  {
   "cell_type": "code",
   "execution_count": 0,
   "metadata": {
    "id": "UvyklrlJDDu0",
    "colab_type": "code",
    "outputId": "4f649aa7-27b4-4063-e514-a0fc3e4b4c1a",
    "colab": {
     "base_uri": "https://localhost:8080/",
     "height": 34.0
    }
   },
   "outputs": [
    {
     "name": "stdout",
     "output_type": "stream",
     "text": [
      "[2 2 4 1]\n"
     ]
    }
   ],
   "source": [
    "ind = num_classes - np.argsort(np.argsort(t, 1), 1)\n",
    "print(ind[np.arange(4), correct])"
   ]
  },
  {
   "cell_type": "code",
   "execution_count": 0,
   "metadata": {
    "id": "zA60WEbZDYIx",
    "colab_type": "code",
    "colab": {}
   },
   "outputs": [],
   "source": [
    ""
   ]
  }
 ],
 "metadata": {
  "colab": {
   "name": "CNN_MLP",
   "version": "0.3.2",
   "provenance": [],
   "collapsed_sections": [],
   "include_colab_link": true
  },
  "kernelspec": {
   "name": "python3",
   "display_name": "Python 3"
  },
  "accelerator": "GPU"
 },
 "nbformat": 4,
 "nbformat_minor": 0
}
