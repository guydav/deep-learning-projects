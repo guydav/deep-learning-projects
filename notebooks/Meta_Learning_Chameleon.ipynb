{
 "cells": [
  {
   "cell_type": "code",
   "execution_count": 1,
   "metadata": {},
   "outputs": [],
   "source": [
    "%load_ext autoreload\n",
    "%autoreload 2\n",
    "%matplotlib inline"
   ]
  },
  {
   "cell_type": "code",
   "execution_count": 2,
   "metadata": {},
   "outputs": [
    {
     "name": "stdout",
     "output_type": "stream",
     "text": [
      "Appending key for api.wandb.ai to your netrc file: /home/cc/.netrc\n",
      "\u001b[32mSuccessfully logged in to Weights & Biases!\u001b[0m\n"
     ]
    }
   ],
   "source": [
    "import sys\n",
    "import torch\n",
    "# Does this fix the hdf5 multiprocessing bug?\n",
    "torch.multiprocessing.set_start_method(\"spawn\")\n",
    "\n",
    "# !git clone https://github.com/guydav/deep-learning-projects.git\n",
    "# !pip install -q -r deep-learning-projects/requirements.txt\n",
    "!wandb login 9676e3cc95066e4865586082971f2653245f09b4\n",
    "sys.path.extend(('/home/cc/deep-learning-projects', '/home/cc/src/tqdm'))"
   ]
  },
  {
   "cell_type": "code",
   "execution_count": 3,
   "metadata": {},
   "outputs": [],
   "source": [
    "import projects\n",
    "from projects.metalearning import *"
   ]
  },
  {
   "cell_type": "markdown",
   "metadata": {},
   "source": [
    "## Load the dataset\n",
    "\n",
    "This time with 3x the batch size, 1.5k"
   ]
  },
  {
   "cell_type": "code",
   "execution_count": 4,
   "metadata": {},
   "outputs": [
    {
     "name": "stdout",
     "output_type": "stream",
     "text": [
      "Splitting test-train at 45000\n",
      "Loaded normalization from cache\n",
      "[0.4644661  0.45839542 0.45069984]\n",
      "[0.11204559 0.11298621 0.12539756]\n"
     ]
    }
   ],
   "source": [
    "ML_50K = '/home/cc/meta_learning_50k.h5'\n",
    "RANDOM_SEED = 33\n",
    "\n",
    "np.random.seed(RANDOM_SEED)\n",
    "torch.cuda.manual_seed_all(RANDOM_SEED)\n",
    "\n",
    "normalized_train_dataset, train_dataloader, normalized_test_dataset, test_dataloader = \\\n",
    "        create_normalized_datasets(dataset_path=ML_50K, \n",
    "                                   batch_size=1500,\n",
    "                                   num_workers=4,\n",
    "                                   downsample_size=None,\n",
    "                                   should_flip=False,\n",
    "                                   return_indices=False,\n",
    "                                   dataset_class_kwargs=dict(\n",
    "                                       num_dimensions=3,\n",
    "                                       features_per_dimension=(10, 10, 10)\n",
    "                                   ))"
   ]
  },
  {
   "cell_type": "code",
   "execution_count": 5,
   "metadata": {},
   "outputs": [
    {
     "name": "stdout",
     "output_type": "stream",
     "text": [
      "Warning: asked to load model with epoch 0. Ignoring...\n",
      "----------------------------------------------------------------\n",
      "        Layer (type)               Output Shape         Param #\n",
      "================================================================\n",
      "            Conv2d-1         [-1, 16, 160, 120]             448\n",
      "       BatchNorm2d-2         [-1, 16, 160, 120]              32\n",
      "            Conv2d-3           [-1, 32, 80, 60]           4,640\n",
      "       BatchNorm2d-4           [-1, 32, 80, 60]              64\n",
      "            Conv2d-5           [-1, 48, 40, 30]          13,872\n",
      "       BatchNorm2d-6           [-1, 48, 40, 30]              96\n",
      "            Conv2d-7           [-1, 64, 20, 15]          27,712\n",
      "       BatchNorm2d-8           [-1, 64, 20, 15]             128\n",
      "PoolingDropoutConvInputModel-9            [-1, 64, 10, 7]               0\n",
      "           Linear-10                  [-1, 512]       2,309,632\n",
      "           Linear-11                  [-1, 512]         262,656\n",
      "           Linear-12                  [-1, 512]         262,656\n",
      "           Linear-13                  [-1, 512]         262,656\n",
      "           Linear-14                    [-1, 2]           1,026\n",
      "SmallerDropoutFCOutputModel-15                    [-1, 2]               0\n",
      "================================================================\n",
      "Total params: 3,145,618\n",
      "Trainable params: 3,145,618\n",
      "Non-trainable params: 0\n",
      "----------------------------------------------------------------\n",
      "Input size (MB): 0.22\n",
      "Forward/backward pass size (MB): 8.25\n",
      "Params size (MB): 12.00\n",
      "Estimated Total Size (MB): 20.47\n",
      "----------------------------------------------------------------\n"
     ]
    }
   ],
   "source": [
    "current_epoch = 0\n",
    "save_dir = '/home/cc/checkpoints'\n",
    "\n",
    "summary_model = PoolingDropoutCNNMLP(\n",
    "    query_length=30,\n",
    "    conv_filter_sizes=(16, 32, 48, 64),\n",
    "    conv_output_size=4480, \n",
    "    mlp_layer_sizes=(512, 512, 512, 512),\n",
    "    lr=5e-4, \n",
    "    weight_decay=1e-4, \n",
    "    conv_dropout=False,\n",
    "    mlp_dropout=False,\n",
    "    name='summary',\n",
    "    save_dir=save_dir)\n",
    "\n",
    "summary_model.load_model(current_epoch)\n",
    "summary_model = summary_model.cuda()\n",
    "summary(summary_model, [(3, 160, 120), (30, )])"
   ]
  },
  {
   "cell_type": "code",
   "execution_count": 6,
   "metadata": {},
   "outputs": [
    {
     "name": "stdout",
     "output_type": "stream",
     "text": [
      "Warning: asked to load model with epoch 0. Ignoring...\n"
     ]
    }
   ],
   "source": [
    "current_epoch = 0\n",
    "save_dir = '/home/cc/checkpoints'\n",
    "\n",
    "mod_level = 2\n",
    "\n",
    "query_modulating_model = QueryModulatingCNNMLP(\n",
    "    mod_level=mod_level,\n",
    "    query_length=30,\n",
    "    conv_filter_sizes=(16, 32, 48, 64),\n",
    "    conv_output_size=4480, \n",
    "    mlp_layer_sizes=(512, 512, 512, 512),\n",
    "    lr=5e-4, \n",
    "    weight_decay=1e-4, \n",
    "    conv_dropout=False,\n",
    "    mlp_dropout=False,\n",
    "    name=f'query_modulating_cnn_mlp_mod_level_{mod_level}',\n",
    "    save_dir=save_dir)\n",
    "\n",
    "query_modulating_model.load_model(current_epoch)\n",
    "query_modulating_model = query_modulating_model.cuda()"
   ]
  },
  {
   "cell_type": "code",
   "execution_count": 7,
   "metadata": {},
   "outputs": [
    {
     "name": "stdout",
     "output_type": "stream",
     "text": [
      "----------------------------------------------------------------\n",
      "        Layer (type)               Output Shape         Param #\n",
      "================================================================\n",
      "            Linear-1                   [-1, 32]             992\n",
      "            Conv2d-2         [-1, 16, 160, 120]             448\n",
      "       BatchNorm2d-3         [-1, 16, 160, 120]              32\n",
      "            Conv2d-4           [-1, 32, 80, 60]           4,640\n",
      "       BatchNorm2d-5           [-1, 32, 80, 60]              64\n",
      "            Conv2d-6           [-1, 48, 40, 30]          13,872\n",
      "       BatchNorm2d-7           [-1, 48, 40, 30]              96\n",
      "            Conv2d-8           [-1, 64, 20, 15]          27,712\n",
      "       BatchNorm2d-9           [-1, 64, 20, 15]             128\n",
      "QueryModulatingPoolingDropoutConvInputModel-10            [-1, 64, 10, 7]               0\n",
      "           Linear-11                  [-1, 512]       2,309,632\n",
      "           Linear-12                  [-1, 512]         262,656\n",
      "           Linear-13                  [-1, 512]         262,656\n",
      "           Linear-14                  [-1, 512]         262,656\n",
      "           Linear-15                    [-1, 2]           1,026\n",
      "SmallerDropoutFCOutputModel-16                    [-1, 2]               0\n",
      "================================================================\n",
      "Total params: 3,146,610\n",
      "Trainable params: 3,146,610\n",
      "Non-trainable params: 0\n",
      "----------------------------------------------------------------\n",
      "Input size (MB): 0.22\n",
      "Forward/backward pass size (MB): 8.25\n",
      "Params size (MB): 12.00\n",
      "Estimated Total Size (MB): 20.48\n",
      "----------------------------------------------------------------\n"
     ]
    }
   ],
   "source": [
    "summary(query_modulating_model, [(3, 160, 120), (30, )])"
   ]
  },
  {
   "cell_type": "code",
   "execution_count": 8,
   "metadata": {},
   "outputs": [
    {
     "name": "stdout",
     "output_type": "stream",
     "text": [
      "W&B Run: https://app.wandb.ai/meta-learning-scaling/sequential-benchmark/runs/okt3pxy5\n",
      "Call `%%wandb` in the cell containing your training loop to display live results.\n"
     ]
    },
    {
     "ename": "NameError",
     "evalue": "name 'mod' is not defined",
     "output_type": "error",
     "traceback": [
      "\u001b[0;31m---------------------------------------------------------------------------\u001b[0m",
      "\u001b[0;31mNameError\u001b[0m                                 Traceback (most recent call last)",
      "\u001b[0;32m<ipython-input-8-34ba4c573149>\u001b[0m in \u001b[0;36m<module>\u001b[0;34m\u001b[0m\n\u001b[1;32m     15\u001b[0m \u001b[0mwandb\u001b[0m\u001b[0;34m.\u001b[0m\u001b[0mconfig\u001b[0m\u001b[0;34m.\u001b[0m\u001b[0mloss\u001b[0m \u001b[0;34m=\u001b[0m \u001b[0;34m'CE'\u001b[0m\u001b[0;34m\u001b[0m\u001b[0;34m\u001b[0m\u001b[0m\n\u001b[1;32m     16\u001b[0m \u001b[0mwandb\u001b[0m\u001b[0;34m.\u001b[0m\u001b[0mconfig\u001b[0m\u001b[0;34m.\u001b[0m\u001b[0mbatch_size\u001b[0m \u001b[0;34m=\u001b[0m \u001b[0mtrain_dataloader\u001b[0m\u001b[0;34m.\u001b[0m\u001b[0mbatch_size\u001b[0m\u001b[0;34m\u001b[0m\u001b[0;34m\u001b[0m\u001b[0m\n\u001b[0;32m---> 17\u001b[0;31m \u001b[0mwandb\u001b[0m\u001b[0;34m.\u001b[0m\u001b[0mconfig\u001b[0m\u001b[0;34m.\u001b[0m\u001b[0mmod_level\u001b[0m \u001b[0;34m=\u001b[0m \u001b[0mmod\u001b[0m\u001b[0;34m.\u001b[0m\u001b[0mlevel\u001b[0m\u001b[0;34m\u001b[0m\u001b[0;34m\u001b[0m\u001b[0m\n\u001b[0m",
      "\u001b[0;31mNameError\u001b[0m: name 'mod' is not defined"
     ]
    }
   ],
   "source": [
    "# os.environ['WANDB_RUN_ID'] ='98w3kzlw'\n",
    "# os.environ['WANDB_RESUME'] = 'must'\n",
    "wandb.init(entity='meta-learning-scaling', project='sequential-benchmark') #, resume=True)\n",
    "\n",
    "description = f'Query modulation level {mod_level} on full dataset\\n'\n",
    "description += 'lr = {current_model.lr}, weight decay = {current_model.weight_decay}, batch size = {train_dataloader.batch_size}'\n",
    "wandb.run.description = description\n",
    "wandb.run.save()\n",
    "\n",
    "current_model = query_modulating_model\n",
    "\n",
    "wandb.config.random_seed = RANDOM_SEED\n",
    "wandb.config.lr = current_model.lr\n",
    "wandb.config.decay = current_model.weight_decay\n",
    "wandb.config.loss = 'CE'\n",
    "wandb.config.batch_size = train_dataloader.batch_size\n",
    "wandb.config.mod_level = mod_level"
   ]
  },
  {
   "cell_type": "code",
   "execution_count": null,
   "metadata": {},
   "outputs": [],
   "source": [
    "total_epochs = 200\n",
    "wandb.config.update(dict(epochs=total_epochs), allow_val_change=True)\n",
    "\n",
    "train(query_modulating_model, train_dataloader, test_dataloader, \n",
    "      num_epochs=total_epochs - current_epoch, epochs_to_test=1, epochs_to_graph=10, \n",
    "      num_batches_to_print=10000, start_epoch=current_epoch)"
   ]
  },
  {
   "cell_type": "code",
   "execution_count": null,
   "metadata": {},
   "outputs": [],
   "source": []
  },
  {
   "cell_type": "code",
   "execution_count": null,
   "metadata": {},
   "outputs": [],
   "source": [
    "x = torch.empty(32, 1, 1).cuda()\n",
    "y = torch.empty(100, 32, 80, 60).cuda()"
   ]
  },
  {
   "cell_type": "code",
   "execution_count": null,
   "metadata": {},
   "outputs": [],
   "source": [
    "z = x[:,None,None] + y"
   ]
  },
  {
   "cell_type": "code",
   "execution_count": null,
   "metadata": {},
   "outputs": [],
   "source": [
    "x.shape"
   ]
  },
  {
   "cell_type": "code",
   "execution_count": null,
   "metadata": {},
   "outputs": [],
   "source": [
    "l = torch.nn.Linear(2, 10)\n",
    "r = torch.rand(2)\n",
    "o = l(r)"
   ]
  },
  {
   "cell_type": "code",
   "execution_count": null,
   "metadata": {},
   "outputs": [],
   "source": [
    "o.shape"
   ]
  },
  {
   "cell_type": "code",
   "execution_count": null,
   "metadata": {},
   "outputs": [],
   "source": [
    "o[:,None,None].shape"
   ]
  },
  {
   "cell_type": "code",
   "execution_count": null,
   "metadata": {},
   "outputs": [],
   "source": []
  }
 ],
 "metadata": {
  "kernelspec": {
   "display_name": "Python 3",
   "language": "python",
   "name": "python3"
  },
  "language_info": {
   "codemirror_mode": {
    "name": "ipython",
    "version": 3
   },
   "file_extension": ".py",
   "mimetype": "text/x-python",
   "name": "python",
   "nbconvert_exporter": "python",
   "pygments_lexer": "ipython3",
   "version": "3.6.7"
  }
 },
 "nbformat": 4,
 "nbformat_minor": 2
}
