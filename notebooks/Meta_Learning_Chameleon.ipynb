{
 "cells": [
  {
   "cell_type": "code",
   "execution_count": 1,
   "metadata": {},
   "outputs": [],
   "source": [
    "%load_ext autoreload\n",
    "%autoreload 2\n",
    "%matplotlib inline"
   ]
  },
  {
   "cell_type": "code",
   "execution_count": 2,
   "metadata": {},
   "outputs": [
    {
     "name": "stdout",
     "output_type": "stream",
     "text": [
      "Appending key for api.wandb.ai to your netrc file: /home/cc/.netrc\r\n",
      "\u001b[32mSuccessfully logged in to Weights & Biases!\u001b[0m\r\n"
     ]
    }
   ],
   "source": [
    "import sys\n",
    "\n",
    "# !git clone https://github.com/guydav/deep-learning-projects.git\n",
    "# !pip install -q -r deep-learning-projects/requirements.txt\n",
    "!wandb login 9676e3cc95066e4865586082971f2653245f09b4\n",
    "sys.path.extend(('/home/cc/deep-learning-projects', '/home/cc/src/tqdm'))"
   ]
  },
  {
   "cell_type": "code",
   "execution_count": 3,
   "metadata": {},
   "outputs": [],
   "source": [
    "import projects\n",
    "from projects.metalearning import *"
   ]
  },
  {
   "cell_type": "markdown",
   "metadata": {},
   "source": [
    "## Load the dataset\n",
    "\n",
    "This time with 3x the batch size, 1.5k"
   ]
  },
  {
   "cell_type": "code",
   "execution_count": 5,
   "metadata": {},
   "outputs": [
    {
     "name": "stdout",
     "output_type": "stream",
     "text": [
      "Splitting test-train at 45000\n",
      "[0.4644661  0.45839542 0.45069984]\n",
      "[0.11204559 0.11298621 0.12539756]\n"
     ]
    }
   ],
   "source": [
    "ML_50K = '/home/cc/meta_learning_50k.h5'\n",
    "\n",
    "normalized_train_dataset, train_dataloader, normalized_test_dataset, test_dataloader = \\\n",
    "        create_normalized_datasets(dataset_path=ML_50K, \n",
    "                                   batch_size=1500,\n",
    "                                   num_workers=4,\n",
    "                                   downsample_size=None,\n",
    "                                   should_flip=False,\n",
    "                                   return_indices=False,\n",
    "                                   dataset_class_kwargs=dict(\n",
    "                                       num_dimensions=3,\n",
    "                                       features_per_dimension=(10, 10, 10)\n",
    "                                   ))"
   ]
  },
  {
   "cell_type": "code",
   "execution_count": null,
   "metadata": {},
   "outputs": [],
   "source": [
    "current_epoch = 0\n",
    "save_dir = '/home/cc/checkpoints'\n",
    "\n",
    "large_batch_no_dropout_test_model = PoolingDropoutCNNMLP(\n",
    "    query_length=30,\n",
    "    conv_filter_sizes=(16, 32, 48, 64),\n",
    "    conv_output_size=4480, \n",
    "    mlp_layer_sizes=(512, 512, 512, 512),\n",
    "    lr=4e-4, \n",
    "    weight_decay=1e-4, \n",
    "    conv_dropout=False,\n",
    "    mlp_dropout=False,\n",
    "    name='no_dropout_50k_cnn_mlp_large_batch',\n",
    "    save_dir=save_dir)\n",
    "\n",
    "large_batch_no_dropout_test_model.load_model(current_epoch)\n",
    "large_batch_no_dropout_test_model = large_batch_no_dropout_test_model.cuda()"
   ]
  },
  {
   "cell_type": "code",
   "execution_count": null,
   "metadata": {},
   "outputs": [],
   "source": [
    "# os.environ['WANDB_RUN_ID'] ='98w3kzlw'\n",
    "# os.environ['WANDB_RESUME'] = 'must'\n",
    "wandb.init(project=\"meta-learning\") #, resume=True)\n",
    "\n",
    "!wandb login 9676e3cc95066e4865586082971f2653245f09b4\n",
    "\n",
    "# os.environ['WANDB_RUN_ID'] ='98w3kzlw'\n",
    "# os.environ['WANDB_RESUME'] = 'must'\n",
    "wandb.init(project=\"meta-learning\") #, resume=True)\n",
    "\n",
    "current_model = large_batch_no_dropout_test_model\n",
    "\n",
    "wandb.config.lr = current_model.lr\n",
    "wandb.config.decay = current_model.weight_decay\n",
    "wandb.config.loss = 'CE'\n",
    "wandb.config.batch_size = train_dataloader.batch_size"
   ]
  },
  {
   "cell_type": "code",
   "execution_count": null,
   "metadata": {},
   "outputs": [],
   "source": [
    "total_epochs = 200\n",
    "wandb.config.update(dict(epochs=total_epochs), allow_val_change=True)\n",
    "\n",
    "train(large_batch_no_dropout_test_model, train_dataloader, test_dataloader, \n",
    "      num_epochs=total_epochs - current_epoch, epochs_to_test=1, epochs_to_graph=10, \n",
    "      num_batches_to_print=10000, start_epoch=current_epoch, watch=False)"
   ]
  },
  {
   "cell_type": "code",
   "execution_count": null,
   "metadata": {},
   "outputs": [],
   "source": []
  }
 ],
 "metadata": {
  "kernelspec": {
   "display_name": "Python 3",
   "language": "python",
   "name": "python3"
  },
  "language_info": {
   "codemirror_mode": {
    "name": "ipython",
    "version": 3
   },
   "file_extension": ".py",
   "mimetype": "text/x-python",
   "name": "python",
   "nbconvert_exporter": "python",
   "pygments_lexer": "ipython3",
   "version": "3.7.2"
  }
 },
 "nbformat": 4,
 "nbformat_minor": 2
}
