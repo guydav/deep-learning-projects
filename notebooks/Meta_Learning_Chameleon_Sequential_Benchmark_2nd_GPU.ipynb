{
 "cells": [
  {
   "cell_type": "code",
   "execution_count": 1,
   "metadata": {},
   "outputs": [],
   "source": [
    "%load_ext autoreload\n",
    "%autoreload 2\n",
    "%matplotlib inline"
   ]
  },
  {
   "cell_type": "code",
   "execution_count": 2,
   "metadata": {},
   "outputs": [],
   "source": [
    "import os\n",
    "os.environ['CUDA_DEVICE_ORDER'] = 'PCI_BUS_ID'\n",
    "os.environ['CUDA_VISIBLE_DEVICES'] = '1'"
   ]
  },
  {
   "cell_type": "code",
   "execution_count": 3,
   "metadata": {},
   "outputs": [
    {
     "name": "stdout",
     "output_type": "stream",
     "text": [
      "Appending key for api.wandb.ai to your netrc file: /home/cc/.netrc\r\n",
      "\u001b[32mSuccessfully logged in to Weights & Biases!\u001b[0m\r\n"
     ]
    }
   ],
   "source": [
    "import sys\n",
    "import torch\n",
    "# Does this fix the hdf5 multiprocessing bug?\n",
    "torch.multiprocessing.set_start_method(\"spawn\")\n",
    "\n",
    "# !git clone https://github.com/guydav/deep-learning-projects.git\n",
    "# !pip install -q -r deep-learning-projects/requirements.txt\n",
    "!wandb login 9676e3cc95066e4865586082971f2653245f09b4\n",
    "sys.path.extend(('/home/cc/deep-learning-projects', '/home/cc/src/tqdm'))"
   ]
  },
  {
   "cell_type": "code",
   "execution_count": 4,
   "metadata": {},
   "outputs": [],
   "source": [
    "import projects\n",
    "from projects.metalearning import *"
   ]
  },
  {
   "cell_type": "markdown",
   "metadata": {},
   "source": [
    "## Load the dataset\n",
    "\n",
    "This time with 3x the batch size, 1.5k"
   ]
  },
  {
   "cell_type": "code",
   "execution_count": 5,
   "metadata": {},
   "outputs": [
    {
     "name": "stdout",
     "output_type": "stream",
     "text": [
      "Splitting test-train at 45000\n",
      "Loaded normalization from cache\n",
      "[0.4644661  0.45839542 0.45069984]\n",
      "[0.11204559 0.11298621 0.12539756]\n"
     ]
    },
    {
     "ename": "TypeError",
     "evalue": "'NoneType' object is not subscriptable",
     "output_type": "error",
     "traceback": [
      "\u001b[0;31m---------------------------------------------------------------------------\u001b[0m",
      "\u001b[0;31mTypeError\u001b[0m                                 Traceback (most recent call last)",
      "\u001b[0;32m<ipython-input-5-3730a50e116f>\u001b[0m in \u001b[0;36m<module>\u001b[0;34m\u001b[0m\n\u001b[1;32m     24\u001b[0m                                    ),\n\u001b[1;32m     25\u001b[0m                                    \u001b[0mtrain_dataset_kwargs\u001b[0m\u001b[0;34m=\u001b[0m\u001b[0mdict\u001b[0m\u001b[0;34m(\u001b[0m\u001b[0mprevious_query_coreset_size\u001b[0m\u001b[0;34m=\u001b[0m\u001b[0mtrain_coreset_size\u001b[0m\u001b[0;34m)\u001b[0m\u001b[0;34m,\u001b[0m\u001b[0;34m\u001b[0m\u001b[0;34m\u001b[0m\u001b[0m\n\u001b[0;32m---> 26\u001b[0;31m                                    test_dataset_kwargs=dict(previous_query_coreset_size=test_coreset_size))\n\u001b[0m",
      "\u001b[0;32m~/deep-learning-projects/projects/metalearning/dataset.py\u001b[0m in \u001b[0;36mcreate_normalized_datasets\u001b[0;34m(dataset_path, batch_size, num_workers, dataset_train_prop, pin_memory, downsample_size, should_flip, shuffle, return_indices, dataset_class, dataset_class_kwargs, train_dataset_kwargs, test_dataset_kwargs, normalization_dataset_class)\u001b[0m\n\u001b[1;32m    333\u001b[0m     normalized_train_dataset = dataset_class(dataset_path, transform=train_transformer,\n\u001b[1;32m    334\u001b[0m                                              \u001b[0mend_index\u001b[0m\u001b[0;34m=\u001b[0m\u001b[0mtest_train_split_index\u001b[0m\u001b[0;34m,\u001b[0m\u001b[0;34m\u001b[0m\u001b[0;34m\u001b[0m\u001b[0m\n\u001b[0;32m--> 335\u001b[0;31m                                              return_indices=return_indices, **train_dataset_kwargs)\n\u001b[0m\u001b[1;32m    336\u001b[0m     train_dataloader = DataLoader(normalized_train_dataset, batch_size=batch_size,\n\u001b[1;32m    337\u001b[0m                                   shuffle=shuffle, num_workers=num_workers, pin_memory=pin_memory)\n",
      "\u001b[0;32m~/deep-learning-projects/projects/metalearning/dataset.py\u001b[0m in \u001b[0;36m__init__\u001b[0;34m(self, in_file, benchmark_dimension, random_seed, previous_query_coreset_size, query_order, transform, start_index, end_index, return_indices, num_dimensions, features_per_dimension)\u001b[0m\n\u001b[1;32m    155\u001b[0m \u001b[0;34m\u001b[0m\u001b[0m\n\u001b[1;32m    156\u001b[0m         \u001b[0mself\u001b[0m\u001b[0;34m.\u001b[0m\u001b[0mcurrent_epoch_queries\u001b[0m \u001b[0;34m=\u001b[0m \u001b[0;34m[\u001b[0m\u001b[0;34m]\u001b[0m\u001b[0;34m\u001b[0m\u001b[0;34m\u001b[0m\u001b[0m\n\u001b[0;32m--> 157\u001b[0;31m         \u001b[0mself\u001b[0m\u001b[0;34m.\u001b[0m\u001b[0mstart_epoch\u001b[0m\u001b[0;34m(\u001b[0m\u001b[0;34m)\u001b[0m\u001b[0;34m\u001b[0m\u001b[0;34m\u001b[0m\u001b[0m\n\u001b[0m\u001b[1;32m    158\u001b[0m \u001b[0;34m\u001b[0m\u001b[0m\n\u001b[1;32m    159\u001b[0m     \u001b[0;32mdef\u001b[0m \u001b[0m_cache_images_by_query\u001b[0m\u001b[0;34m(\u001b[0m\u001b[0mself\u001b[0m\u001b[0;34m)\u001b[0m\u001b[0;34m:\u001b[0m\u001b[0;34m\u001b[0m\u001b[0;34m\u001b[0m\u001b[0m\n",
      "\u001b[0;32m~/deep-learning-projects/projects/metalearning/dataset.py\u001b[0m in \u001b[0;36mstart_epoch\u001b[0;34m(self)\u001b[0m\n\u001b[1;32m    204\u001b[0m         \u001b[0mSample\u001b[0m \u001b[0mthe\u001b[0m \u001b[0mimages\u001b[0m \u001b[0;32mfor\u001b[0m \u001b[0meach\u001b[0m \u001b[0mcoreset\u001b[0m \u001b[0mquery\u001b[0m \u001b[0mto\u001b[0m \u001b[0mbe\u001b[0m \u001b[0mused\u001b[0m \u001b[0;32mfor\u001b[0m \u001b[0mthe\u001b[0m \u001b[0mcurrent\u001b[0m \u001b[0mepoch\u001b[0m\u001b[0;34m\u001b[0m\u001b[0;34m\u001b[0m\u001b[0m\n\u001b[1;32m    205\u001b[0m         \"\"\"\n\u001b[0;32m--> 206\u001b[0;31m         \u001b[0mprint\u001b[0m\u001b[0;34m(\u001b[0m\u001b[0mself\u001b[0m\u001b[0;34m.\u001b[0m\u001b[0mquery_order\u001b[0m\u001b[0;34m,\u001b[0m \u001b[0mself\u001b[0m\u001b[0;34m.\u001b[0m\u001b[0mcurrent_query_index\u001b[0m\u001b[0;34m,\u001b[0m \u001b[0mself\u001b[0m\u001b[0;34m.\u001b[0m\u001b[0mquery_order\u001b[0m\u001b[0;34m[\u001b[0m\u001b[0mself\u001b[0m\u001b[0;34m.\u001b[0m\u001b[0mcurrent_query_index\u001b[0m\u001b[0;34m]\u001b[0m\u001b[0;34m)\u001b[0m\u001b[0;34m\u001b[0m\u001b[0;34m\u001b[0m\u001b[0m\n\u001b[0m\u001b[1;32m    207\u001b[0m \u001b[0;34m\u001b[0m\u001b[0m\n\u001b[1;32m    208\u001b[0m         \u001b[0mself\u001b[0m\u001b[0;34m.\u001b[0m\u001b[0mcurrent_epoch_queries\u001b[0m \u001b[0;34m=\u001b[0m \u001b[0;34m[\u001b[0m\u001b[0;34m]\u001b[0m\u001b[0;34m\u001b[0m\u001b[0;34m\u001b[0m\u001b[0m\n",
      "\u001b[0;31mTypeError\u001b[0m: 'NoneType' object is not subscriptable"
     ]
    }
   ],
   "source": [
    "ML_50K = '/home/cc/meta_learning_50k.h5'\n",
    "\n",
    "benchmark_dimension = 0\n",
    "dataset_random_seed = 33\n",
    "train_coreset_size = 3000\n",
    "test_coreset_size = 5000\n",
    "\n",
    "np.random.seed(0)\n",
    "query_order = np.random.shuffle(np.arange(10))\n",
    "accuracy_threshold = 0.9\n",
    "\n",
    "normalized_train_dataset, train_dataloader, normalized_test_dataset, test_dataloader = \\\n",
    "        create_normalized_datasets(dataset_path=ML_50K, \n",
    "                                   batch_size=1500,\n",
    "                                   num_workers=4,\n",
    "                                   downsample_size=None,\n",
    "                                   should_flip=False,\n",
    "                                   return_indices=False,\n",
    "                                   dataset_class=SequentialBenchmarkMetaLearningDataset,\n",
    "                                   dataset_class_kwargs=dict(\n",
    "                                       benchmark_dimension=benchmark_dimension,\n",
    "                                       random_seed=dataset_random_seed,\n",
    "                                       query_order=query_order\n",
    "                                   ),\n",
    "                                   train_dataset_kwargs=dict(previous_query_coreset_size=train_coreset_size),\n",
    "                                   test_dataset_kwargs=dict(previous_query_coreset_size=test_coreset_size))"
   ]
  },
  {
   "cell_type": "code",
   "execution_count": null,
   "metadata": {},
   "outputs": [],
   "source": [
    "current_epoch = 0\n",
    "save_dir = '/home/cc/checkpoints'\n",
    "\n",
    "sequential_benchmark_test_model = PoolingDropoutCNNMLP(\n",
    "    query_length=30,\n",
    "    conv_filter_sizes=(16, 32, 48, 64),\n",
    "    conv_output_size=4480, \n",
    "    mlp_layer_sizes=(512, 512, 512, 512),\n",
    "    lr=5e-4, \n",
    "    weight_decay=1e-4, \n",
    "    conv_dropout=False,\n",
    "    mlp_dropout=False,\n",
    "    name='no_dropout_yes_decay_sequential_benchmark_v1',\n",
    "    save_dir=save_dir)\n",
    "\n",
    "sequential_benchmark_test_model.load_model(current_epoch)\n",
    "sequential_benchmark_test_model = sequential_benchmark_test_model.cuda()"
   ]
  },
  {
   "cell_type": "code",
   "execution_count": null,
   "metadata": {},
   "outputs": [],
   "source": [
    "# os.environ['WANDB_RUN_ID'] ='98w3kzlw'\n",
    "# os.environ['WANDB_RESUME'] = 'must'\n",
    "wandb.init(entity='meta-learning-scaling', project='sequential-benchmark') #, resume=True)\n",
    "\n",
    "current_model = sequential_benchmark_test_model\n",
    "\n",
    "wandb.config.lr = current_model.lr\n",
    "wandb.config.decay = current_model.weight_decay\n",
    "wandb.config.loss = 'CE'\n",
    "wandb.config.batch_size = train_dataloader.batch_size\n",
    "wandb.config.benchmark_dimension = benchmark_dimension\n",
    "wandb.config.dataset_random_seed = dataset_random_seed\n",
    "wandb.config.train_coreset_size = train_coreset_size\n",
    "wandb.config.test_coreset_size = test_coreset_size\n",
    "wandb.config.query_order = query_order\n",
    "wandb.config.accuracy_threshold = accuracy_threshold"
   ]
  },
  {
   "cell_type": "code",
   "execution_count": null,
   "metadata": {},
   "outputs": [],
   "source": [
    "total_epochs = 200\n",
    "wandb.config.update(dict(epochs=total_epochs), allow_val_change=True)\n",
    "\n",
    "sequential_benchmark(sequential_benchmark_test_model, train_dataloder, test_dataloader, accuracy_threshold,\n",
    "                     num_epochs=total_epochs - current_epoch, epochs_to_graph=10, start_epoch=current_epoch)"
   ]
  },
  {
   "cell_type": "code",
   "execution_count": null,
   "metadata": {},
   "outputs": [],
   "source": []
  },
  {
   "cell_type": "code",
   "execution_count": null,
   "metadata": {},
   "outputs": [],
   "source": []
  }
 ],
 "metadata": {
  "kernelspec": {
   "display_name": "Python 3",
   "language": "python",
   "name": "python3"
  },
  "language_info": {
   "codemirror_mode": {
    "name": "ipython",
    "version": 3
   },
   "file_extension": ".py",
   "mimetype": "text/x-python",
   "name": "python",
   "nbconvert_exporter": "python",
   "pygments_lexer": "ipython3",
   "version": "3.7.2"
  }
 },
 "nbformat": 4,
 "nbformat_minor": 2
}
