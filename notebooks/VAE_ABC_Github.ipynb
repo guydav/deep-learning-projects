{
  "nbformat": 4,
  "nbformat_minor": 0,
  "metadata": {
    "colab": {
      "name": "VAE_ABC_Github.ipynb",
      "version": "0.3.2",
      "provenance": [],
      "collapsed_sections": [],
      "include_colab_link": true
    },
    "kernelspec": {
      "name": "python3",
      "display_name": "Python 3"
    },
    "accelerator": "GPU"
  },
  "cells": [
    {
      "cell_type": "markdown",
      "metadata": {
        "id": "view-in-github",
        "colab_type": "text"
      },
      "source": [
        "<a href=\"https://colab.research.google.com/github/guydav/deep-learning-projects/blob/master/notebooks/VAE_ABC_Github.ipynb\" target=\"_parent\"><img src=\"https://colab.research.google.com/assets/colab-badge.svg\" alt=\"Open In Colab\"/></a>"
      ]
    },
    {
      "metadata": {
        "id": "9wIcfTf9xi3v",
        "colab_type": "code",
        "colab": {}
      },
      "cell_type": "code",
      "source": [
        "!kill -9 -1"
      ],
      "execution_count": 0,
      "outputs": []
    },
    {
      "metadata": {
        "id": "sW2jM-KxMkGi",
        "colab_type": "text"
      },
      "cell_type": "markdown",
      "source": [
        "# VAEs as ABC Summary Functions\n",
        "\n",
        "Guy Davidson | IL181.014 | Professor Carl Scheffler | 2018-12-01\n",
        "\n",
        "The project is available here: https://colab.research.google.com/drive/1eNr-k-GIS7ZDTaBYz2DQRGUlIZL9uruu\n",
        "\n",
        "Note: I moved most of the implementation code to a series of cells fairly in the beginning, after the initial Colab notebook setup, which both makes it easier to resume running if I get allocated into a new machine, and should make it easier for you to reason over the code (and grade it).\n",
        "\n",
        "## Premise\n",
        "Likelihood-free methods such as ABC require a distance metric in order to evaluate proposed parameters. With high dimensional data, computing a distanc metric over an entire dataset can become computationally prohibitive. To combat this, a disance measure is computed over a summary function of the data, rather than over the entire data itself. Choosing such a summary function is often difficult. This work explores using the encoder half of a variational autoencoder (VAE) as the summary function in ABC methods.\n",
        "\n",
        "## Summary of Work and Results\n",
        "* Implemented a data generating process to arbitrarily mix MNIST digits, navigating some trickery between how PyTorch expects to use the data (floats in the [0, 1] range) and Sklean (bytes, so [0, 255]).\n",
        "* Improved upon PyTorch's basic variational autoencoder implementation to make extending it, saving models and loading them, and testing them easier.\n",
        "* Evaluated the VAE-ABC method on a variety of settings, including random testing over which digits comprise the mixtures and which digits are also offered to the model as a distraction, remaining within the realm of toy problems with 2 mixed digits and up to 2 additional digits offered to the models.\n",
        "    * Note: I'm aware that VAE usually accepts if the distance is smaller than some measure. To make reporting results easier, I simply considered the best result (by score) from each ABC execution as the best proposal. \n",
        "* Compared performance to a regular ABC implementation without the VAE - approximately the same speed with slightly better results from the VAE-using variant. \n",
        "* Examined a few potential improvements to the basic VAE model, which was only trained on raw (unmixed) MNIST digits:\n",
        "    * Experimented with biased samplers and distance metric penalties to improve ABC sampler performance.\n",
        "    * Training on MNIST and subsequently fine-tuning the autoencoder on reconstructing on mixed digits improved the result.\n",
        "    * Training the autoencoder solely on mixed digits improved the results further.\n",
        "    * Training a larger VAE (additional layer, units per layer, and latent dimensionality) improved marginally further.\n",
        "* Implemented a convolutional VAE using convolution operations as the encoder and deconvolution operations as the decoder.\n",
        "    * With substantially fewer parameters in the model, and the same latent dimensionality as the original VAE, this model outperformed all other models. \n",
        "    * Interestingly, training a larger convolutional model (both in number of filters and latent dimensionality) failed to improve upon the smaller convolutional result.\n",
        "* Implemented ABC-MCMC using a Metropolois-Hastings approach to hopefully explore the latent space better.\n",
        "    * This required implementing an appropriate proposal sampler over the simplex. After searching around, I implemented Director et al.'s (2017) [SALT, self-adjusting logit-transform proposal](https://www-tandfonline-com.ccl.idm.oclc.org/doi/abs/10.1080/00949655.2017.1376063?src=recsys&journalCode=gscs20), porting over their [R implementation](https://rdrr.io/cran/SALTSampler/f/) to Python.\n",
        "    * Preliminary results show it is actually not substantially better at exploring the space than the regular ABC. The distribution of results is less skewed, in the sense that the worst results tend to be better than the worst results of regular ABC, but the exploration (even in 4-D space) is slow, such that it needs more iterations to arrive on better solutions.\n",
        "    * Giving it additional iterations help, but it still needs substantially more in order to compete with standard ABC. I imagine it might fair relatively better in higher dimensions, but I'd need to run that test to be sure.\n",
        "\n",
        "## Potential Extensions / Next Steps\n",
        "* Continue iteratively improving the models, potentially exploring more advanced ABC methods such as ABC-SMC and ABC-HMC.\n",
        "* Test some of these models on the full complexity of the problem - recovering the correct combination with all ten digits. This will require running these tests for substantially longer.\n",
        "* Perform ablation studies to attempt to isolate which components actually drive the improvement in performance:\n",
        "    * Biasing the sampler?\n",
        "    * Increasing the size of the VAE, keeping latent representation dimension equal.\n",
        "    * Inrcrasing the size of the latent representation, otherwise keeping VAE layer sizes constant.\n",
        "    * The amount of iterations allowed to sample.\n",
        "    * The amount of training the VAE receives.\n",
        "    * Whether or not the VAE is also trained or solely trained on the mixture digits, rather than on MNIST alone.\n",
        "    * The effect of different choices in the convolutional architecture:\n",
        "        * Number of layers\n",
        "        * Number of filters per layer\n",
        "        * Choice of non-linearity\n",
        "        * Latent representation dimensionality\n",
        "* Explore that it might take to get ABC-MCMC better - at what number of iterations does it begin to substantially outperform regular ABC.  "
      ]
    },
    {
      "metadata": {
        "id": "vHgTk0IS5ndp",
        "colab_type": "text"
      },
      "cell_type": "markdown",
      "source": [
        "## Set up PyTorch"
      ]
    },
    {
      "metadata": {
        "id": "fSCf04-HPjAK",
        "colab_type": "code",
        "outputId": "d2077eed-fa52-4caa-aaca-80021ca942d6",
        "colab": {
          "base_uri": "https://localhost:8080/",
          "height": 275
        }
      },
      "cell_type": "code",
      "source": [
        "import sys\n",
        "\n",
        "!git clone https://github.com/guydav/deep-learning-projects.git\n",
        "!pip install -q -r deep-learning-projects/requirements.txt\n",
        "!wandb login 9676e3cc95066e4865586082971f2653245f09b4\n",
        "sys.path.extend(('./deep-learning-projects', './src/tqdm'))"
      ],
      "execution_count": 1,
      "outputs": [
        {
          "output_type": "stream",
          "text": [
            "Cloning into 'deep-learning-projects'...\n",
            "remote: Enumerating objects: 83, done.\u001b[K\n",
            "remote: Counting objects: 100% (83/83), done.\u001b[K\n",
            "remote: Compressing objects: 100% (61/61), done.\u001b[K\n",
            "remote: Total 83 (delta 36), reused 60 (delta 19), pack-reused 0\u001b[K\n",
            "Unpacking objects: 100% (83/83), done.\n",
            "tcmalloc: large alloc 1073750016 bytes == 0x619ea000 @  0x7fed7229c2a4 0x591a07 0x5b5d56 0x502e9a 0x506859 0x502209 0x502f3d 0x506859 0x504c28 0x502540 0x502f3d 0x506859 0x504c28 0x502540 0x502f3d 0x506859 0x504c28 0x502540 0x502f3d 0x507641 0x502209 0x502f3d 0x506859 0x504c28 0x502540 0x502f3d 0x507641 0x504c28 0x502540 0x502f3d 0x507641\n",
            "Branch 'colab' set up to track remote branch 'colab' from 'origin'.\n",
            "Switched to a new branch 'colab'\n",
            "\u001b[31mspacy 2.0.18 has requirement numpy>=1.15.0, but you'll have numpy 1.14.6 which is incompatible.\u001b[0m\n",
            "\u001b[31mfeaturetools 0.4.1 has requirement pandas>=0.23.0, but you'll have pandas 0.22.0 which is incompatible.\u001b[0m\n",
            "\u001b[31mwandb 0.6.32 has requirement python-dateutil>=2.6.1, but you'll have python-dateutil 2.5.3 which is incompatible.\u001b[0m\n",
            "Appending key for api.wandb.ai to your netrc file: /root/.netrc\n",
            "\u001b[32mSuccessfully logged in to Weights & Biases!\u001b[0m\n"
          ],
          "name": "stdout"
        }
      ]
    },
    {
      "metadata": {
        "id": "5yk5iLEw5prX",
        "colab_type": "text"
      },
      "cell_type": "markdown",
      "source": [
        "## Set up Google Drive access to save/load files\n",
        "\n",
        "Install packages and authorize, set up directory, mount, ..."
      ]
    },
    {
      "metadata": {
        "id": "CTXTAEV05skV",
        "colab_type": "code",
        "outputId": "1c32faf9-6ee8-4cb8-ea1a-50fc3cb9a506",
        "colab": {
          "base_uri": "https://localhost:8080/",
          "height": 887
        }
      },
      "cell_type": "code",
      "source": [
        "!add-apt-repository -y ppa:alessandro-strada/google-drive-ocamlfuse-beta\n",
        "!apt-get update\n",
        "!apt-get install google-drive-ocamlfuse\n",
        "!apt-get -y install -qq fuse\n",
        "from google.colab import auth\n",
        "auth.authenticate_user()\n",
        "\n",
        "from oauth2client.client import GoogleCredentials\n",
        "creds = GoogleCredentials.get_application_default()\n",
        "import getpass\n",
        "!google-drive-ocamlfuse -headless -id={creds.client_id} -secret={creds.client_secret} < /dev/null 2>&1 | grep URL\n",
        "vcode = getpass.getpass()\n",
        "!echo {vcode} | google-drive-ocamlfuse -headless -id={creds.client_id} -secret={creds.client_secret}\n",
        "\n",
        "!mkdir -p drive\n",
        "!google-drive-ocamlfuse drive\n",
        "!google-drive-ocamlfuse -cc"
      ],
      "execution_count": 2,
      "outputs": [
        {
          "output_type": "stream",
          "text": [
            "\r0% [Working]\r            \rGet:1 http://security.ubuntu.com/ubuntu bionic-security InRelease [83.2 kB]\n",
            "\r0% [Connecting to archive.ubuntu.com (91.189.88.162)] [1 InRelease 2,588 B/83.2\r                                                                               \rHit:2 http://archive.ubuntu.com/ubuntu bionic InRelease\n",
            "\r0% [1 InRelease 40.2 kB/83.2 kB 48%] [Waiting for headers] [Connected to develo\r                                                                               \rGet:3 http://archive.ubuntu.com/ubuntu bionic-updates InRelease [88.7 kB]\n",
            "\r                                                                               \rGet:4 http://ppa.launchpad.net/alessandro-strada/google-drive-ocamlfuse-beta/ubuntu bionic InRelease [15.4 kB]\n",
            "\r0% [3 InRelease 8,396 B/88.7 kB 9%] [1 InRelease 40.2 kB/83.2 kB 48%] [Connecti\r0% [2 InRelease gpgv 242 kB] [3 InRelease 8,396 B/88.7 kB 9%] [1 InRelease 43.1\r                                                                               \rGet:5 http://ppa.launchpad.net/graphics-drivers/ppa/ubuntu bionic InRelease [21.3 kB]\n",
            "\r0% [2 InRelease gpgv 242 kB] [3 InRelease 17.1 kB/88.7 kB 19%] [1 InRelease 79.\r0% [2 InRelease gpgv 242 kB] [3 InRelease 22.9 kB/88.7 kB 26%] [5 InRelease 14.\r0% [2 InRelease gpgv 242 kB] [3 InRelease 40.3 kB/88.7 kB 45%] [Waiting for hea\r                                                                               \r0% [2 InRelease gpgv 242 kB] [Waiting for headers] [Waiting for headers]\r                                                                        \rGet:6 http://archive.ubuntu.com/ubuntu bionic-backports InRelease [74.6 kB]\n",
            "Ign:7 https://developer.download.nvidia.com/compute/cuda/repos/ubuntu1710/x86_64  InRelease\n",
            "Ign:8 https://developer.download.nvidia.com/compute/machine-learning/repos/ubuntu1604/x86_64  InRelease\n",
            "Hit:9 https://developer.download.nvidia.com/compute/cuda/repos/ubuntu1710/x86_64  Release\n",
            "Hit:10 https://developer.download.nvidia.com/compute/machine-learning/repos/ubuntu1604/x86_64  Release\n",
            "Get:11 http://ppa.launchpad.net/alessandro-strada/google-drive-ocamlfuse-beta/ubuntu bionic/main amd64 Packages [2,017 B]\n",
            "Get:12 http://security.ubuntu.com/ubuntu bionic-security/main amd64 Packages [300 kB]\n",
            "Get:13 http://security.ubuntu.com/ubuntu bionic-security/universe amd64 Packages [135 kB]\n",
            "Get:14 http://ppa.launchpad.net/graphics-drivers/ppa/ubuntu bionic/main amd64 Packages [27.2 kB]\n",
            "Get:15 http://archive.ubuntu.com/ubuntu bionic-updates/main amd64 Packages [618 kB]\n",
            "Get:16 http://archive.ubuntu.com/ubuntu bionic-updates/universe amd64 Packages [900 kB]\n",
            "Fetched 2,266 kB in 2s (1,272 kB/s)\n",
            "Reading package lists... Done\n",
            "Hit:1 http://security.ubuntu.com/ubuntu bionic-security InRelease\n",
            "Hit:2 http://archive.ubuntu.com/ubuntu bionic InRelease\n",
            "Hit:3 http://ppa.launchpad.net/alessandro-strada/google-drive-ocamlfuse-beta/ubuntu bionic InRelease\n",
            "Hit:4 http://archive.ubuntu.com/ubuntu bionic-updates InRelease\n",
            "Hit:5 http://ppa.launchpad.net/graphics-drivers/ppa/ubuntu bionic InRelease\n",
            "Hit:6 http://archive.ubuntu.com/ubuntu bionic-backports InRelease\n",
            "Ign:7 https://developer.download.nvidia.com/compute/cuda/repos/ubuntu1710/x86_64  InRelease\n",
            "Ign:8 https://developer.download.nvidia.com/compute/machine-learning/repos/ubuntu1604/x86_64  InRelease\n",
            "Hit:9 https://developer.download.nvidia.com/compute/cuda/repos/ubuntu1710/x86_64  Release\n",
            "Hit:10 https://developer.download.nvidia.com/compute/machine-learning/repos/ubuntu1604/x86_64  Release\n",
            "Reading package lists... Done\n",
            "Reading package lists... Done\n",
            "Building dependency tree       \n",
            "Reading state information... Done\n",
            "The following NEW packages will be installed:\n",
            "  google-drive-ocamlfuse\n",
            "0 upgraded, 1 newly installed, 0 to remove and 12 not upgraded.\n",
            "Need to get 1,246 kB of archives.\n",
            "After this operation, 6,494 kB of additional disk space will be used.\n",
            "Get:1 http://ppa.launchpad.net/alessandro-strada/google-drive-ocamlfuse-beta/ubuntu bionic/main amd64 google-drive-ocamlfuse amd64 0.7.1-0ubuntu3~ubuntu18.04.1 [1,246 kB]\n",
            "Fetched 1,246 kB in 0s (3,096 kB/s)\n",
            "Selecting previously unselected package google-drive-ocamlfuse.\n",
            "(Reading database ... 110842 files and directories currently installed.)\n",
            "Preparing to unpack .../google-drive-ocamlfuse_0.7.1-0ubuntu3~ubuntu18.04.1_amd64.deb ...\n",
            "Unpacking google-drive-ocamlfuse (0.7.1-0ubuntu3~ubuntu18.04.1) ...\n",
            "Setting up google-drive-ocamlfuse (0.7.1-0ubuntu3~ubuntu18.04.1) ...\n",
            "Processing triggers for man-db (2.8.3-2ubuntu0.1) ...\n",
            "Please, open the following URL in a web browser: https://accounts.google.com/o/oauth2/auth?client_id=32555940559.apps.googleusercontent.com&redirect_uri=urn%3Aietf%3Awg%3Aoauth%3A2.0%3Aoob&scope=https%3A%2F%2Fwww.googleapis.com%2Fauth%2Fdrive&response_type=code&access_type=offline&approval_prompt=force\n",
            "··········\n",
            "Please, open the following URL in a web browser: https://accounts.google.com/o/oauth2/auth?client_id=32555940559.apps.googleusercontent.com&redirect_uri=urn%3Aietf%3Awg%3Aoauth%3A2.0%3Aoob&scope=https%3A%2F%2Fwww.googleapis.com%2Fauth%2Fdrive&response_type=code&access_type=offline&approval_prompt=force\n",
            "Please enter the verification code: Access token retrieved correctly.\n",
            "Clearing cache...done\n"
          ],
          "name": "stdout"
        }
      ]
    },
    {
      "metadata": {
        "id": "l_FsVxA26Abr",
        "colab_type": "code",
        "colab": {
          "base_uri": "https://localhost:8080/",
          "height": 187
        },
        "outputId": "fe815725-a114-4e6f-c50c-617e6f65ce0f"
      },
      "cell_type": "code",
      "source": [
        "!ls -la \"drive/Colab/VAE_ABC\""
      ],
      "execution_count": 5,
      "outputs": [
        {
          "output_type": "stream",
          "text": [
            "total 36\n",
            "drwxr-xr-x 2 root root 4096 Nov 29 14:39 .\n",
            "drwxr-xr-x 2 root root 4096 Nov 29 14:39 ..\n",
            "drwxr-xr-x 2 root root 4096 Nov 29 14:57 base_vae\n",
            "drwxr-xr-x 2 root root 4096 Nov 29 22:52 base_vae_mixed_tuning\n",
            "drwxr-xr-x 2 root root 4096 Nov 30 16:21 conv_vae\n",
            "drwxr-xr-x 2 root root 4096 Nov 30 16:51 large_conv_vae\n",
            "drwxr-xr-x 2 root root 4096 Nov 30 13:29 larger_vae\n",
            "drwxr-xr-x 2 root root 4096 Nov 29 23:11 test_vae\n",
            "drwxr-xr-x 2 root root 4096 Nov 30 10:06 vae_mixed_training_only\n"
          ],
          "name": "stdout"
        }
      ]
    },
    {
      "metadata": {
        "id": "jXuWBknvmcuC",
        "colab_type": "code",
        "colab": {}
      },
      "cell_type": "code",
      "source": [
        "from projects.vae_abc import *"
      ],
      "execution_count": 0,
      "outputs": []
    },
    {
      "metadata": {
        "id": "AZ3-ItjJ6sj4",
        "colab_type": "text"
      },
      "cell_type": "markdown",
      "source": [
        "## Set up dataset and digit mixer"
      ]
    },
    {
      "metadata": {
        "id": "WFuvtZ7I6vEz",
        "colab_type": "code",
        "outputId": "91e09a6d-5ab6-4afd-cd71-825824dc6c1c",
        "colab": {
          "base_uri": "https://localhost:8080/",
          "height": 350
        }
      },
      "cell_type": "code",
      "source": [
        "mnist = datasets.MNIST('../data', train=True, download=True)\n",
        "\n",
        "plt.plot(figsize=(16, 16))\n",
        "\n",
        "NROWS = 4\n",
        "NCOLS = 4\n",
        "\n",
        "for i in range(NROWS * NCOLS):\n",
        "    ax = plt.subplot(4, 4, i + 1)\n",
        "    ax.imshow(mnist.train_data[np.random.randint(mnist.train_data.shape[0])].reshape(28, 28))"
      ],
      "execution_count": 7,
      "outputs": [
        {
          "output_type": "display_data",
          "data": {
            "image/png": "[encoded data removed]",
            "text/plain": [
              "<matplotlib.figure.Figure at 0x7f34ea9d1240>"
            ]
          },
          "metadata": {
            "tags": []
          }
        }
      ]
    },
    {
      "metadata": {
        "id": "tRbVwF8U6xpK",
        "colab_type": "code",
        "outputId": "c09e05ce-6e2d-4084-8ae5-01e73064ca57",
        "colab": {
          "base_uri": "https://localhost:8080/",
          "height": 350
        }
      },
      "cell_type": "code",
      "source": [
        "dm = SklearnDigitMixer((0, 1), (0.3, 0.7))\n",
        "im = dm(16)\n",
        "im.shape, im[0].shape\n",
        "\n",
        "plt.plot(figsize=(16, 16))\n",
        "\n",
        "NROWS = 4\n",
        "NCOLS = 4\n",
        "\n",
        "for i in range(NROWS * NCOLS):\n",
        "    ax = plt.subplot(4, 4, i + 1)\n",
        "    ax.imshow(im[i].reshape(28, 28))"
      ],
      "execution_count": 8,
      "outputs": [
        {
          "output_type": "display_data",
          "data": {
            "image/png": "[encoded data removed]",
            "text/plain": [
              "<matplotlib.figure.Figure at 0x7f3489340358>"
            ]
          },
          "metadata": {
            "tags": []
          }
        }
      ]
    },
    {
      "metadata": {
        "id": "BchssCzz-dF7",
        "colab_type": "text"
      },
      "cell_type": "markdown",
      "source": [
        "## Train a VAE on regular MNIST (all ten digits)\n",
        "\n",
        "Using PyTorch's reference code as a guide:\n",
        "\n",
        "https://github.com/pytorch/examples/tree/master/vae"
      ]
    },
    {
      "metadata": {
        "id": "tPpgFWQpB9k4",
        "colab_type": "code",
        "outputId": "117ee01b-3844-42af-e865-bb2a2317f224",
        "colab": {
          "base_uri": "https://localhost:8080/",
          "height": 34
        }
      },
      "cell_type": "code",
      "source": [
        "vae = VAE('base_vae').to(device)\n",
        "vae.load_model(20)\n",
        "# vae_optimizer = optim.Adam(vae.parameters(), lr=1e-3)\n",
        "# train_and_test(vae, vae_optimizer, 20, train_loader, test_loader)"
      ],
      "execution_count": 9,
      "outputs": [
        {
          "output_type": "stream",
          "text": [
            "0\n"
          ],
          "name": "stdout"
        }
      ]
    },
    {
      "metadata": {
        "id": "2onunz1FglNo",
        "colab_type": "text"
      },
      "cell_type": "markdown",
      "source": [
        "## Can the VAE reconstruct our generated examples?"
      ]
    },
    {
      "metadata": {
        "id": "LMpnX71E8mC1",
        "colab_type": "code",
        "outputId": "dbe1ffb0-b1bd-4fd4-dc74-20066a547467",
        "colab": {
          "base_uri": "https://localhost:8080/",
          "height": 240
        }
      },
      "cell_type": "code",
      "source": [
        "dm = SklearnDigitMixer((0, 1), (0.3, 0.7))\n",
        "im = dm(8)\n",
        "plot_reconstruction(vae, im)"
      ],
      "execution_count": 10,
      "outputs": [
        {
          "output_type": "display_data",
          "data": {
            "image/png": "[encoded data removed]",
            "text/plain": [
              "<matplotlib.figure.Figure at 0x7f34888af3c8>"
            ]
          },
          "metadata": {
            "tags": []
          }
        }
      ]
    },
    {
      "metadata": {
        "id": "eE5zH37wh82L",
        "colab_type": "text"
      },
      "cell_type": "markdown",
      "source": [
        "## Use the autoencoder as a summary function in ABC\n",
        "\n",
        "Let's write out the algorithm more clearly:\n",
        "* Given some pre-generated data from a distribution we don't know\n",
        "* Sample mixture weights from our prior (uniform over the simplex)\n",
        "* Generate data according to the generative process with our sampled parameter\n",
        "* Summarize the data using the VAE's encoder\n",
        "* Compute mean squared error between the sampled data and 'real' data\n",
        "    * Pairwise distance between every pair of points, such that order doesn't matter?\n",
        "    * Substantially more computationally expensive, though...\n",
        "* Retain the small # of samples with the lowest distances\n",
        "\n",
        "### Next steps:\n",
        "* Try harder variants of this problem:\n",
        "    * Performing inference over more digits (give the model an option to try digits that didn't contribute)\n",
        "        * Above but with an L1 sparsity penalty to encourage only using a few digits?\n",
        "    * Generating a mixture of more digits\n",
        "    * Try this over different generting digits to see the sensitivity to which specific problem? Or which additional digits are in the pool?\n",
        "    * Try adding additional noise and seeing how well the model handles that?\n",
        "* Try training the autoencoder on digit mixtures as well, and see if that improves performance?\n",
        "* Compare to not using the encoder (both in results and in time taken)\n",
        "\n",
        "### Potential extensions:\n",
        "* Try ABC-MCMC and compare to results with standard ABC\n",
        "* Try a Bayesian optimization sort of treatment?\n",
        "* Try a VAE augmented with the class probabilities, or a convolutional VAE for additional expressivity?\n"
      ]
    },
    {
      "metadata": {
        "id": "3B6xev7OiDUl",
        "colab_type": "code",
        "outputId": "ad74eba2-ec90-4120-884f-325a42e2f1bc",
        "colab": {
          "base_uri": "https://localhost:8080/",
          "height": 140
        }
      },
      "cell_type": "code",
      "source": [
        "results = abc(default_digits, train_images, uniform_two_param_sampler, \n",
        "              vae, metric)\n",
        "print()\n",
        "print(results[:5])"
      ],
      "execution_count": 11,
      "outputs": [
        {
          "output_type": "stream",
          "text": [
            "./src/tqdm/tqdm/_tqdm_notebook.py:88: TqdmExperimentalWarning: Detect Google Colab 0.0.1a2 and thus load dummy ipywidgets package. Note that UI is different from that in Jupyter. See https://github.com/tqdm/tqdm/pull/640\n",
            "  \" See https://github.com/tqdm/tqdm/pull/640\".format(colab.__version__), TqdmExperimentalWarning)\n"
          ],
          "name": "stderr"
        },
        {
          "output_type": "display_data",
          "data": {
            "text/html": [
              "<div style=\"display:flex;flex-direction:row;\"><span></span><progress style='margin:2px 4px;' max='100' value='100'></progress>100% 100/100 [00:00&lt;00:00, 299.08it/s]</div>"
            ],
            "text/plain": [
              "<tqdm._fake_ipywidgets.HBox object>"
            ]
          },
          "metadata": {
            "tags": []
          }
        },
        {
          "output_type": "stream",
          "text": [
            "\n",
            "\n",
            "[(2.8496630260623266, array([0.29681426, 0.70318574])), (2.865546483063281, array([0.25891305, 0.74108695])), (2.922899100052035, array([0.23188522, 0.76811478])), (2.9231292340674035, array([0.36259841, 0.63740159])), (2.9316359096936235, array([0.35642608, 0.64357392]))]\n"
          ],
          "name": "stdout"
        }
      ]
    },
    {
      "metadata": {
        "id": "H08ab2e4iQZZ",
        "colab_type": "text"
      },
      "cell_type": "markdown",
      "source": [
        "What if we add more iterations? Do we get even closer?"
      ]
    },
    {
      "metadata": {
        "id": "qc040V5LiEwf",
        "colab_type": "code",
        "outputId": "7b2b8c32-3ff0-47cc-d974-f43fdb20060c",
        "colab": {
          "base_uri": "https://localhost:8080/",
          "height": 106
        }
      },
      "cell_type": "code",
      "source": [
        "results_1000_iter = abc(default_digits, train_images, uniform_two_param_sampler, \n",
        "                        vae, metric, n_iter=1000)\n",
        "print()\n",
        "print(results_1000_iter[:5])"
      ],
      "execution_count": 12,
      "outputs": [
        {
          "output_type": "display_data",
          "data": {
            "text/html": [
              "<div style=\"display:flex;flex-direction:row;\"><span></span><progress style='margin:2px 4px;' max='1000' value='1000'></progress>100% 1000/1000 [00:03&lt;00:00, 323.26it/s]</div>"
            ],
            "text/plain": [
              "<tqdm._fake_ipywidgets.HBox object>"
            ]
          },
          "metadata": {
            "tags": []
          }
        },
        {
          "output_type": "stream",
          "text": [
            "\n",
            "\n",
            "[(2.841840643811453, array([0.26376616, 0.73623384])), (2.858207244942117, array([0.26105984, 0.73894016])), (2.8679555660583627, array([0.27016085, 0.72983915])), (2.8684962398227434, array([0.22975278, 0.77024722])), (2.869416308019461, array([0.35593575, 0.64406425]))]\n"
          ],
          "name": "stdout"
        }
      ]
    },
    {
      "metadata": {
        "id": "LZw0veQhjGAj",
        "colab_type": "text"
      },
      "cell_type": "markdown",
      "source": [
        "Ever so slightly,  but that's random search for you."
      ]
    },
    {
      "metadata": {
        "id": "akFlZC23jUQ6",
        "colab_type": "text"
      },
      "cell_type": "markdown",
      "source": [
        "### First harder version: additional classes\n",
        "\n",
        "What if we allow the model to sample from 0/1/2/3, instead of just 0 and 1, will it recover something similar?"
      ]
    },
    {
      "metadata": {
        "id": "lFxAhlEBjdKe",
        "colab_type": "code",
        "outputId": "aa7bd423-d308-4d28-8258-ba8a9faf2a08",
        "colab": {
          "base_uri": "https://localhost:8080/",
          "height": 89
        }
      },
      "cell_type": "code",
      "source": [
        "def uniform_four_param_sampler(seed):\n",
        "    return np.random.dirichlet((1, 1, 1, 1))\n",
        "\n",
        "def four_digit_mixer_generator(valid_digits, params):\n",
        "    return SklearnDigitMixer(valid_digits, params)\n",
        "\n",
        "default_four_digits = (0, 1, 2, 3)\n",
        "\n",
        "four_digit_results = abc(default_four_digits, train_images, uniform_four_param_sampler, \n",
        "                         vae, metric, n_iter=1000)\n",
        "\n",
        "print(four_digit_results[:5])"
      ],
      "execution_count": 14,
      "outputs": [
        {
          "output_type": "display_data",
          "data": {
            "text/html": [
              "<div style=\"display:flex;flex-direction:row;\"><span></span><progress style='margin:2px 4px;' max='1000' value='1000'></progress>100% 1000/1000 [00:03&lt;00:00, 274.40it/s]</div>"
            ],
            "text/plain": [
              "<tqdm._fake_ipywidgets.HBox object>"
            ]
          },
          "metadata": {
            "tags": []
          }
        },
        {
          "output_type": "stream",
          "text": [
            "\n",
            "[(2.601285921318822, array([0.21623715, 0.5460499 , 0.10796997, 0.12974298])), (2.6113912869015286, array([0.22079943, 0.52876315, 0.10762998, 0.14280744])), (2.6309425816861327, array([0.21354878, 0.61640413, 0.05637526, 0.11367183])), (2.64263205882305, array([0.20958845, 0.52412421, 0.18610245, 0.08018489])), (2.6447250358068817, array([0.18673803, 0.52373594, 0.13939144, 0.1501346 ]))]\n"
          ],
          "name": "stdout"
        }
      ]
    },
    {
      "metadata": {
        "id": "bhUlSjS6lThn",
        "colab_type": "text"
      },
      "cell_type": "markdown",
      "source": [
        "Not as cleanly. What if I either change the prior, or add a scoring penalty to encourage sparsity?"
      ]
    },
    {
      "metadata": {
        "id": "79fNLAVDjSeo",
        "colab_type": "code",
        "outputId": "acd146bf-2469-42e2-db31-211663ae3aa0",
        "colab": {
          "base_uri": "https://localhost:8080/",
          "height": 89
        }
      },
      "cell_type": "code",
      "source": [
        "def biaesd_four_param_sampler(seed):\n",
        "    prior_counts = np.array((20, 10, 2, 1))\n",
        "    np.random.shuffle(prior_counts)\n",
        "    return np.random.dirichlet(prior_counts)\n",
        "\n",
        "biased_four_digit_results = abc(default_four_digits, train_images, biaesd_four_param_sampler, \n",
        "                                vae, metric, n_iter=1000)\n",
        "\n",
        "print(biased_four_digit_results[:5])"
      ],
      "execution_count": 15,
      "outputs": [
        {
          "output_type": "display_data",
          "data": {
            "text/html": [
              "<div style=\"display:flex;flex-direction:row;\"><span></span><progress style='margin:2px 4px;' max='1000' value='1000'></progress>100% 1000/1000 [00:03&lt;00:00, 280.57it/s]</div>"
            ],
            "text/plain": [
              "<tqdm._fake_ipywidgets.HBox object>"
            ]
          },
          "metadata": {
            "tags": []
          }
        },
        {
          "output_type": "stream",
          "text": [
            "\n",
            "[(2.630457911916551, array([0.21398098, 0.60660219, 0.14749391, 0.03192292])), (2.639584465371348, array([0.22700575, 0.54679332, 0.08718171, 0.13901922])), (2.6541286477400967, array([0.26133475, 0.57516424, 0.06666851, 0.0968325 ])), (2.65846245739949, array([0.30877815, 0.53823207, 0.01942205, 0.13356772])), (2.6645541019707073, array([0.32931554, 0.50874554, 0.03701146, 0.12492745]))]\n"
          ],
          "name": "stdout"
        }
      ]
    },
    {
      "metadata": {
        "id": "6i0UxOjalXdn",
        "colab_type": "code",
        "outputId": "a2aea26d-fc7a-43b6-e5e9-9e3e41f07584",
        "colab": {
          "base_uri": "https://localhost:8080/",
          "height": 89
        }
      },
      "cell_type": "code",
      "source": [
        "penalty_weight = 0.5\n",
        "\n",
        "def metric_with_penalty(params, generated, train):\n",
        "    return np.mean(cdist(generated, train)) - penalty_weight * np.sum(params ** 2)\n",
        "\n",
        "penalized_four_digit_results = abc(default_four_digits, train_images, uniform_four_param_sampler, \n",
        "                         vae, metric_with_penalty, n_iter=1000)\n",
        "\n",
        "print(penalized_four_digit_results[:5])\n"
      ],
      "execution_count": 17,
      "outputs": [
        {
          "output_type": "display_data",
          "data": {
            "text/html": [
              "<div style=\"display:flex;flex-direction:row;\"><span></span><progress style='margin:2px 4px;' max='1000' value='1000'></progress>100% 1000/1000 [00:03&lt;00:00, 268.41it/s]</div>"
            ],
            "text/plain": [
              "<tqdm._fake_ipywidgets.HBox object>"
            ]
          },
          "metadata": {
            "tags": []
          }
        },
        {
          "output_type": "stream",
          "text": [
            "\n",
            "[(2.417204943075559, array([0.19757317, 0.63840166, 0.1010087 , 0.06301647])), (2.4258756487773114, array([0.25324327, 0.60004955, 0.03262561, 0.11408157])), (2.4262094446037703, array([0.24290177, 0.57117914, 0.02887644, 0.15704265])), (2.4266246634015527, array([0.17248455, 0.59236074, 0.08774782, 0.14740689])), (2.4354458206322356, array([0.2366517 , 0.53318264, 0.14688184, 0.08328382]))]\n"
          ],
          "name": "stdout"
        }
      ]
    },
    {
      "metadata": {
        "id": "lXnAb2wMlcCL",
        "colab_type": "text"
      },
      "cell_type": "markdown",
      "source": [
        "Interestingly, adding a penalty provides a stronger solution than changing the prior. Let's try stronger versions of both the prior and penalty:"
      ]
    },
    {
      "metadata": {
        "id": "7PmlfeDIlZyO",
        "colab_type": "code",
        "outputId": "fc4606fa-e214-4c69-bad2-894b54aa6f3f",
        "colab": {
          "base_uri": "https://localhost:8080/",
          "height": 89
        }
      },
      "cell_type": "code",
      "source": [
        "def biaesd_four_param_sampler(seed):\n",
        "    prior_counts = np.array((50, 25, 5, 1))\n",
        "    np.random.shuffle(prior_counts)\n",
        "    return np.random.dirichlet(prior_counts)\n",
        "\n",
        "biased_four_digit_results = abc(default_four_digits, train_images, biaesd_four_param_sampler, \n",
        "                                vae, metric, n_iter=1000)\n",
        "\n",
        "print(biased_four_digit_results[:5])"
      ],
      "execution_count": 18,
      "outputs": [
        {
          "output_type": "display_data",
          "data": {
            "text/html": [
              "<div style=\"display:flex;flex-direction:row;\"><span></span><progress style='margin:2px 4px;' max='1000' value='1000'></progress>100% 1000/1000 [00:03&lt;00:00, 266.95it/s]</div>"
            ],
            "text/plain": [
              "<tqdm._fake_ipywidgets.HBox object>"
            ]
          },
          "metadata": {
            "tags": []
          }
        },
        {
          "output_type": "stream",
          "text": [
            "\n",
            "[(2.6872513886916196, array([0.24319714, 0.59671979, 0.02372619, 0.13635688])), (2.693516332243356, array([0.31906358, 0.58653881, 0.02831543, 0.06608218])), (2.7100510703744685, array([0.25245893, 0.62333364, 0.1035062 , 0.02070123])), (2.7115960977812508, array([0.27173724, 0.6335214 , 0.08577052, 0.00897084])), (2.7130311481362375, array([0.29512511, 0.61779734, 0.05414381, 0.03293373]))]\n"
          ],
          "name": "stdout"
        }
      ]
    },
    {
      "metadata": {
        "id": "DFkVAmsLldwu",
        "colab_type": "code",
        "outputId": "d5cd1507-306e-40bf-fc04-0e3cc5312375",
        "colab": {
          "base_uri": "https://localhost:8080/",
          "height": 89
        }
      },
      "cell_type": "code",
      "source": [
        "penalty_weight = 1.0\n",
        "\n",
        "def metric_with_penalty(params, generated, train):\n",
        "    return np.mean(cdist(generated, train)) - penalty_weight * np.sum(params ** 2)\n",
        "\n",
        "penalized_four_digit_results = abc(default_four_digits, train_images, uniform_four_param_sampler, \n",
        "                         vae, metric_with_penalty, n_iter=1000)\n",
        "\n",
        "print(penalized_four_digit_results[:5])\n"
      ],
      "execution_count": 19,
      "outputs": [
        {
          "output_type": "display_data",
          "data": {
            "text/html": [
              "<div style=\"display:flex;flex-direction:row;\"><span></span><progress style='margin:2px 4px;' max='1000' value='1000'></progress>100% 1000/1000 [00:03&lt;00:00, 268.85it/s]</div>"
            ],
            "text/plain": [
              "<tqdm._fake_ipywidgets.HBox object>"
            ]
          },
          "metadata": {
            "tags": []
          }
        },
        {
          "output_type": "stream",
          "text": [
            "\n",
            "[(2.175939193027247, array([0.16852352, 0.71749943, 0.02676165, 0.08721541])), (2.2113656079276636, array([0.19772225, 0.63100452, 0.1499033 , 0.02136992])), (2.211432293459445, array([0.1033128 , 0.74834087, 0.05498865, 0.09335768])), (2.215825332782198, array([0.20224454, 0.69692225, 0.04817467, 0.05265853])), (2.2195279793396656, array([0.19632185, 0.57632221, 0.07527676, 0.15207919]))]\n"
          ],
          "name": "stdout"
        }
      ]
    },
    {
      "metadata": {
        "id": "8rtCtIxTmOU9",
        "colab_type": "text"
      },
      "cell_type": "markdown",
      "source": [
        "With a stronger prior, the model actually behaves better than with a stronger penalty. A mixture of both might prove even better? "
      ]
    },
    {
      "metadata": {
        "id": "aC654-fXlfzN",
        "colab_type": "code",
        "outputId": "9975018d-9eb3-4f76-e86d-86c1967596d8",
        "colab": {
          "base_uri": "https://localhost:8080/",
          "height": 89
        }
      },
      "cell_type": "code",
      "source": [
        "def biaesd_four_param_sampler(seed):\n",
        "    prior_counts = np.array((50, 25, 5, 1))\n",
        "    np.random.shuffle(prior_counts)\n",
        "    return np.random.dirichlet(prior_counts)\n",
        "\n",
        "penalty_weight = 0.5\n",
        "\n",
        "def metric_with_penalty(params, generated, train):\n",
        "    return np.mean(cdist(generated, train)) - penalty_weight * np.sum(params ** 2)\n",
        "\n",
        "penalized_biased_four_digit_results = abc(default_four_digits, train_images, biaesd_four_param_sampler, \n",
        "                                          vae, metric_with_penalty, n_iter=1000)\n",
        "\n",
        "print(penalized_biased_four_digit_results[:5])"
      ],
      "execution_count": 20,
      "outputs": [
        {
          "output_type": "display_data",
          "data": {
            "text/html": [
              "<div style=\"display:flex;flex-direction:row;\"><span></span><progress style='margin:2px 4px;' max='1000' value='1000'></progress>100% 1000/1000 [00:03&lt;00:00, 260.90it/s]</div>"
            ],
            "text/plain": [
              "<tqdm._fake_ipywidgets.HBox object>"
            ]
          },
          "metadata": {
            "tags": []
          }
        },
        {
          "output_type": "stream",
          "text": [
            "\n",
            "[(2.4298098938679904, array([0.23183842, 0.63742707, 0.0651615 , 0.06557301])), (2.4374208895357348, array([0.30371007, 0.57581608, 0.09793041, 0.02254343])), (2.4430617393380647, array([0.24698714, 0.67009019, 0.06839684, 0.01452582])), (2.448540629596751, array([0.24687058, 0.61600443, 0.02507816, 0.11204683])), (2.4563586211969084, array([0.29244461, 0.64196817, 0.0018987 , 0.06368852]))]\n"
          ],
          "name": "stdout"
        }
      ]
    },
    {
      "metadata": {
        "id": "w5spT8-TmRV2",
        "colab_type": "text"
      },
      "cell_type": "markdown",
      "source": [
        "## We solved one problem. How do we fare in general?\n",
        "\n",
        "To check this, we'll randomize a pair of digits and mixture probabilities, and see how well this method works for a variety of different settings. I'll start with mixtures of two digits, with no extra digits available to the model, and no noise. I'll then progress to more complicated settings"
      ]
    },
    {
      "metadata": {
        "id": "AT7VVdCnmJHW",
        "colab_type": "code",
        "outputId": "541810a7-9235-4d1e-80c9-8ac4644f5c33",
        "colab": {
          "base_uri": "https://localhost:8080/",
          "height": 52
        }
      },
      "cell_type": "code",
      "source": [
        "def simple_two_prob_generator(seed):\n",
        "    # trying to avoid degenerate cases where one p => 0\n",
        "    p = np.random.uniform(0.1, 0.9)\n",
        "    return (p, 1 - p)\n",
        "\n",
        "\n",
        "abc_params = dict(prior_sampler=uniform_two_param_sampler,\n",
        "                  model=vae, metric=metric)\n",
        "\n",
        "test_results = randomized_test(simple_two_prob_generator, abc, abc_params)"
      ],
      "execution_count": 21,
      "outputs": [
        {
          "output_type": "display_data",
          "data": {
            "text/html": [
              "<div style=\"display:flex;flex-direction:row;\"><span></span><progress style='margin:2px 4px;' max='100' value='100'></progress>100% 100/100 [00:29&lt;00:00,  3.37it/s]</div>"
            ],
            "text/plain": [
              "<tqdm._fake_ipywidgets.HBox object>"
            ]
          },
          "metadata": {
            "tags": []
          }
        },
        {
          "output_type": "stream",
          "text": [
            "\n"
          ],
          "name": "stdout"
        }
      ]
    },
    {
      "metadata": {
        "id": "yF61_sHWwUn-",
        "colab_type": "code",
        "outputId": "9a11e3c7-6599-427b-c251-3dd999362553",
        "colab": {
          "base_uri": "https://localhost:8080/",
          "height": 770
        }
      },
      "cell_type": "code",
      "source": [
        "analyze_results(test_results)"
      ],
      "execution_count": 22,
      "outputs": [
        {
          "output_type": "stream",
          "text": [
            "0.15352408714314822\n"
          ],
          "name": "stdout"
        },
        {
          "output_type": "display_data",
          "data": {
            "image/png": "[encoded data removed]",
            "text/plain": [
              "<matplotlib.figure.Figure at 0x7f34892d8668>"
            ]
          },
          "metadata": {
            "tags": []
          }
        },
        {
          "output_type": "stream",
          "text": [
            "Best:\n",
            "(array([6, 8]), (0.4190921594680178, 0.5809078405319822), (3.4790690013871193, array([0.43256001, 0.56743999])))\n",
            "(array([5, 0]), (0.4962842679807945, 0.5037157320192055), (3.4961777654793695, array([0.50436436, 0.49563564])))\n",
            "(array([5, 2]), (0.4812157216635339, 0.5187842783364661), (3.713314118783379, array([0.49472134, 0.50527866])))\n",
            "(array([6, 3]), (0.46363792295541584, 0.5363620770445842), (3.571996742177486, array([0.46309475, 0.53690525])))\n",
            "(array([5, 3]), (0.5640812022829059, 0.4359187977170941), (3.710778278888561, array([0.56502105, 0.43497895])))\n",
            "Worst:\n",
            "(array([5, 3]), (0.8894655953851329, 0.11053440461486708), (4.464965085858293, array([0.54798451, 0.45201549])))\n",
            "(array([2, 6]), (0.8514820720965613, 0.14851792790343865), (4.332455967972572, array([0.50098164, 0.49901836])))\n",
            "(array([5, 2]), (0.8790703044404985, 0.1209296955595015), (4.419267399291532, array([0.52574019, 0.47425981])))\n",
            "(array([8, 7]), (0.8507234816339214, 0.14927651836607858), (4.169349361885741, array([0.45167489, 0.54832511])))\n",
            "(array([1, 8]), (0.12766531938289927, 0.8723346806171007), (4.36797724052945, array([0.55705458, 0.44294542])))\n",
            "MAD per digit:\n",
            "0: 0.143\n",
            "1: 0.107\n",
            "2: 0.164\n",
            "3: 0.156\n",
            "4: 0.163\n",
            "5: 0.158\n",
            "6: 0.148\n",
            "7: 0.151\n",
            "8: 0.186\n",
            "9: 0.171\n"
          ],
          "name": "stdout"
        }
      ]
    },
    {
      "metadata": {
        "id": "sP5uo7GPu2Er",
        "colab_type": "text"
      },
      "cell_type": "markdown",
      "source": [
        "That's a mean absolute deviation of about 0.15 in mixure weights. Really not very impressive, albeit with a fairly small number of samples and iterations. But also nothing awful. \n",
        "\n",
        "These results are not very surprising. I'm not sure any of these would be statistically significant, but it looks like 0, 1, and 5 tend to be more perceptually unique, whereas 7, 8, and 9 substantially less so.\n",
        "\n"
      ]
    },
    {
      "metadata": {
        "id": "5DINcRUku8Rn",
        "colab_type": "text"
      },
      "cell_type": "markdown",
      "source": [
        "## Timing and results comparison\n",
        "\n",
        "With and without the encoder"
      ]
    },
    {
      "metadata": {
        "id": "p4uQ0LBYmXoM",
        "colab_type": "code",
        "colab": {}
      },
      "cell_type": "code",
      "source": [
        "def abc_no_encoder(valid_digits, train, prior_sampler, metric, \n",
        "                   generator=SklearnDigitMixer,\n",
        "                   n_iter=100, use_tqdm=True):\n",
        "    results = []\n",
        "    \n",
        "    if use_tqdm:\n",
        "        iterator = tqdm.tnrange(n_iter)\n",
        "    else:\n",
        "        iterator = range(n_iter)\n",
        "    \n",
        "    for i in iterator:\n",
        "        params = prior_sampler(i)\n",
        "        generated_data = generator(valid_digits, params)(train.shape[0])\n",
        "        distance = metric(params, generated_data, train)\n",
        "        results.append((distance, params))\n",
        "        \n",
        "    results.sort()\n",
        "    return results"
      ],
      "execution_count": 0,
      "outputs": []
    },
    {
      "metadata": {
        "id": "dGu_7ZM_v1bK",
        "colab_type": "code",
        "outputId": "b297eeab-0405-4903-a47f-a8a297df96e3",
        "colab": {
          "base_uri": "https://localhost:8080/",
          "height": 232
        }
      },
      "cell_type": "code",
      "source": [
        "def time_with_encoder(): \n",
        "        return abc(default_digits, train_images, uniform_two_param_sampler,\n",
        "                   vae, metric, n_iter=1000)\n",
        "\n",
        "encoder_time, encoder_results = timeit.timeit('time_with_encoder()', number=1, globals=globals())\n",
        "\n",
        "def time_without_encoder(): \n",
        "    return abc_no_encoder(default_digits, train_images, uniform_two_param_sampler, \n",
        "                          metric, n_iter=1000)\n",
        "\n",
        "no_encoder_time, no_encoder_results = timeit.timeit('time_without_encoder()', number=1, globals=globals())\n",
        "\n",
        "print(f'With encoder: {encoder_time:.2f}s, {encoder_results[0]}')\n",
        "print(f'Without encoder: {no_encoder_time:.2f}s, {no_encoder_results[0]}')\n"
      ],
      "execution_count": 24,
      "outputs": [
        {
          "output_type": "error",
          "ename": "NameError",
          "evalue": "ignored",
          "traceback": [
            "\u001b[0;31m---------------------------------------------------------------------------\u001b[0m",
            "\u001b[0;31mNameError\u001b[0m                                 Traceback (most recent call last)",
            "\u001b[0;32m<ipython-input-24-f1e1e6608643>\u001b[0m in \u001b[0;36m<module>\u001b[0;34m()\u001b[0m\n\u001b[1;32m      3\u001b[0m                    vae, metric, n_iter=1000)\n\u001b[1;32m      4\u001b[0m \u001b[0;34m\u001b[0m\u001b[0m\n\u001b[0;32m----> 5\u001b[0;31m \u001b[0mencoder_time\u001b[0m\u001b[0;34m,\u001b[0m \u001b[0mencoder_results\u001b[0m \u001b[0;34m=\u001b[0m \u001b[0mtimeit\u001b[0m\u001b[0;34m.\u001b[0m\u001b[0mtimeit\u001b[0m\u001b[0;34m(\u001b[0m\u001b[0;34m'time_with_encoder()'\u001b[0m\u001b[0;34m,\u001b[0m \u001b[0mnumber\u001b[0m\u001b[0;34m=\u001b[0m\u001b[0;36m1\u001b[0m\u001b[0;34m,\u001b[0m \u001b[0mglobals\u001b[0m\u001b[0;34m=\u001b[0m\u001b[0mglobals\u001b[0m\u001b[0;34m(\u001b[0m\u001b[0;34m)\u001b[0m\u001b[0;34m)\u001b[0m\u001b[0;34m\u001b[0m\u001b[0;34m\u001b[0m\u001b[0m\n\u001b[0m\u001b[1;32m      6\u001b[0m \u001b[0;34m\u001b[0m\u001b[0m\n\u001b[1;32m      7\u001b[0m \u001b[0;32mdef\u001b[0m \u001b[0mtime_without_encoder\u001b[0m\u001b[0;34m(\u001b[0m\u001b[0;34m)\u001b[0m\u001b[0;34m:\u001b[0m\u001b[0;34m\u001b[0m\u001b[0;34m\u001b[0m\u001b[0m\n",
            "\u001b[0;31mNameError\u001b[0m: name 'timeit' is not defined"
          ]
        }
      ]
    },
    {
      "metadata": {
        "id": "hqFzL0En3Q-t",
        "colab_type": "text"
      },
      "cell_type": "markdown",
      "source": [
        "Doesn't look much better, but might scale better, both in accuracy and in runtime, to substantially larger examples than 28 x 28.\n",
        "\n",
        "Let's examine how the non-encoded version fares on average over more examples:"
      ]
    },
    {
      "metadata": {
        "id": "E95MdLDXv7Uo",
        "colab_type": "code",
        "outputId": "c29922d0-eaab-4968-afae-73a04db876b2",
        "colab": {
          "base_uri": "https://localhost:8080/",
          "height": 52
        }
      },
      "cell_type": "code",
      "source": [
        "no_encoder_abc_params = dict(prior_sampler=uniform_two_param_sampler, \n",
        "                             metric=metric)\n",
        "\n",
        "no_encoder_test_results = randomized_test(simple_two_prob_generator, \n",
        "                                          abc_no_encoder, no_encoder_abc_params)"
      ],
      "execution_count": 25,
      "outputs": [
        {
          "output_type": "display_data",
          "data": {
            "text/html": [
              "<div style=\"display:flex;flex-direction:row;\"><span></span><progress style='margin:2px 4px;' max='100' value='100'></progress>100% 100/100 [01:04&lt;00:00,  1.56it/s]</div>"
            ],
            "text/plain": [
              "<tqdm._fake_ipywidgets.HBox object>"
            ]
          },
          "metadata": {
            "tags": []
          }
        },
        {
          "output_type": "stream",
          "text": [
            "\n"
          ],
          "name": "stdout"
        }
      ]
    },
    {
      "metadata": {
        "id": "_zcw7maCJEIk",
        "colab_type": "code",
        "outputId": "2b52fac1-c8b7-49dc-f44d-be04779fed95",
        "colab": {
          "base_uri": "https://localhost:8080/",
          "height": 770
        }
      },
      "cell_type": "code",
      "source": [
        "analyze_results(no_encoder_test_results)"
      ],
      "execution_count": 26,
      "outputs": [
        {
          "output_type": "stream",
          "text": [
            "0.1645385750885636\n"
          ],
          "name": "stdout"
        },
        {
          "output_type": "display_data",
          "data": {
            "image/png": "[encoded data removed]",
            "text/plain": [
              "<matplotlib.figure.Figure at 0x7f34887c8e48>"
            ]
          },
          "metadata": {
            "tags": []
          }
        },
        {
          "output_type": "stream",
          "text": [
            "Best:\n",
            "(array([5, 3]), (0.5640812022829059, 0.4359187977170941), (6.757182089048102, array([0.56502105, 0.43497895])))\n",
            "(array([2, 7]), (0.4206265914851953, 0.5793734085148047), (6.438418546853698, array([0.43015868, 0.56984132])))\n",
            "(array([4, 6]), (0.5929716643034274, 0.4070283356965726), (6.3732054471696165, array([0.58735621, 0.41264379])))\n",
            "(array([7, 1]), (0.3806168783097418, 0.6193831216902582), (5.155795309792685, array([0.36982962, 0.63017038])))\n",
            "(array([6, 0]), (0.6260729683081296, 0.37392703169187036), (6.733270554085709, array([0.61183385, 0.38816615])))\n",
            "Worst:\n",
            "(array([5, 2]), (0.8790703044404985, 0.1209296955595015), (7.8393830387978785, array([0.52574019, 0.47425981])))\n",
            "(array([5, 4]), (0.8539823730967038, 0.14601762690329623), (7.648358701734984, array([0.48702758, 0.51297242])))\n",
            "(array([5, 3]), (0.8894655953851329, 0.11053440461486708), (7.736781029125658, array([0.51970099, 0.48029901])))\n",
            "(array([1, 8]), (0.12766531938289927, 0.8723346806171007), (7.119946947434625, array([0.55705458, 0.44294542])))\n",
            "(array([8, 7]), (0.8507234816339214, 0.14927651836607858), (7.320315255447842, array([0.47900147, 0.52099853])))\n",
            "MAD per digit:\n",
            "0: 0.143\n",
            "1: 0.125\n",
            "2: 0.172\n",
            "3: 0.161\n",
            "4: 0.168\n",
            "5: 0.186\n",
            "6: 0.173\n",
            "7: 0.165\n",
            "8: 0.193\n",
            "9: 0.168\n"
          ],
          "name": "stdout"
        }
      ]
    },
    {
      "metadata": {
        "id": "aGmPT-eiZKft",
        "colab_type": "text"
      },
      "cell_type": "markdown",
      "source": [
        "On the balance, it looks like the VAE-based method is a little bit more accurate on average, and the two broadly seem to struggle with the same digits. "
      ]
    },
    {
      "metadata": {
        "id": "3NF6T-VBBS_r",
        "colab_type": "text"
      },
      "cell_type": "markdown",
      "source": [
        "## Let's get a sense for how much harder the problem is with a third possible digit\n",
        "\n",
        "Let's assume the prior is somewhat biased, but avoid the penalty as used before"
      ]
    },
    {
      "metadata": {
        "id": "7qpUARECv7XI",
        "colab_type": "code",
        "outputId": "e4318cd2-aa33-4b80-bd8a-fbf10252ec84",
        "colab": {
          "base_uri": "https://localhost:8080/",
          "height": 52
        }
      },
      "cell_type": "code",
      "source": [
        "def biased_three_param_sampler(seed):\n",
        "    prior_counts = np.array((20, 10, 1))\n",
        "    np.random.shuffle(prior_counts)\n",
        "    return np.random.dirichlet(prior_counts)\n",
        "\n",
        "\n",
        "def simple_three_prob_generator(seed):\n",
        "    # trying to avoid degenerate cases where one p => 0\n",
        "    # other than the third unused digit, of course\n",
        "    p = np.random.uniform(0.1, 0.9)\n",
        "    return (p, 1 - p, 0)\n",
        "\n",
        "\n",
        "third_digit_abc_params = dict(prior_sampler=biased_three_param_sampler,\n",
        "                  model=vae, metric=metric)\n",
        "\n",
        "third_digit_test_results = randomized_test(simple_three_prob_generator, abc, \n",
        "                                           third_digit_abc_params)"
      ],
      "execution_count": 27,
      "outputs": [
        {
          "output_type": "display_data",
          "data": {
            "text/html": [
              "<div style=\"display:flex;flex-direction:row;\"><span></span><progress style='margin:2px 4px;' max='100' value='100'></progress>100% 100/100 [00:32&lt;00:00,  3.08it/s]</div>"
            ],
            "text/plain": [
              "<tqdm._fake_ipywidgets.HBox object>"
            ]
          },
          "metadata": {
            "tags": []
          }
        },
        {
          "output_type": "stream",
          "text": [
            "\n"
          ],
          "name": "stdout"
        }
      ]
    },
    {
      "metadata": {
        "id": "0bXWztUOv7cH",
        "colab_type": "code",
        "outputId": "3f8a0f0e-b774-41db-c569-d06557e11bed",
        "colab": {
          "base_uri": "https://localhost:8080/",
          "height": 770
        }
      },
      "cell_type": "code",
      "source": [
        "analyze_results(third_digit_test_results)"
      ],
      "execution_count": 28,
      "outputs": [
        {
          "output_type": "stream",
          "text": [
            "0.1544493926700366\n"
          ],
          "name": "stdout"
        },
        {
          "output_type": "display_data",
          "data": {
            "image/png": "[encoded data removed]",
            "text/plain": [
              "<matplotlib.figure.Figure at 0x7f3488735f60>"
            ]
          },
          "metadata": {
            "tags": []
          }
        },
        {
          "output_type": "stream",
          "text": [
            "Best:\n",
            "(array([4, 3, 7]), (0.5026423846390212, 0.4973576153609788, 0), (3.3072836068814113, array([0.48548157, 0.47088895, 0.04362949])))\n",
            "(array([1, 5, 2]), (0.8641032677244527, 0.13589673227554733, 0), (3.6415578757887923, array([0.80947741, 0.15857911, 0.03194348])))\n",
            "(array([1, 0, 6]), (0.6145525173459635, 0.3854474826540365, 0), (2.8912714157127994, array([0.63138861, 0.3402119 , 0.02839949])))\n",
            "(array([1, 9, 4]), (0.6381276338710106, 0.36187236612898943, 0), (3.2700091834100387, array([0.63730296, 0.31328419, 0.04941285])))\n",
            "(array([0, 2, 1]), (0.580969718172801, 0.41903028182719904, 0), (3.366944596249763, array([0.50506015, 0.4632941 , 0.03164574])))\n",
            "Worst:\n",
            "(array([5, 1, 3]), (0.5940967251723838, 0.40590327482761623, 0), (3.6348278122299087, array([0.11053057, 0.59810951, 0.29135992])))\n",
            "(array([8, 7, 9]), (0.5377336156844794, 0.4622663843155206, 0), (3.409792830332682, array([0.39317947, 0.11368195, 0.49313858])))\n",
            "(array([0, 5, 9]), (0.3675926547851668, 0.6324073452148332, 0), (3.451601289268867, array([0.50923932, 0.13730204, 0.35345864])))\n",
            "(array([4, 8, 1]), (0.6346220842247442, 0.3653779157752558, 0), (3.403173323251368, array([0.25446388, 0.24333545, 0.50220067])))\n",
            "(array([5, 8, 9]), (0.8495300695409561, 0.1504699304590439, 0), (4.236091538436194, array([0.28964653, 0.52726055, 0.18309292])))\n",
            "MAD per digit:\n",
            "0: 0.156\n",
            "1: 0.149\n",
            "2: 0.143\n",
            "3: 0.151\n",
            "4: 0.151\n",
            "5: 0.169\n",
            "6: 0.143\n",
            "7: 0.132\n",
            "8: 0.168\n",
            "9: 0.174\n"
          ],
          "name": "stdout"
        }
      ]
    },
    {
      "metadata": {
        "id": "4WBRDrlZgIDK",
        "colab_type": "text"
      },
      "cell_type": "markdown",
      "source": [
        "## interestingly, not much worse. And four digits?"
      ]
    },
    {
      "metadata": {
        "id": "MjMY0vMwgHUi",
        "colab_type": "code",
        "outputId": "55fb3167-58f9-4738-b5ec-3a8fe596e44d",
        "colab": {
          "base_uri": "https://localhost:8080/",
          "height": 52
        }
      },
      "cell_type": "code",
      "source": [
        "def biaesd_four_param_sampler(seed):\n",
        "    prior_counts = np.array((20, 10, 1, 1))\n",
        "    np.random.shuffle(prior_counts)\n",
        "    return np.random.dirichlet(prior_counts)\n",
        "\n",
        "\n",
        "def simple_four_prob_generator(seed):\n",
        "    # trying to avoid degenerate cases where one p => 0\n",
        "    # other than the third unused digit, of course\n",
        "    p = np.random.uniform(0.1, 0.9)\n",
        "    return (p, 1 - p, 0, 0)\n",
        "\n",
        "\n",
        "four_digit_abc_params = dict(prior_sampler=biaesd_four_param_sampler,\n",
        "                  model=vae, metric=metric)\n",
        "\n",
        "four_digit_test_results = randomized_test(simple_four_prob_generator, abc, \n",
        "                                           four_digit_abc_params)"
      ],
      "execution_count": 29,
      "outputs": [
        {
          "output_type": "display_data",
          "data": {
            "text/html": [
              "<div style=\"display:flex;flex-direction:row;\"><span></span><progress style='margin:2px 4px;' max='100' value='100'></progress>100% 100/100 [00:35&lt;00:00,  2.86it/s]</div>"
            ],
            "text/plain": [
              "<tqdm._fake_ipywidgets.HBox object>"
            ]
          },
          "metadata": {
            "tags": []
          }
        },
        {
          "output_type": "stream",
          "text": [
            "\n"
          ],
          "name": "stdout"
        }
      ]
    },
    {
      "metadata": {
        "id": "sVI1yRnM7RLz",
        "colab_type": "code",
        "outputId": "6f558b8a-441b-400a-b418-4a3419e96b3d",
        "colab": {
          "base_uri": "https://localhost:8080/",
          "height": 790
        }
      },
      "cell_type": "code",
      "source": [
        "analyze_results(four_digit_test_results)"
      ],
      "execution_count": 30,
      "outputs": [
        {
          "output_type": "stream",
          "text": [
            "0.14719889477886297\n"
          ],
          "name": "stdout"
        },
        {
          "output_type": "display_data",
          "data": {
            "image/png": "[encoded data removed]",
            "text/plain": [
              "<matplotlib.figure.Figure at 0x7f3488a03ef0>"
            ]
          },
          "metadata": {
            "tags": []
          }
        },
        {
          "output_type": "stream",
          "text": [
            "Best:\n",
            "(array([8, 6, 4, 2]), (0.6177504913956718, 0.38224950860432816, 0, 0), (3.409944550190545, array([0.52561964, 0.43225052, 0.01678426, 0.02534558])))\n",
            "(array([7, 0, 1, 3]), (0.5826675935593907, 0.4173324064406093, 0, 0), (3.16279453910178, array([0.50067441, 0.42789434, 0.04315623, 0.02827502])))\n",
            "(array([6, 4, 7, 9]), (0.4890119855741374, 0.5109880144258626, 0, 0), (3.493709234837396, array([0.3715002 , 0.54715466, 0.07233543, 0.00900972])))\n",
            "(array([7, 0, 4, 1]), (0.5284439270935982, 0.4715560729064018, 0, 0), (3.058529920056446, array([0.50948932, 0.37296975, 0.0552565 , 0.06228443])))\n",
            "(array([8, 0, 7, 6]), (0.6565916241096186, 0.3434083758903814, 0, 0), (3.0884558109623144, array([0.57127219, 0.30130603, 0.00162843, 0.12579335])))\n",
            "Worst:\n",
            "(array([2, 4, 6, 7]), (0.6273662386149391, 0.3726337613850609, 0, 0), (3.59142956266957, array([0.28502441, 0.15326844, 0.02395065, 0.5377565 ])))\n",
            "(array([7, 8, 0, 9]), (0.546030189428647, 0.453969810571353, 0, 0), (3.3141653744901225, array([0.39559773, 0.03898168, 0.14936797, 0.41605262])))\n",
            "(array([9, 5, 8, 2]), (0.28749941120887723, 0.7125005887911228, 0, 0), (3.6852072716138604, array([0.43092946, 0.11659009, 0.32711523, 0.12536522])))\n",
            "(array([2, 5, 6, 9]), (0.7889990140736975, 0.21100098592630245, 0, 0), (3.9788767658563, array([0.37365855, 0.05489216, 0.08211793, 0.48933137])))\n",
            "(array([3, 4, 0, 9]), (0.5513960643285315, 0.4486039356714685, 0, 0), (3.2700198339211815, array([0.07378947, 0.35480259, 0.16757127, 0.40383667])))\n",
            "MAD per digit:\n",
            "0: 0.140\n",
            "1: 0.146\n",
            "2: 0.159\n",
            "3: 0.142\n",
            "4: 0.149\n",
            "5: 0.168\n",
            "6: 0.140\n",
            "7: 0.129\n",
            "8: 0.153\n",
            "9: 0.151\n"
          ],
          "name": "stdout"
        }
      ]
    },
    {
      "metadata": {
        "id": "mnmza4lCKV8s",
        "colab_type": "text"
      },
      "cell_type": "markdown",
      "source": [
        "## Let's try tuning the autoencoder on mixtures of digits, rather than just singles\n",
        "\n",
        "Starting with only mixtures of two digits, although nothing in principle stops from going further.\n",
        "\n",
        "Given the 60,000 training images in MNIST (10 digits x 6000 images each), we ostensibly have as many as $60000 \\times 54000 = 3. 24 \\times 10^9$ potential two-digit mixtures, and that's without even considering the weighting scheme... to keep the epochs comparable to the regular MNIST, I will treat each 60,000 as an epoch, without going to great lengths to guarantee that digits are sampled equally, and assuming the law of large numbers will do its thing. \n",
        "\n",
        "(Note: moved the code generating the mixture dataset up as well)"
      ]
    },
    {
      "metadata": {
        "id": "XO3QQ3sJpXsS",
        "colab_type": "text"
      },
      "cell_type": "markdown",
      "source": [
        "Sample a few images from this generator, to make sure it works as we expect\n",
        "\n"
      ]
    },
    {
      "metadata": {
        "id": "b-4_ug7AKUn0",
        "colab_type": "code",
        "outputId": "13aae983-1f12-4cc8-a92f-4494921a7fa9",
        "colab": {
          "base_uri": "https://localhost:8080/",
          "height": 350
        }
      },
      "cell_type": "code",
      "source": [
        "plt.plot(figsize=(16, 16))\n",
        "\n",
        "NROWS = 4\n",
        "NCOLS = 4\n",
        "\n",
        "for ax_index, image_index in enumerate(np.random.randint(0, MNIST_TRAIN_END, NROWS * NCOLS)):\n",
        "    ax = plt.subplot(4, 4, ax_index + 1)\n",
        "    ax.imshow(mixed_digit_train_dataset[image_index][0].cpu().numpy().reshape(28, 28))"
      ],
      "execution_count": 31,
      "outputs": [
        {
          "output_type": "display_data",
          "data": {
            "image/png": "[encoded data removed]",
            "text/plain": [
              "<matplotlib.figure.Figure at 0x7f3488954978>"
            ]
          },
          "metadata": {
            "tags": []
          }
        }
      ]
    },
    {
      "metadata": {
        "id": "KzTMzfGJqPWo",
        "colab_type": "text"
      },
      "cell_type": "markdown",
      "source": [
        "Looks good to me. Let's create a new model, train 20 epochs with regular MNIST, and tune for another 20 epochs with the mixtures\n",
        "\n",
        "(I could have, of course, loaded the weights from the previous VAE - but with a GPU the training only takes a few minutes, and then this script is runnable as-is, without copying weights externally or modifying the VAE model class to load weights from another model. All doable things, but...)"
      ]
    },
    {
      "metadata": {
        "id": "USm_T4SEKU1U",
        "colab_type": "code",
        "outputId": "dda66a1c-3386-44fb-c430-1e1ea2f0181d",
        "colab": {
          "base_uri": "https://localhost:8080/",
          "height": 967
        }
      },
      "cell_type": "code",
      "source": [
        "import torch.optim as optim\n",
        "\n",
        "mixed_tuning_vae = VAE('base_vae_mixed_tuning').to(device)\n",
        "mixed_tuning_vae_optimizer = optim.Adam(mixed_tuning_vae.parameters(), lr=1e-3)\n",
        "train_and_test(mixed_tuning_vae, mixed_tuning_vae_optimizer, 20,\n",
        "              train_loader, test_loader)"
      ],
      "execution_count": 33,
      "outputs": [
        {
          "output_type": "stream",
          "text": [
            "0\n",
            "Starting Train Epoch 1\n"
          ],
          "name": "stdout"
        },
        {
          "output_type": "display_data",
          "data": {
            "text/html": [
              "<div style=\"display:flex;flex-direction:row;\"><span></span><progress style='margin:2px 4px;' max='600' value='600'></progress>100% 600/600 [00:11&lt;00:00, 52.64it/s]</div>"
            ],
            "text/plain": [
              "<tqdm._fake_ipywidgets.HBox object>"
            ]
          },
          "metadata": {
            "tags": []
          }
        },
        {
          "output_type": "stream",
          "text": [
            "\n",
            "\n",
            "====> Epoch: 1 Average train loss: 158.2176\n"
          ],
          "name": "stdout"
        },
        {
          "output_type": "error",
          "ename": "AttributeError",
          "evalue": "ignored",
          "traceback": [
            "\u001b[0;31m---------------------------------------------------------------------------\u001b[0m",
            "\u001b[0;31mAttributeError\u001b[0m                            Traceback (most recent call last)",
            "\u001b[0;32m<ipython-input-33-ab74fb686845>\u001b[0m in \u001b[0;36m<module>\u001b[0;34m()\u001b[0m\n\u001b[1;32m      4\u001b[0m \u001b[0mmixed_tuning_vae_optimizer\u001b[0m \u001b[0;34m=\u001b[0m \u001b[0moptim\u001b[0m\u001b[0;34m.\u001b[0m\u001b[0mAdam\u001b[0m\u001b[0;34m(\u001b[0m\u001b[0mmixed_tuning_vae\u001b[0m\u001b[0;34m.\u001b[0m\u001b[0mparameters\u001b[0m\u001b[0;34m(\u001b[0m\u001b[0;34m)\u001b[0m\u001b[0;34m,\u001b[0m \u001b[0mlr\u001b[0m\u001b[0;34m=\u001b[0m\u001b[0;36m1e-3\u001b[0m\u001b[0;34m)\u001b[0m\u001b[0;34m\u001b[0m\u001b[0;34m\u001b[0m\u001b[0m\n\u001b[1;32m      5\u001b[0m train_and_test(mixed_tuning_vae, mixed_tuning_vae_optimizer, 20,\n\u001b[0;32m----> 6\u001b[0;31m               train_loader, test_loader)\n\u001b[0m",
            "\u001b[0;32m/content/deep-learning-projects/projects/vae_abc/vae.py\u001b[0m in \u001b[0;36mtrain_and_test\u001b[0;34m(model, optimizer, num_epochs, train_dataloader, test_dataloader, post_epoch_callback, start_epoch, latent_size)\u001b[0m\n\u001b[1;32m    198\u001b[0m     \u001b[0;32mfor\u001b[0m \u001b[0mepoch\u001b[0m \u001b[0;32min\u001b[0m \u001b[0mrange\u001b[0m\u001b[0;34m(\u001b[0m\u001b[0mstart_epoch\u001b[0m\u001b[0;34m,\u001b[0m \u001b[0mnum_epochs\u001b[0m \u001b[0;34m+\u001b[0m \u001b[0mstart_epoch\u001b[0m\u001b[0;34m)\u001b[0m\u001b[0;34m:\u001b[0m\u001b[0;34m\u001b[0m\u001b[0;34m\u001b[0m\u001b[0m\n\u001b[1;32m    199\u001b[0m         \u001b[0mtrain\u001b[0m\u001b[0;34m(\u001b[0m\u001b[0mmodel\u001b[0m\u001b[0;34m,\u001b[0m \u001b[0moptimizer\u001b[0m\u001b[0;34m,\u001b[0m \u001b[0mepoch\u001b[0m\u001b[0;34m,\u001b[0m \u001b[0mtrain_dataloader\u001b[0m\u001b[0;34m)\u001b[0m\u001b[0;34m\u001b[0m\u001b[0;34m\u001b[0m\u001b[0m\n\u001b[0;32m--> 200\u001b[0;31m         \u001b[0mtest\u001b[0m\u001b[0;34m(\u001b[0m\u001b[0mmodel\u001b[0m\u001b[0;34m,\u001b[0m \u001b[0mepoch\u001b[0m\u001b[0;34m,\u001b[0m \u001b[0mtest_dataloader\u001b[0m\u001b[0;34m)\u001b[0m\u001b[0;34m\u001b[0m\u001b[0;34m\u001b[0m\u001b[0m\n\u001b[0m\u001b[1;32m    201\u001b[0m         \u001b[0mmodel\u001b[0m\u001b[0;34m.\u001b[0m\u001b[0msave_model\u001b[0m\u001b[0;34m(\u001b[0m\u001b[0mepoch\u001b[0m\u001b[0;34m)\u001b[0m\u001b[0;34m\u001b[0m\u001b[0;34m\u001b[0m\u001b[0m\n\u001b[1;32m    202\u001b[0m         \u001b[0;32mwith\u001b[0m \u001b[0mtorch\u001b[0m\u001b[0;34m.\u001b[0m\u001b[0mno_grad\u001b[0m\u001b[0;34m(\u001b[0m\u001b[0;34m)\u001b[0m\u001b[0;34m:\u001b[0m\u001b[0;34m\u001b[0m\u001b[0;34m\u001b[0m\u001b[0m\n",
            "\u001b[0;32m/content/deep-learning-projects/projects/vae_abc/vae.py\u001b[0m in \u001b[0;36mtest\u001b[0;34m(model, epoch, test_dataloader)\u001b[0m\n\u001b[1;32m    187\u001b[0m                                         recon_batch.view(100, 1, 28, 28)[:n]])\n\u001b[1;32m    188\u001b[0m                 save_image(comparison.cpu(),\n\u001b[0;32m--> 189\u001b[0;31m                            f'{model.save_dir}/results/reconstruction_' + str(epoch) + '.png', nrow=n)\n\u001b[0m\u001b[1;32m    190\u001b[0m \u001b[0;34m\u001b[0m\u001b[0m\n\u001b[1;32m    191\u001b[0m     \u001b[0mtest_loss\u001b[0m \u001b[0;34m/=\u001b[0m \u001b[0mlen\u001b[0m\u001b[0;34m(\u001b[0m\u001b[0mtest_dataloader\u001b[0m\u001b[0;34m.\u001b[0m\u001b[0mdataset\u001b[0m\u001b[0;34m)\u001b[0m\u001b[0;34m\u001b[0m\u001b[0;34m\u001b[0m\u001b[0m\n",
            "\u001b[0;32m/usr/local/lib/python3.6/dist-packages/torchvision/utils.py\u001b[0m in \u001b[0;36msave_image\u001b[0;34m(tensor, filename, nrow, padding, normalize, range, scale_each, pad_value)\u001b[0m\n\u001b[1;32m    102\u001b[0m     \u001b[0mndarr\u001b[0m \u001b[0;34m=\u001b[0m \u001b[0mgrid\u001b[0m\u001b[0;34m.\u001b[0m\u001b[0mmul\u001b[0m\u001b[0;34m(\u001b[0m\u001b[0;36m255\u001b[0m\u001b[0;34m)\u001b[0m\u001b[0;34m.\u001b[0m\u001b[0mclamp\u001b[0m\u001b[0;34m(\u001b[0m\u001b[0;36m0\u001b[0m\u001b[0;34m,\u001b[0m \u001b[0;36m255\u001b[0m\u001b[0;34m)\u001b[0m\u001b[0;34m.\u001b[0m\u001b[0mbyte\u001b[0m\u001b[0;34m(\u001b[0m\u001b[0;34m)\u001b[0m\u001b[0;34m.\u001b[0m\u001b[0mpermute\u001b[0m\u001b[0;34m(\u001b[0m\u001b[0;36m1\u001b[0m\u001b[0;34m,\u001b[0m \u001b[0;36m2\u001b[0m\u001b[0;34m,\u001b[0m \u001b[0;36m0\u001b[0m\u001b[0;34m)\u001b[0m\u001b[0;34m.\u001b[0m\u001b[0mcpu\u001b[0m\u001b[0;34m(\u001b[0m\u001b[0;34m)\u001b[0m\u001b[0;34m.\u001b[0m\u001b[0mnumpy\u001b[0m\u001b[0;34m(\u001b[0m\u001b[0;34m)\u001b[0m\u001b[0;34m\u001b[0m\u001b[0;34m\u001b[0m\u001b[0m\n\u001b[1;32m    103\u001b[0m     \u001b[0mim\u001b[0m \u001b[0;34m=\u001b[0m \u001b[0mImage\u001b[0m\u001b[0;34m.\u001b[0m\u001b[0mfromarray\u001b[0m\u001b[0;34m(\u001b[0m\u001b[0mndarr\u001b[0m\u001b[0;34m)\u001b[0m\u001b[0;34m\u001b[0m\u001b[0;34m\u001b[0m\u001b[0m\n\u001b[0;32m--> 104\u001b[0;31m     \u001b[0mim\u001b[0m\u001b[0;34m.\u001b[0m\u001b[0msave\u001b[0m\u001b[0;34m(\u001b[0m\u001b[0mfilename\u001b[0m\u001b[0;34m)\u001b[0m\u001b[0;34m\u001b[0m\u001b[0;34m\u001b[0m\u001b[0m\n\u001b[0m",
            "\u001b[0;32m/usr/local/lib/python3.6/dist-packages/PIL/Image.py\u001b[0m in \u001b[0;36msave\u001b[0;34m(self, fp, format, **params)\u001b[0m\n\u001b[1;32m   1704\u001b[0m         \u001b[0;31m# by forcing the source image into 'L' mode and adding a\u001b[0m\u001b[0;34m\u001b[0m\u001b[0;34m\u001b[0m\u001b[0;34m\u001b[0m\u001b[0m\n\u001b[1;32m   1705\u001b[0m         \u001b[0;31m# mapping 'L' mode palette, then converting back to 'L'\u001b[0m\u001b[0;34m\u001b[0m\u001b[0;34m\u001b[0m\u001b[0;34m\u001b[0m\u001b[0m\n\u001b[0;32m-> 1706\u001b[0;31m         \u001b[0;31m# sans palette thus converting the image bytes, then\u001b[0m\u001b[0;34m\u001b[0m\u001b[0;34m\u001b[0m\u001b[0;34m\u001b[0m\u001b[0m\n\u001b[0m\u001b[1;32m   1707\u001b[0m         \u001b[0;31m# assigning the optimized RGB palette.\u001b[0m\u001b[0;34m\u001b[0m\u001b[0;34m\u001b[0m\u001b[0;34m\u001b[0m\u001b[0m\n\u001b[1;32m   1708\u001b[0m \u001b[0;34m\u001b[0m\u001b[0m\n",
            "\u001b[0;32m/usr/local/lib/python3.6/dist-packages/PIL/Image.py\u001b[0m in \u001b[0;36mpreinit\u001b[0;34m()\u001b[0m\n\u001b[1;32m    368\u001b[0m \u001b[0;34m\u001b[0m\u001b[0m\n\u001b[1;32m    369\u001b[0m \u001b[0;34m\u001b[0m\u001b[0m\n\u001b[0;32m--> 370\u001b[0;31m \u001b[0;32mdef\u001b[0m \u001b[0mpreinit\u001b[0m\u001b[0;34m(\u001b[0m\u001b[0;34m)\u001b[0m\u001b[0;34m:\u001b[0m\u001b[0;34m\u001b[0m\u001b[0;34m\u001b[0m\u001b[0m\n\u001b[0m\u001b[1;32m    371\u001b[0m     \u001b[0;34m\"\"\"Explicitly load standard file format drivers.\"\"\"\u001b[0m\u001b[0;34m\u001b[0m\u001b[0;34m\u001b[0m\u001b[0m\n\u001b[1;32m    372\u001b[0m \u001b[0;34m\u001b[0m\u001b[0m\n",
            "\u001b[0;32m/usr/local/lib/python3.6/dist-packages/PIL/PpmImagePlugin.py\u001b[0m in \u001b[0;36m<module>\u001b[0;34m()\u001b[0m\n\u001b[1;32m    156\u001b[0m \u001b[0mImage\u001b[0m\u001b[0;34m.\u001b[0m\u001b[0mregister_save\u001b[0m\u001b[0;34m(\u001b[0m\u001b[0mPpmImageFile\u001b[0m\u001b[0;34m.\u001b[0m\u001b[0mformat\u001b[0m\u001b[0;34m,\u001b[0m \u001b[0m_save\u001b[0m\u001b[0;34m)\u001b[0m\u001b[0;34m\u001b[0m\u001b[0;34m\u001b[0m\u001b[0m\n\u001b[1;32m    157\u001b[0m \u001b[0;34m\u001b[0m\u001b[0m\n\u001b[0;32m--> 158\u001b[0;31m \u001b[0mImage\u001b[0m\u001b[0;34m.\u001b[0m\u001b[0mregister_extensions\u001b[0m\u001b[0;34m(\u001b[0m\u001b[0mPpmImageFile\u001b[0m\u001b[0;34m.\u001b[0m\u001b[0mformat\u001b[0m\u001b[0;34m,\u001b[0m \u001b[0;34m[\u001b[0m\u001b[0;34m\".pbm\"\u001b[0m\u001b[0;34m,\u001b[0m \u001b[0;34m\".pgm\"\u001b[0m\u001b[0;34m,\u001b[0m \u001b[0;34m\".ppm\"\u001b[0m\u001b[0;34m]\u001b[0m\u001b[0;34m)\u001b[0m\u001b[0;34m\u001b[0m\u001b[0;34m\u001b[0m\u001b[0m\n\u001b[0m",
            "\u001b[0;31mAttributeError\u001b[0m: module 'PIL.Image' has no attribute 'register_extensions'"
          ]
        }
      ]
    },
    {
      "metadata": {
        "id": "4ZslEtoJr8LZ",
        "colab_type": "text"
      },
      "cell_type": "markdown",
      "source": [
        "Let's plot random digit reconstructions before and after the tuning\n",
        "\n",
        "Before:"
      ]
    },
    {
      "metadata": {
        "id": "VBoMdwrIKUzq",
        "colab_type": "code",
        "outputId": "401a013e-bd4a-4174-bcc0-8c115e9dc8b7",
        "colab": {
          "base_uri": "https://localhost:8080/",
          "height": 262
        }
      },
      "cell_type": "code",
      "source": [
        "tensor_im = torch.stack([mixed_digit_test_dataset[i][0] for i in range(8)])\n",
        "plot_reconstruction(mixed_tuning_vae, tensor_im)"
      ],
      "execution_count": 0,
      "outputs": [
        {
          "output_type": "display_data",
          "data": {
            "image/png": "[encoded data removed]",
            "text/plain": [
              "<matplotlib.figure.Figure at 0x7efcdc597f28>"
            ]
          },
          "metadata": {
            "tags": []
          }
        }
      ]
    },
    {
      "metadata": {
        "id": "AgpIJ-RMKUxC",
        "colab_type": "code",
        "colab": {}
      },
      "cell_type": "code",
      "source": [
        "def dataset_epoch_callback(epoch):\n",
        "    mixed_digit_train_dataset.epoch = epoch\n",
        "    mixed_digit_test_dataset.epoch = epoch\n",
        "    \n",
        "    \n",
        "train_and_test(mixed_tuning_vae, mixed_tuning_vae_optimizer, 20, \n",
        "              mixed_digit_train_loader, mixed_digit_test_loader,\n",
        "              dataset_epoch_callback, 21)"
      ],
      "execution_count": 0,
      "outputs": []
    },
    {
      "metadata": {
        "id": "G9DhN7Jh6-HF",
        "colab_type": "text"
      },
      "cell_type": "markdown",
      "source": [
        "Effectively no progress on the loss (before I accidentally erased the output). Does it get any better at reconstructing?"
      ]
    },
    {
      "metadata": {
        "id": "MLSLenXTKUui",
        "colab_type": "code",
        "outputId": "557d4a4e-602e-4fdb-e3f7-ebbdb25ddc78",
        "colab": {
          "base_uri": "https://localhost:8080/",
          "height": 262
        }
      },
      "cell_type": "code",
      "source": [
        "tensor_im = torch.stack([mixed_digit_test_dataset[i][0] for i in range(8)])\n",
        "plot_reconstruction(mixed_tuning_vae, tensor_im)"
      ],
      "execution_count": 0,
      "outputs": [
        {
          "output_type": "display_data",
          "data": {
            "image/png": "[encoded data removed]",
            "text/plain": [
              "<matplotlib.figure.Figure at 0x7efcf0b16eb8>"
            ]
          },
          "metadata": {
            "tags": []
          }
        }
      ]
    },
    {
      "metadata": {
        "id": "pD90-SdY7JBF",
        "colab_type": "text"
      },
      "cell_type": "markdown",
      "source": [
        "By eyeballing alone, who knows, let's see if this will translate to improved inference performance. Let's find out!"
      ]
    },
    {
      "metadata": {
        "id": "e2T9HGiWKUsO",
        "colab_type": "code",
        "colab": {}
      },
      "cell_type": "code",
      "source": [
        "def biaesd_four_param_sampler(seed):\n",
        "    prior_counts = np.array((20, 10, 1, 1))\n",
        "    np.random.shuffle(prior_counts)\n",
        "    return np.random.dirichlet(prior_counts)\n",
        "\n",
        "\n",
        "def simple_four_prob_generator(seed):\n",
        "    # trying to avoid degenerate cases where one p => 0\n",
        "    # other than the third unused digit, of course\n",
        "    p = np.random.uniform(0.1, 0.9)\n",
        "    return (p, 1 - p, 0, 0)\n",
        "\n",
        "\n",
        "mixed_tuning_four_digit_abc_params = dict(prior_sampler=biaesd_four_param_sampler,\n",
        "                                          model=mixed_tuning_vae, metric=metric)\n",
        "\n",
        "mixed_tuning_four_digit_test_results = randomized_test(\n",
        "    simple_four_prob_generator, abc, mixed_tuning_four_digit_abc_params)"
      ],
      "execution_count": 0,
      "outputs": []
    },
    {
      "metadata": {
        "id": "220Ke6EZKUqu",
        "colab_type": "code",
        "outputId": "0d1d8cf0-70d5-46e1-8c92-523b6fdeaeb6",
        "colab": {
          "base_uri": "https://localhost:8080/",
          "height": 790
        }
      },
      "cell_type": "code",
      "source": [
        "analyze_results(mixed_tuning_four_digit_test_results)"
      ],
      "execution_count": 0,
      "outputs": [
        {
          "output_type": "stream",
          "text": [
            "0.14119901520319303\n"
          ],
          "name": "stdout"
        },
        {
          "output_type": "display_data",
          "data": {
            "image/png": "[encoded data removed]",
            "text/plain": [
              "<matplotlib.figure.Figure at 0x7efcdc4f4320>"
            ]
          },
          "metadata": {
            "tags": []
          }
        },
        {
          "output_type": "stream",
          "text": [
            "Best:\n",
            "(array([8, 6, 3, 9]), (0.5745975992025208, 0.42540240079747915, 0, 0), (4.365200566539599, array([0.55250695, 0.34921191, 0.0096887 , 0.08859244])))\n",
            "(array([8, 2, 6, 7]), (0.38486821491691836, 0.6151317850830816, 0, 0), (4.497627977226161, array([0.38650534, 0.51995344, 0.09159969, 0.00194152])))\n",
            "(array([4, 1, 6, 3]), (0.24929696656525302, 0.750703033434747, 0, 0), (4.251536218237232, array([0.30418236, 0.65268646, 0.03039974, 0.01273144])))\n",
            "(array([5, 7, 0, 6]), (0.6275899959661118, 0.37241000403388824, 0, 0), (4.720216207857997, array([0.54212793, 0.36667532, 0.04667037, 0.04452638])))\n",
            "(array([0, 9, 5, 4]), (0.38045277707524106, 0.619547222924759, 0, 0), (4.311533055034211, array([0.30900805, 0.58356177, 0.08819926, 0.01923093])))\n",
            "Worst:\n",
            "(array([5, 0, 6, 7]), (0.8645310079016401, 0.13546899209835994, 0, 0), (5.237670755934638, array([0.3133705 , 0.50324948, 0.09500979, 0.08837023])))\n",
            "(array([5, 3, 4, 2]), (0.7640972290640157, 0.23590277093598433, 0, 0), (5.014235115679213, array([0.28322497, 0.13634944, 0.50853829, 0.07188729])))\n",
            "(array([3, 4, 2, 7]), (0.7145970298590395, 0.2854029701409605, 0, 0), (4.542087492607199, array([0.35734086, 0.08470939, 0.20043779, 0.35751195])))\n",
            "(array([8, 7, 6, 1]), (0.7695227379278106, 0.23047726207218944, 0, 0), (4.602352910244414, array([0.24331676, 0.11032989, 0.16280814, 0.48354521])))\n",
            "(array([3, 4, 9, 2]), (0.22332223609619506, 0.7766777639038049, 0, 0), (4.655058147242706, array([0.06726178, 0.27682075, 0.44202581, 0.21389166])))\n",
            "MAD per digit:\n",
            "0: 0.136\n",
            "1: 0.127\n",
            "2: 0.145\n",
            "3: 0.147\n",
            "4: 0.148\n",
            "5: 0.142\n",
            "6: 0.132\n",
            "7: 0.147\n",
            "8: 0.141\n",
            "9: 0.147\n"
          ],
          "name": "stdout"
        }
      ]
    },
    {
      "metadata": {
        "id": "hwnX41gD__-D",
        "colab_type": "text"
      },
      "cell_type": "markdown",
      "source": [
        "## Incrementally better. \n",
        "\n",
        "What if, however, we train the VAE from scratch only on the mixed digits - will that improve or detract performance?"
      ]
    },
    {
      "metadata": {
        "id": "kQHEqwj-KUl1",
        "colab_type": "code",
        "outputId": "1d5dc528-8c8d-4176-d2ad-dc54ba8e477a",
        "colab": {
          "base_uri": "https://localhost:8080/",
          "height": 2077
        }
      },
      "cell_type": "code",
      "source": [
        "def dataset_epoch_callback(epoch):\n",
        "    mixed_digit_train_dataset.epoch = epoch\n",
        "    mixed_digit_test_dataset.epoch = epoch\n",
        "\n",
        "mixed_training_vae = VAE('vae_mixed_training_only').to(device)\n",
        "mixed_training_vae_optimizer = optim.Adam(mixed_training_vae.parameters(), lr=1e-3)\n",
        "train_and_test(mixed_training_vae, mixed_training_vae_optimizer, 20,\n",
        "              mixed_digit_train_loader, mixed_digit_test_loader,\n",
        "              dataset_epoch_callback)\n"
      ],
      "execution_count": 0,
      "outputs": [
        {
          "output_type": "stream",
          "text": [
            "Starting Train Epoch 1\n"
          ],
          "name": "stdout"
        },
        {
          "output_type": "display_data",
          "data": {
            "text/html": [
              "<div style=\"display:flex;flex-direction:row;\"><span></span><progress style='margin:2px 4px;' max='600' value='600'></progress>100% 600/600 [00:14&lt;00:00, 42.77it/s]</div>"
            ],
            "text/plain": [
              "<tqdm._fake_ipywidgets.HBox object>"
            ]
          },
          "metadata": {
            "tags": []
          }
        },
        {
          "output_type": "stream",
          "text": [
            "\n",
            "\n",
            "====> Epoch: 1 Average train loss: 194.0267\n",
            "====> Test set loss: 174.8526\n",
            "Starting Train Epoch 2\n"
          ],
          "name": "stdout"
        },
        {
          "output_type": "display_data",
          "data": {
            "text/html": [
              "<div style=\"display:flex;flex-direction:row;\"><span></span><progress style='margin:2px 4px;' max='600' value='600'></progress>100% 600/600 [00:14&lt;00:00, 42.57it/s]</div>"
            ],
            "text/plain": [
              "<tqdm._fake_ipywidgets.HBox object>"
            ]
          },
          "metadata": {
            "tags": []
          }
        },
        {
          "output_type": "stream",
          "text": [
            "\n",
            "\n",
            "====> Epoch: 2 Average train loss: 172.1139\n",
            "====> Test set loss: 169.4225\n",
            "Starting Train Epoch 3\n"
          ],
          "name": "stdout"
        },
        {
          "output_type": "display_data",
          "data": {
            "text/html": [
              "<div style=\"display:flex;flex-direction:row;\"><span></span><progress style='margin:2px 4px;' max='600' value='600'></progress>100% 600/600 [00:13&lt;00:00, 43.45it/s]</div>"
            ],
            "text/plain": [
              "<tqdm._fake_ipywidgets.HBox object>"
            ]
          },
          "metadata": {
            "tags": []
          }
        },
        {
          "output_type": "stream",
          "text": [
            "\n",
            "\n",
            "====> Epoch: 3 Average train loss: 169.0395\n",
            "====> Test set loss: 167.6304\n",
            "Starting Train Epoch 4\n"
          ],
          "name": "stdout"
        },
        {
          "output_type": "display_data",
          "data": {
            "text/html": [
              "<div style=\"display:flex;flex-direction:row;\"><span></span><progress style='margin:2px 4px;' max='600' value='600'></progress>100% 600/600 [00:13&lt;00:00, 44.86it/s]</div>"
            ],
            "text/plain": [
              "<tqdm._fake_ipywidgets.HBox object>"
            ]
          },
          "metadata": {
            "tags": []
          }
        },
        {
          "output_type": "stream",
          "text": [
            "\n",
            "\n",
            "====> Epoch: 4 Average train loss: 167.8208\n",
            "====> Test set loss: 166.8135\n",
            "Starting Train Epoch 5\n"
          ],
          "name": "stdout"
        },
        {
          "output_type": "display_data",
          "data": {
            "text/html": [
              "<div style=\"display:flex;flex-direction:row;\"><span></span><progress style='margin:2px 4px;' max='600' value='600'></progress>100% 600/600 [00:13&lt;00:00, 43.29it/s]</div>"
            ],
            "text/plain": [
              "<tqdm._fake_ipywidgets.HBox object>"
            ]
          },
          "metadata": {
            "tags": []
          }
        },
        {
          "output_type": "stream",
          "text": [
            "\n",
            "\n",
            "====> Epoch: 5 Average train loss: 167.1183\n",
            "====> Test set loss: 166.5151\n",
            "Starting Train Epoch 6\n"
          ],
          "name": "stdout"
        },
        {
          "output_type": "display_data",
          "data": {
            "text/html": [
              "<div style=\"display:flex;flex-direction:row;\"><span></span><progress style='margin:2px 4px;' max='600' value='600'></progress>100% 600/600 [00:13&lt;00:00, 43.23it/s]</div>"
            ],
            "text/plain": [
              "<tqdm._fake_ipywidgets.HBox object>"
            ]
          },
          "metadata": {
            "tags": []
          }
        },
        {
          "output_type": "stream",
          "text": [
            "\n",
            "\n",
            "====> Epoch: 6 Average train loss: 166.6456\n",
            "====> Test set loss: 165.9331\n",
            "Starting Train Epoch 7\n"
          ],
          "name": "stdout"
        },
        {
          "output_type": "display_data",
          "data": {
            "text/html": [
              "<div style=\"display:flex;flex-direction:row;\"><span></span><progress style='margin:2px 4px;' max='600' value='600'></progress>100% 600/600 [00:13&lt;00:00, 43.22it/s]</div>"
            ],
            "text/plain": [
              "<tqdm._fake_ipywidgets.HBox object>"
            ]
          },
          "metadata": {
            "tags": []
          }
        },
        {
          "output_type": "stream",
          "text": [
            "\n",
            "\n",
            "====> Epoch: 7 Average train loss: 166.2031\n",
            "====> Test set loss: 165.4502\n",
            "Starting Train Epoch 8\n"
          ],
          "name": "stdout"
        },
        {
          "output_type": "display_data",
          "data": {
            "text/html": [
              "<div style=\"display:flex;flex-direction:row;\"><span></span><progress style='margin:2px 4px;' max='600' value='600'></progress>100% 600/600 [00:13&lt;00:00, 43.30it/s]</div>"
            ],
            "text/plain": [
              "<tqdm._fake_ipywidgets.HBox object>"
            ]
          },
          "metadata": {
            "tags": []
          }
        },
        {
          "output_type": "stream",
          "text": [
            "\n",
            "\n",
            "====> Epoch: 8 Average train loss: 166.0541\n",
            "====> Test set loss: 165.4527\n",
            "Starting Train Epoch 9\n"
          ],
          "name": "stdout"
        },
        {
          "output_type": "display_data",
          "data": {
            "text/html": [
              "<div style=\"display:flex;flex-direction:row;\"><span></span><progress style='margin:2px 4px;' max='600' value='600'></progress>100% 600/600 [00:13&lt;00:00, 43.35it/s]</div>"
            ],
            "text/plain": [
              "<tqdm._fake_ipywidgets.HBox object>"
            ]
          },
          "metadata": {
            "tags": []
          }
        },
        {
          "output_type": "stream",
          "text": [
            "\n",
            "\n",
            "====> Epoch: 9 Average train loss: 165.8266\n",
            "====> Test set loss: 165.5470\n",
            "Starting Train Epoch 10\n"
          ],
          "name": "stdout"
        },
        {
          "output_type": "display_data",
          "data": {
            "text/html": [
              "<div style=\"display:flex;flex-direction:row;\"><span></span><progress style='margin:2px 4px;' max='600' value='600'></progress>100% 600/600 [00:13&lt;00:00, 43.90it/s]</div>"
            ],
            "text/plain": [
              "<tqdm._fake_ipywidgets.HBox object>"
            ]
          },
          "metadata": {
            "tags": []
          }
        },
        {
          "output_type": "stream",
          "text": [
            "\n",
            "\n",
            "====> Epoch: 10 Average train loss: 165.6792\n",
            "====> Test set loss: 165.3033\n",
            "Starting Train Epoch 11\n"
          ],
          "name": "stdout"
        },
        {
          "output_type": "display_data",
          "data": {
            "text/html": [
              "<div style=\"display:flex;flex-direction:row;\"><span></span><progress style='margin:2px 4px;' max='600' value='600'></progress>100% 600/600 [00:13&lt;00:00, 43.77it/s]</div>"
            ],
            "text/plain": [
              "<tqdm._fake_ipywidgets.HBox object>"
            ]
          },
          "metadata": {
            "tags": []
          }
        },
        {
          "output_type": "stream",
          "text": [
            "\n",
            "\n",
            "====> Epoch: 11 Average train loss: 165.6127\n",
            "====> Test set loss: 165.3512\n",
            "Starting Train Epoch 12\n"
          ],
          "name": "stdout"
        },
        {
          "output_type": "display_data",
          "data": {
            "text/html": [
              "<div style=\"display:flex;flex-direction:row;\"><span></span><progress style='margin:2px 4px;' max='600' value='600'></progress>100% 600/600 [00:13&lt;00:00, 43.62it/s]</div>"
            ],
            "text/plain": [
              "<tqdm._fake_ipywidgets.HBox object>"
            ]
          },
          "metadata": {
            "tags": []
          }
        },
        {
          "output_type": "stream",
          "text": [
            "\n",
            "\n",
            "====> Epoch: 12 Average train loss: 165.4641\n",
            "====> Test set loss: 165.0635\n",
            "Starting Train Epoch 13\n"
          ],
          "name": "stdout"
        },
        {
          "output_type": "display_data",
          "data": {
            "text/html": [
              "<div style=\"display:flex;flex-direction:row;\"><span></span><progress style='margin:2px 4px;' max='600' value='600'></progress>100% 600/600 [00:13&lt;00:00, 42.92it/s]</div>"
            ],
            "text/plain": [
              "<tqdm._fake_ipywidgets.HBox object>"
            ]
          },
          "metadata": {
            "tags": []
          }
        },
        {
          "output_type": "stream",
          "text": [
            "\n",
            "\n",
            "====> Epoch: 13 Average train loss: 165.4264\n",
            "====> Test set loss: 164.9280\n",
            "Starting Train Epoch 14\n"
          ],
          "name": "stdout"
        },
        {
          "output_type": "display_data",
          "data": {
            "text/html": [
              "<div style=\"display:flex;flex-direction:row;\"><span></span><progress style='margin:2px 4px;' max='600' value='600'></progress>100% 600/600 [00:13&lt;00:00, 43.67it/s]</div>"
            ],
            "text/plain": [
              "<tqdm._fake_ipywidgets.HBox object>"
            ]
          },
          "metadata": {
            "tags": []
          }
        },
        {
          "output_type": "stream",
          "text": [
            "\n",
            "\n",
            "====> Epoch: 14 Average train loss: 165.0563\n",
            "====> Test set loss: 164.8415\n",
            "Starting Train Epoch 15\n"
          ],
          "name": "stdout"
        },
        {
          "output_type": "display_data",
          "data": {
            "text/html": [
              "<div style=\"display:flex;flex-direction:row;\"><span></span><progress style='margin:2px 4px;' max='600' value='600'></progress>100% 600/600 [00:13&lt;00:00, 43.69it/s]</div>"
            ],
            "text/plain": [
              "<tqdm._fake_ipywidgets.HBox object>"
            ]
          },
          "metadata": {
            "tags": []
          }
        },
        {
          "output_type": "stream",
          "text": [
            "\n",
            "\n",
            "====> Epoch: 15 Average train loss: 165.2213\n",
            "====> Test set loss: 164.7846\n",
            "Starting Train Epoch 16\n"
          ],
          "name": "stdout"
        },
        {
          "output_type": "display_data",
          "data": {
            "text/html": [
              "<div style=\"display:flex;flex-direction:row;\"><span></span><progress style='margin:2px 4px;' max='600' value='600'></progress>100% 600/600 [00:13&lt;00:00, 43.63it/s]</div>"
            ],
            "text/plain": [
              "<tqdm._fake_ipywidgets.HBox object>"
            ]
          },
          "metadata": {
            "tags": []
          }
        },
        {
          "output_type": "stream",
          "text": [
            "\n",
            "\n",
            "====> Epoch: 16 Average train loss: 164.8319\n",
            "====> Test set loss: 164.6406\n",
            "Starting Train Epoch 17\n"
          ],
          "name": "stdout"
        },
        {
          "output_type": "display_data",
          "data": {
            "text/html": [
              "<div style=\"display:flex;flex-direction:row;\"><span></span><progress style='margin:2px 4px;' max='600' value='600'></progress>100% 600/600 [00:13&lt;00:00, 43.64it/s]</div>"
            ],
            "text/plain": [
              "<tqdm._fake_ipywidgets.HBox object>"
            ]
          },
          "metadata": {
            "tags": []
          }
        },
        {
          "output_type": "stream",
          "text": [
            "\n",
            "\n",
            "====> Epoch: 17 Average train loss: 164.7758\n",
            "====> Test set loss: 164.4929\n",
            "Starting Train Epoch 18\n"
          ],
          "name": "stdout"
        },
        {
          "output_type": "display_data",
          "data": {
            "text/html": [
              "<div style=\"display:flex;flex-direction:row;\"><span></span><progress style='margin:2px 4px;' max='600' value='600'></progress>100% 600/600 [00:13&lt;00:00, 43.63it/s]</div>"
            ],
            "text/plain": [
              "<tqdm._fake_ipywidgets.HBox object>"
            ]
          },
          "metadata": {
            "tags": []
          }
        },
        {
          "output_type": "stream",
          "text": [
            "\n",
            "\n",
            "====> Epoch: 18 Average train loss: 164.7613\n",
            "====> Test set loss: 164.5497\n",
            "Starting Train Epoch 19\n"
          ],
          "name": "stdout"
        },
        {
          "output_type": "display_data",
          "data": {
            "text/html": [
              "<div style=\"display:flex;flex-direction:row;\"><span></span><progress style='margin:2px 4px;' max='600' value='600'></progress>100% 600/600 [00:13&lt;00:00, 43.58it/s]</div>"
            ],
            "text/plain": [
              "<tqdm._fake_ipywidgets.HBox object>"
            ]
          },
          "metadata": {
            "tags": []
          }
        },
        {
          "output_type": "stream",
          "text": [
            "\n",
            "\n",
            "====> Epoch: 19 Average train loss: 165.0406\n",
            "====> Test set loss: 164.8238\n",
            "Starting Train Epoch 20\n"
          ],
          "name": "stdout"
        },
        {
          "output_type": "display_data",
          "data": {
            "text/html": [
              "<div style=\"display:flex;flex-direction:row;\"><span></span><progress style='margin:2px 4px;' max='600' value='600'></progress>100% 600/600 [00:13&lt;00:00, 43.29it/s]</div>"
            ],
            "text/plain": [
              "<tqdm._fake_ipywidgets.HBox object>"
            ]
          },
          "metadata": {
            "tags": []
          }
        },
        {
          "output_type": "stream",
          "text": [
            "\n",
            "\n",
            "====> Epoch: 20 Average train loss: 164.9195\n",
            "====> Test set loss: 164.4911\n"
          ],
          "name": "stdout"
        }
      ]
    },
    {
      "metadata": {
        "id": "p7XGbUxgqBxP",
        "colab_type": "text"
      },
      "cell_type": "markdown",
      "source": [
        "The loss looks almost identical. Let's see if this model performs any better as an encoder for the mixed digits?"
      ]
    },
    {
      "metadata": {
        "id": "0OSTW89yv7ew",
        "colab_type": "code",
        "outputId": "2774eb3d-afa4-4472-a523-cb2b5609424a",
        "colab": {
          "base_uri": "https://localhost:8080/",
          "height": 52
        }
      },
      "cell_type": "code",
      "source": [
        "def biaesd_four_param_sampler(seed):\n",
        "    prior_counts = np.array((20, 10, 1, 1))\n",
        "    np.random.shuffle(prior_counts)\n",
        "    return np.random.dirichlet(prior_counts)\n",
        "\n",
        "\n",
        "def simple_four_prob_generator(seed):\n",
        "    # trying to avoid degenerate cases where one p => 0\n",
        "    # other than the third unused digit, of course\n",
        "    p = np.random.uniform(0.1, 0.9)\n",
        "    return (p, 1 - p, 0, 0)\n",
        "\n",
        "\n",
        "mixed_training_four_digit_abc_params = dict(prior_sampler=biaesd_four_param_sampler,\n",
        "                                          model=mixed_training_vae, metric=metric)\n",
        "\n",
        "mixed_training_four_digit_test_results = randomized_test(\n",
        "    simple_four_prob_generator, abc, mixed_training_four_digit_abc_params)"
      ],
      "execution_count": 0,
      "outputs": [
        {
          "output_type": "display_data",
          "data": {
            "text/html": [
              "<div style=\"display:flex;flex-direction:row;\"><span></span><progress style='margin:2px 4px;' max='100' value='100'></progress>100% 100/100 [05:32&lt;00:00,  3.32s/it]</div>"
            ],
            "text/plain": [
              "<tqdm._fake_ipywidgets.HBox object>"
            ]
          },
          "metadata": {
            "tags": []
          }
        },
        {
          "output_type": "stream",
          "text": [
            "\n"
          ],
          "name": "stdout"
        }
      ]
    },
    {
      "metadata": {
        "id": "0a04XzjlqU7g",
        "colab_type": "code",
        "outputId": "d2da6f1b-9e1f-49f6-ac24-4013a188e4ea",
        "colab": {
          "base_uri": "https://localhost:8080/",
          "height": 790
        }
      },
      "cell_type": "code",
      "source": [
        "analyze_results(mixed_training_four_digit_test_results)"
      ],
      "execution_count": 0,
      "outputs": [
        {
          "output_type": "stream",
          "text": [
            "0.13722259016078758\n"
          ],
          "name": "stdout"
        },
        {
          "output_type": "display_data",
          "data": {
            "image/png": "[encoded data removed]",
            "text/plain": [
              "<matplotlib.figure.Figure at 0x7ff0e05b0438>"
            ]
          },
          "metadata": {
            "tags": []
          }
        },
        {
          "output_type": "stream",
          "text": [
            "Best:\n",
            "(array([8, 2, 6, 7]), (0.38486821491691836, 0.6151317850830816, 0, 0), (4.527325126638741, array([0.38650534, 0.51995344, 0.09159969, 0.00194152])))\n",
            "(array([5, 7, 0, 6]), (0.6275899959661118, 0.37241000403388824, 0, 0), (4.69205191100696, array([0.54212793, 0.36667532, 0.04667037, 0.04452638])))\n",
            "(array([1, 2, 3, 0]), (0.695898050722928, 0.304101949277072, 0, 0), (4.136979335542623, array([0.59929554, 0.30473075, 0.06817425, 0.02779946])))\n",
            "(array([4, 1, 6, 3]), (0.24929696656525302, 0.750703033434747, 0, 0), (4.3051469408642875, array([0.30418236, 0.65268646, 0.03039974, 0.01273144])))\n",
            "(array([8, 6, 3, 9]), (0.5745975992025208, 0.42540240079747915, 0, 0), (4.409414910888547, array([0.55250695, 0.34921191, 0.0096887 , 0.08859244])))\n",
            "Worst:\n",
            "(array([8, 7, 6, 1]), (0.7695227379278106, 0.23047726207218944, 0, 0), (4.65295627431174, array([0.23559896, 0.21618463, 0.06053345, 0.48768296])))\n",
            "(array([5, 0, 6, 7]), (0.8645310079016401, 0.13546899209835994, 0, 0), (5.117975025749233, array([0.3133705 , 0.50324948, 0.09500979, 0.08837023])))\n",
            "(array([3, 4, 2, 7]), (0.7145970298590395, 0.2854029701409605, 0, 0), (4.580493492003577, array([0.35734086, 0.08470939, 0.20043779, 0.35751195])))\n",
            "(array([5, 3, 4, 2]), (0.7640972290640157, 0.23590277093598433, 0, 0), (4.969269042946314, array([0.28322497, 0.13634944, 0.50853829, 0.07188729])))\n",
            "(array([3, 4, 9, 2]), (0.22332223609619506, 0.7766777639038049, 0, 0), (4.664985144973321, array([0.06726178, 0.27682075, 0.44202581, 0.21389166])))\n",
            "MAD per digit:\n",
            "0: 0.132\n",
            "1: 0.124\n",
            "2: 0.139\n",
            "3: 0.142\n",
            "4: 0.143\n",
            "5: 0.140\n",
            "6: 0.129\n",
            "7: 0.139\n",
            "8: 0.136\n",
            "9: 0.147\n"
          ],
          "name": "stdout"
        }
      ]
    },
    {
      "metadata": {
        "id": "joUJZfyDsEvh",
        "colab_type": "text"
      },
      "cell_type": "markdown",
      "source": [
        "Ever so incrementally better. We're inching toward a lower and lower MAD, but I'm curious to see if there's anything I can do to make it substantially better. \n",
        "\n",
        "At some point it might be interesting to also play around with a model trying to solve the full problem, that is, over all ten digits, but I'll run that last since a 10 dimensional problem will likely take much longer to sample"
      ]
    },
    {
      "metadata": {
        "id": "ZOefJUi-y9gm",
        "colab_type": "text"
      },
      "cell_type": "markdown",
      "source": [
        "## What is the effect of the size of the VAE?\n",
        "\n",
        "To check that, I implemented the `LargerVAE` model, with an additional layer and a larger latent representation. If I wanted to be more thorough I'd do a full ablation study, adding either the layer or increasing the latent size, and comparing a few different configuration, but for our exploratory purposes doing both simultaneously should be fine.\n",
        "\n",
        "Let's train one of those on the original problem (reconstructing MNIST), and test it for our encoder purposes, and then tune it with the mixture digits and see if that helps. It might take more than 20 epochs to plateau, since it's a larger model, but we'll see."
      ]
    },
    {
      "metadata": {
        "id": "ck3PIzF8zayS",
        "colab_type": "code",
        "outputId": "c1f224a8-508d-4e29-fb31-a19df9b96d91",
        "colab": {
          "base_uri": "https://localhost:8080/",
          "height": 2094
        }
      },
      "cell_type": "code",
      "source": [
        "larger_vae = LargerVAE('larger_vae').to(device)\n",
        "larger_vae_optimizer = optim.Adam(larger_vae.parameters(), lr=1e-3)\n",
        "train_and_test(larger_vae, larger_vae_optimizer, 20,\n",
        "              train_loader, test_loader, latent_size=30)"
      ],
      "execution_count": 0,
      "outputs": [
        {
          "output_type": "stream",
          "text": [
            "0\n",
            "Starting Train Epoch 1\n"
          ],
          "name": "stdout"
        },
        {
          "output_type": "display_data",
          "data": {
            "text/html": [
              "<div style=\"display:flex;flex-direction:row;\"><span></span><progress style='margin:2px 4px;' max='600' value='600'></progress>100% 600/600 [00:12&lt;00:00, 49.61it/s]</div>"
            ],
            "text/plain": [
              "<tqdm._fake_ipywidgets.HBox object>"
            ]
          },
          "metadata": {
            "tags": []
          }
        },
        {
          "output_type": "stream",
          "text": [
            "\n",
            "\n",
            "====> Epoch: 1 Average train loss: 178.7199\n",
            "====> Test set loss: 143.3360\n",
            "Starting Train Epoch 2\n"
          ],
          "name": "stdout"
        },
        {
          "output_type": "display_data",
          "data": {
            "text/html": [
              "<div style=\"display:flex;flex-direction:row;\"><span></span><progress style='margin:2px 4px;' max='600' value='600'></progress>100% 600/600 [00:11&lt;00:00, 50.59it/s]</div>"
            ],
            "text/plain": [
              "<tqdm._fake_ipywidgets.HBox object>"
            ]
          },
          "metadata": {
            "tags": []
          }
        },
        {
          "output_type": "stream",
          "text": [
            "\n",
            "\n",
            "====> Epoch: 2 Average train loss: 132.2925\n",
            "====> Test set loss: 123.2307\n",
            "Starting Train Epoch 3\n"
          ],
          "name": "stdout"
        },
        {
          "output_type": "display_data",
          "data": {
            "text/html": [
              "<div style=\"display:flex;flex-direction:row;\"><span></span><progress style='margin:2px 4px;' max='600' value='600'></progress>100% 600/600 [00:11&lt;00:00, 50.46it/s]</div>"
            ],
            "text/plain": [
              "<tqdm._fake_ipywidgets.HBox object>"
            ]
          },
          "metadata": {
            "tags": []
          }
        },
        {
          "output_type": "stream",
          "text": [
            "\n",
            "\n",
            "====> Epoch: 3 Average train loss: 120.0933\n",
            "====> Test set loss: 115.7937\n",
            "Starting Train Epoch 4\n"
          ],
          "name": "stdout"
        },
        {
          "output_type": "display_data",
          "data": {
            "text/html": [
              "<div style=\"display:flex;flex-direction:row;\"><span></span><progress style='margin:2px 4px;' max='600' value='600'></progress>100% 600/600 [00:11&lt;00:00, 51.61it/s]</div>"
            ],
            "text/plain": [
              "<tqdm._fake_ipywidgets.HBox object>"
            ]
          },
          "metadata": {
            "tags": []
          }
        },
        {
          "output_type": "stream",
          "text": [
            "\n",
            "\n",
            "====> Epoch: 4 Average train loss: 114.5679\n",
            "====> Test set loss: 111.6577\n",
            "Starting Train Epoch 5\n"
          ],
          "name": "stdout"
        },
        {
          "output_type": "display_data",
          "data": {
            "text/html": [
              "<div style=\"display:flex;flex-direction:row;\"><span></span><progress style='margin:2px 4px;' max='600' value='600'></progress>100% 600/600 [00:12&lt;00:00, 49.62it/s]</div>"
            ],
            "text/plain": [
              "<tqdm._fake_ipywidgets.HBox object>"
            ]
          },
          "metadata": {
            "tags": []
          }
        },
        {
          "output_type": "stream",
          "text": [
            "\n",
            "\n",
            "====> Epoch: 5 Average train loss: 111.1591\n",
            "====> Test set loss: 109.1860\n",
            "Starting Train Epoch 6\n"
          ],
          "name": "stdout"
        },
        {
          "output_type": "display_data",
          "data": {
            "text/html": [
              "<div style=\"display:flex;flex-direction:row;\"><span></span><progress style='margin:2px 4px;' max='600' value='600'></progress>100% 600/600 [00:11&lt;00:00, 50.12it/s]</div>"
            ],
            "text/plain": [
              "<tqdm._fake_ipywidgets.HBox object>"
            ]
          },
          "metadata": {
            "tags": []
          }
        },
        {
          "output_type": "stream",
          "text": [
            "\n",
            "\n",
            "====> Epoch: 6 Average train loss: 109.0289\n",
            "====> Test set loss: 107.8616\n",
            "Starting Train Epoch 7\n"
          ],
          "name": "stdout"
        },
        {
          "output_type": "display_data",
          "data": {
            "text/html": [
              "<div style=\"display:flex;flex-direction:row;\"><span></span><progress style='margin:2px 4px;' max='600' value='600'></progress>100% 600/600 [00:11&lt;00:00, 50.10it/s]</div>"
            ],
            "text/plain": [
              "<tqdm._fake_ipywidgets.HBox object>"
            ]
          },
          "metadata": {
            "tags": []
          }
        },
        {
          "output_type": "stream",
          "text": [
            "\n",
            "\n",
            "====> Epoch: 7 Average train loss: 107.6235\n",
            "====> Test set loss: 106.4419\n",
            "Starting Train Epoch 8\n"
          ],
          "name": "stdout"
        },
        {
          "output_type": "display_data",
          "data": {
            "text/html": [
              "<div style=\"display:flex;flex-direction:row;\"><span></span><progress style='margin:2px 4px;' max='600' value='600'></progress>100% 600/600 [00:11&lt;00:00, 50.03it/s]</div>"
            ],
            "text/plain": [
              "<tqdm._fake_ipywidgets.HBox object>"
            ]
          },
          "metadata": {
            "tags": []
          }
        },
        {
          "output_type": "stream",
          "text": [
            "\n",
            "\n",
            "====> Epoch: 8 Average train loss: 106.4946\n",
            "====> Test set loss: 105.1889\n",
            "Starting Train Epoch 9\n"
          ],
          "name": "stdout"
        },
        {
          "output_type": "display_data",
          "data": {
            "text/html": [
              "<div style=\"display:flex;flex-direction:row;\"><span></span><progress style='margin:2px 4px;' max='600' value='600'></progress>100% 600/600 [00:11&lt;00:00, 50.28it/s]</div>"
            ],
            "text/plain": [
              "<tqdm._fake_ipywidgets.HBox object>"
            ]
          },
          "metadata": {
            "tags": []
          }
        },
        {
          "output_type": "stream",
          "text": [
            "\n",
            "\n",
            "====> Epoch: 9 Average train loss: 105.5439\n",
            "====> Test set loss: 104.9600\n",
            "Starting Train Epoch 10\n"
          ],
          "name": "stdout"
        },
        {
          "output_type": "display_data",
          "data": {
            "text/html": [
              "<div style=\"display:flex;flex-direction:row;\"><span></span><progress style='margin:2px 4px;' max='600' value='600'></progress>100% 600/600 [00:12&lt;00:00, 48.76it/s]</div>"
            ],
            "text/plain": [
              "<tqdm._fake_ipywidgets.HBox object>"
            ]
          },
          "metadata": {
            "tags": []
          }
        },
        {
          "output_type": "stream",
          "text": [
            "\n",
            "\n",
            "====> Epoch: 10 Average train loss: 104.8690\n",
            "====> Test set loss: 104.0079\n",
            "Starting Train Epoch 11\n"
          ],
          "name": "stdout"
        },
        {
          "output_type": "display_data",
          "data": {
            "text/html": [
              "<div style=\"display:flex;flex-direction:row;\"><span></span><progress style='margin:2px 4px;' max='600' value='600'></progress>100% 600/600 [00:11&lt;00:00, 50.26it/s]</div>"
            ],
            "text/plain": [
              "<tqdm._fake_ipywidgets.HBox object>"
            ]
          },
          "metadata": {
            "tags": []
          }
        },
        {
          "output_type": "stream",
          "text": [
            "\n",
            "\n",
            "====> Epoch: 11 Average train loss: 104.2016\n",
            "====> Test set loss: 103.6724\n",
            "Starting Train Epoch 12\n"
          ],
          "name": "stdout"
        },
        {
          "output_type": "display_data",
          "data": {
            "text/html": [
              "<div style=\"display:flex;flex-direction:row;\"><span></span><progress style='margin:2px 4px;' max='600' value='600'></progress>100% 600/600 [00:11&lt;00:00, 50.23it/s]</div>"
            ],
            "text/plain": [
              "<tqdm._fake_ipywidgets.HBox object>"
            ]
          },
          "metadata": {
            "tags": []
          }
        },
        {
          "output_type": "stream",
          "text": [
            "\n",
            "\n",
            "====> Epoch: 12 Average train loss: 103.8447\n",
            "====> Test set loss: 103.2618\n",
            "Starting Train Epoch 13\n"
          ],
          "name": "stdout"
        },
        {
          "output_type": "display_data",
          "data": {
            "text/html": [
              "<div style=\"display:flex;flex-direction:row;\"><span></span><progress style='margin:2px 4px;' max='600' value='600'></progress>100% 600/600 [00:12&lt;00:00, 49.75it/s]</div>"
            ],
            "text/plain": [
              "<tqdm._fake_ipywidgets.HBox object>"
            ]
          },
          "metadata": {
            "tags": []
          }
        },
        {
          "output_type": "stream",
          "text": [
            "\n",
            "\n",
            "====> Epoch: 13 Average train loss: 103.3813\n",
            "====> Test set loss: 102.9172\n",
            "Starting Train Epoch 14\n"
          ],
          "name": "stdout"
        },
        {
          "output_type": "display_data",
          "data": {
            "text/html": [
              "<div style=\"display:flex;flex-direction:row;\"><span></span><progress style='margin:2px 4px;' max='600' value='600'></progress>100% 600/600 [00:12&lt;00:00, 49.69it/s]</div>"
            ],
            "text/plain": [
              "<tqdm._fake_ipywidgets.HBox object>"
            ]
          },
          "metadata": {
            "tags": []
          }
        },
        {
          "output_type": "stream",
          "text": [
            "\n",
            "\n",
            "====> Epoch: 14 Average train loss: 103.0059\n",
            "====> Test set loss: 102.6541\n",
            "Starting Train Epoch 15\n"
          ],
          "name": "stdout"
        },
        {
          "output_type": "display_data",
          "data": {
            "text/html": [
              "<div style=\"display:flex;flex-direction:row;\"><span></span><progress style='margin:2px 4px;' max='600' value='600'></progress>100% 600/600 [00:12&lt;00:00, 49.44it/s]</div>"
            ],
            "text/plain": [
              "<tqdm._fake_ipywidgets.HBox object>"
            ]
          },
          "metadata": {
            "tags": []
          }
        },
        {
          "output_type": "stream",
          "text": [
            "\n",
            "\n",
            "====> Epoch: 15 Average train loss: 102.6398\n",
            "====> Test set loss: 102.5969\n",
            "Starting Train Epoch 16\n"
          ],
          "name": "stdout"
        },
        {
          "output_type": "display_data",
          "data": {
            "text/html": [
              "<div style=\"display:flex;flex-direction:row;\"><span></span><progress style='margin:2px 4px;' max='600' value='600'></progress>100% 600/600 [00:12&lt;00:00, 49.71it/s]</div>"
            ],
            "text/plain": [
              "<tqdm._fake_ipywidgets.HBox object>"
            ]
          },
          "metadata": {
            "tags": []
          }
        },
        {
          "output_type": "stream",
          "text": [
            "\n",
            "\n",
            "====> Epoch: 16 Average train loss: 102.4478\n",
            "====> Test set loss: 102.6894\n",
            "Starting Train Epoch 17\n"
          ],
          "name": "stdout"
        },
        {
          "output_type": "display_data",
          "data": {
            "text/html": [
              "<div style=\"display:flex;flex-direction:row;\"><span></span><progress style='margin:2px 4px;' max='600' value='600'></progress>100% 600/600 [00:11&lt;00:00, 51.90it/s]</div>"
            ],
            "text/plain": [
              "<tqdm._fake_ipywidgets.HBox object>"
            ]
          },
          "metadata": {
            "tags": []
          }
        },
        {
          "output_type": "stream",
          "text": [
            "\n",
            "\n",
            "====> Epoch: 17 Average train loss: 102.1517\n",
            "====> Test set loss: 101.9287\n",
            "Starting Train Epoch 18\n"
          ],
          "name": "stdout"
        },
        {
          "output_type": "display_data",
          "data": {
            "text/html": [
              "<div style=\"display:flex;flex-direction:row;\"><span></span><progress style='margin:2px 4px;' max='600' value='600'></progress>100% 600/600 [00:11&lt;00:00, 50.24it/s]</div>"
            ],
            "text/plain": [
              "<tqdm._fake_ipywidgets.HBox object>"
            ]
          },
          "metadata": {
            "tags": []
          }
        },
        {
          "output_type": "stream",
          "text": [
            "\n",
            "\n",
            "====> Epoch: 18 Average train loss: 101.9157\n",
            "====> Test set loss: 102.1309\n",
            "Starting Train Epoch 19\n"
          ],
          "name": "stdout"
        },
        {
          "output_type": "display_data",
          "data": {
            "text/html": [
              "<div style=\"display:flex;flex-direction:row;\"><span></span><progress style='margin:2px 4px;' max='600' value='600'></progress>100% 600/600 [00:11&lt;00:00, 50.38it/s]</div>"
            ],
            "text/plain": [
              "<tqdm._fake_ipywidgets.HBox object>"
            ]
          },
          "metadata": {
            "tags": []
          }
        },
        {
          "output_type": "stream",
          "text": [
            "\n",
            "\n",
            "====> Epoch: 19 Average train loss: 101.6493\n",
            "====> Test set loss: 101.8360\n",
            "Starting Train Epoch 20\n"
          ],
          "name": "stdout"
        },
        {
          "output_type": "display_data",
          "data": {
            "text/html": [
              "<div style=\"display:flex;flex-direction:row;\"><span></span><progress style='margin:2px 4px;' max='600' value='600'></progress>100% 600/600 [00:11&lt;00:00, 51.23it/s]</div>"
            ],
            "text/plain": [
              "<tqdm._fake_ipywidgets.HBox object>"
            ]
          },
          "metadata": {
            "tags": []
          }
        },
        {
          "output_type": "stream",
          "text": [
            "\n",
            "\n",
            "====> Epoch: 20 Average train loss: 101.4769\n",
            "====> Test set loss: 101.6872\n"
          ],
          "name": "stdout"
        }
      ]
    },
    {
      "metadata": {
        "id": "BLew2trt4A91",
        "colab_type": "text"
      },
      "cell_type": "markdown",
      "source": [
        "Reaches just about the same loss. Does it function any better as an encoder?"
      ]
    },
    {
      "metadata": {
        "id": "OVpLxVJi4Akw",
        "colab_type": "code",
        "outputId": "8fe2bb0d-8c6c-4a42-e7f7-319c9abe89a9",
        "colab": {
          "base_uri": "https://localhost:8080/",
          "height": 52
        }
      },
      "cell_type": "code",
      "source": [
        "def biaesd_four_param_sampler(seed):\n",
        "    prior_counts = np.array((20, 10, 1, 1))\n",
        "    np.random.shuffle(prior_counts)\n",
        "    return np.random.dirichlet(prior_counts)\n",
        "\n",
        "\n",
        "def simple_four_prob_generator(seed):\n",
        "    # trying to avoid degenerate cases where one p => 0\n",
        "    # other than the third unused digit, of course\n",
        "    p = np.random.uniform(0.1, 0.9)\n",
        "    return (p, 1 - p, 0, 0)\n",
        "\n",
        "\n",
        "larger_vae_four_digit_abc_params = dict(prior_sampler=biaesd_four_param_sampler,\n",
        "                                          model=larger_vae, metric=metric)\n",
        "\n",
        "larger_vae_four_digit_test_results = randomized_test(\n",
        "    simple_four_prob_generator, abc, larger_vae_four_digit_abc_params)"
      ],
      "execution_count": 0,
      "outputs": [
        {
          "output_type": "display_data",
          "data": {
            "text/html": [
              "<div style=\"display:flex;flex-direction:row;\"><span></span><progress style='margin:2px 4px;' max='100' value='100'></progress>100% 100/100 [05:30&lt;00:00,  3.30s/it]</div>"
            ],
            "text/plain": [
              "<tqdm._fake_ipywidgets.HBox object>"
            ]
          },
          "metadata": {
            "tags": []
          }
        },
        {
          "output_type": "stream",
          "text": [
            "\n"
          ],
          "name": "stdout"
        }
      ]
    },
    {
      "metadata": {
        "id": "JUWZ71sZFZe1",
        "colab_type": "code",
        "outputId": "7bfe1f03-d3e6-4ba0-e087-ad80cd82a0aa",
        "colab": {
          "base_uri": "https://localhost:8080/",
          "height": 790
        }
      },
      "cell_type": "code",
      "source": [
        "analyze_results(larger_vae_four_digit_test_results)"
      ],
      "execution_count": 0,
      "outputs": [
        {
          "output_type": "stream",
          "text": [
            "0.1316063004469626\n"
          ],
          "name": "stdout"
        },
        {
          "output_type": "display_data",
          "data": {
            "image/png": "[encoded data removed]",
            "text/plain": [
              "<matplotlib.figure.Figure at 0x7ff0e11edd30>"
            ]
          },
          "metadata": {
            "tags": []
          }
        },
        {
          "output_type": "stream",
          "text": [
            "Best:\n",
            "(array([8, 7, 0, 9]), (0.22500498865678403, 0.774995011343216, 0, 0), (2.667729478555664, array([0.24917887, 0.71285252, 0.02544646, 0.01252215])))\n",
            "(array([8, 6, 4, 2]), (0.6177504913956718, 0.38224950860432816, 0, 0), (2.5378900075901822, array([0.54199665, 0.4116996 , 0.02442271, 0.02188104])))\n",
            "(array([4, 6, 5, 9]), (0.6273904021758242, 0.3726095978241758, 0, 0), (2.5887351868680817, array([0.52968275, 0.38216431, 0.03806751, 0.05008542])))\n",
            "(array([7, 0, 1, 3]), (0.5826675935593907, 0.4173324064406093, 0, 0), (2.2733813042997455, array([0.50067441, 0.42789434, 0.04315623, 0.02827502])))\n",
            "(array([4, 3, 8, 1]), (0.7219246786044334, 0.27807532139556657, 0, 0), (2.6400596923830597, array([0.60854978, 0.29049779, 0.09214287, 0.00880956])))\n",
            "Worst:\n",
            "(array([2, 4, 6, 7]), (0.6273662386149391, 0.3726337613850609, 0, 0), (2.81779436951925, array([0.28502441, 0.15326844, 0.02395065, 0.5377565 ])))\n",
            "(array([7, 8, 0, 9]), (0.546030189428647, 0.453969810571353, 0, 0), (2.381126062256381, array([0.39559773, 0.03898168, 0.14936797, 0.41605262])))\n",
            "(array([9, 5, 8, 2]), (0.28749941120887723, 0.7125005887911228, 0, 0), (2.848404507608295, array([0.43092946, 0.11659009, 0.32711523, 0.12536522])))\n",
            "(array([2, 5, 0, 1]), (0.7578289813987564, 0.24217101860124357, 0, 0), (3.0809932378274927, array([0.23780146, 0.05097415, 0.06077029, 0.6504541 ])))\n",
            "(array([2, 5, 6, 9]), (0.7889990140736975, 0.21100098592630245, 0, 0), (3.21137287051125, array([0.37365855, 0.05489216, 0.08211793, 0.48933137])))\n",
            "MAD per digit:\n",
            "0: 0.136\n",
            "1: 0.132\n",
            "2: 0.153\n",
            "3: 0.117\n",
            "4: 0.116\n",
            "5: 0.157\n",
            "6: 0.125\n",
            "7: 0.117\n",
            "8: 0.135\n",
            "9: 0.139\n"
          ],
          "name": "stdout"
        }
      ]
    },
    {
      "metadata": {
        "id": "LTg_oTt0F2x5",
        "colab_type": "text"
      },
      "cell_type": "markdown",
      "source": [
        "Indeed, it helps incrementally, and the distribution looks better beyond the mean alone. Can we push it even better? We could probably sequeeze another point or so in the MAD by training this model on reconstructing digit mixtures as well, but let's try something else\n",
        "\n",
        "## Let's try a convolutional VAE\n",
        "\n",
        "Since nothing in the VAE is particular to fully-connected models, let's try a model with two convolutional layers in the encoder (and deconvolutional layers in the decoder), and see if that gets us anywhere better. This is a fairly naive model, without any standard tools of the trade such as input standardization or batch normalization, but let's see if that gets us any mileage:"
      ]
    },
    {
      "metadata": {
        "id": "_4J4r-WfcIo2",
        "colab_type": "code",
        "outputId": "2535defb-a913-42e4-e8d4-7253006a394a",
        "colab": {
          "base_uri": "https://localhost:8080/",
          "height": 374
        }
      },
      "cell_type": "code",
      "source": [
        "conv_vae = ConvVAE('conv_vae').to(device)\n",
        "summary(conv_vae, (784, ))"
      ],
      "execution_count": 0,
      "outputs": [
        {
          "output_type": "stream",
          "text": [
            "0\n",
            "----------------------------------------------------------------\n",
            "        Layer (type)               Output Shape         Param #\n",
            "================================================================\n",
            "            Conv2d-1            [-1, 8, 14, 14]              80\n",
            "            Conv2d-2              [-1, 8, 7, 7]             584\n",
            "            Linear-3                   [-1, 20]           7,860\n",
            "            Linear-4                   [-1, 20]           7,860\n",
            "            Linear-5                  [-1, 392]           8,232\n",
            "   ConvTranspose2d-6            [-1, 8, 14, 14]             584\n",
            "   ConvTranspose2d-7            [-1, 1, 28, 28]              73\n",
            "================================================================\n",
            "Total params: 25,273\n",
            "Trainable params: 25,273\n",
            "Non-trainable params: 0\n",
            "----------------------------------------------------------------\n",
            "Input size (MB): 0.00\n",
            "Forward/backward pass size (MB): 0.04\n",
            "Params size (MB): 0.10\n",
            "Estimated Total Size (MB): 0.14\n",
            "----------------------------------------------------------------\n"
          ],
          "name": "stdout"
        }
      ]
    },
    {
      "metadata": {
        "id": "vtMRS2nOa8Yk",
        "colab_type": "code",
        "colab": {}
      },
      "cell_type": "code",
      "source": [
        "# conv_vae_optimizer = optim.Adam(conv_vae.parameters(), lr=1e-3)\n",
        "# train_and_test(conv_vae, conv_vae_optimizer, 20,\n",
        "#               train_loader, test_loader, latent_size=20)\n",
        "\n",
        "conv_vae.load_model(20)"
      ],
      "execution_count": 0,
      "outputs": []
    },
    {
      "metadata": {
        "id": "V0zT6ua0gHQl",
        "colab_type": "code",
        "outputId": "016b5d00-a0d0-44fc-d421-912a006c1b68",
        "colab": {
          "base_uri": "https://localhost:8080/",
          "height": 35
        }
      },
      "cell_type": "code",
      "source": [
        "def biaesd_four_param_sampler(seed):\n",
        "    prior_counts = np.array((20, 10, 1, 1))\n",
        "    np.random.shuffle(prior_counts)\n",
        "    return np.random.dirichlet(prior_counts)\n",
        "\n",
        "\n",
        "def simple_four_prob_generator(seed):\n",
        "    # trying to avoid degenerate cases where one p => 0\n",
        "    # other than the third unused digit, of course\n",
        "    p = np.random.uniform(0.1, 0.9)\n",
        "    return (p, 1 - p, 0, 0)\n",
        "\n",
        "\n",
        "conv_vae_four_digit_abc_params = dict(prior_sampler=biaesd_four_param_sampler,\n",
        "                                          model=conv_vae, metric=metric)\n",
        "\n",
        "conv_vae_four_digit_test_results = randomized_test(\n",
        "    simple_four_prob_generator, abc, conv_vae_four_digit_abc_params)"
      ],
      "execution_count": 0,
      "outputs": [
        {
          "output_type": "display_data",
          "data": {
            "text/html": [
              "<div style=\"display:flex;flex-direction:row;\"><span></span><progress style='margin:2px 4px;' max='100' value='100'></progress>100% 100/100 [05:31&lt;00:00,  3.31s/it]</div>"
            ],
            "text/plain": [
              "<tqdm._fake_ipywidgets.HBox object>"
            ]
          },
          "metadata": {
            "tags": []
          }
        }
      ]
    },
    {
      "metadata": {
        "id": "bdEtNwWtgRD2",
        "colab_type": "code",
        "outputId": "58851044-5b39-477c-a32f-14761ba80eb6",
        "colab": {
          "base_uri": "https://localhost:8080/",
          "height": 790
        }
      },
      "cell_type": "code",
      "source": [
        "analyze_results(conv_vae_four_digit_test_results)"
      ],
      "execution_count": 0,
      "outputs": [
        {
          "output_type": "stream",
          "text": [
            "0.1298222225548126\n"
          ],
          "name": "stdout"
        },
        {
          "output_type": "display_data",
          "data": {
            "image/png": "[encoded data removed]",
            "text/plain": [
              "<matplotlib.figure.Figure at 0x7ff0e0ef3b70>"
            ]
          },
          "metadata": {
            "tags": []
          }
        },
        {
          "output_type": "stream",
          "text": [
            "Best:\n",
            "(array([6, 1, 7, 3]), (0.36574378826270093, 0.6342562117372991, 0, 0), (3.4850537066254006, array([0.36701927, 0.5860726 , 0.04423595, 0.00267218])))\n",
            "(array([7, 1, 0, 3]), (0.2848057050417235, 0.7151942949582766, 0, 0), (3.631518974589773, array([0.24738522, 0.72579423, 0.00308866, 0.02373189])))\n",
            "(array([8, 4, 3, 9]), (0.5718278112661049, 0.42817218873389506, 0, 0), (3.5220838609541345, array([0.53270464, 0.40601951, 0.03551842, 0.02575743])))\n",
            "(array([7, 0, 1, 3]), (0.5826675935593907, 0.4173324064406093, 0, 0), (3.5218020648402866, array([0.50067441, 0.42789434, 0.04315623, 0.02827502])))\n",
            "(array([9, 0, 5, 3]), (0.3075265710949422, 0.6924734289050578, 0, 0), (3.5763198611698086, array([0.33317361, 0.60979676, 0.01507368, 0.04195595])))\n",
            "Worst:\n",
            "(array([1, 5, 9, 8]), (0.19849033770431312, 0.8015096622956869, 0, 0), (4.2819798811096055, array([0.56842835, 0.25856731, 0.06241215, 0.11059219])))\n",
            "(array([3, 4, 0, 9]), (0.5513960643285315, 0.4486039356714685, 0, 0), (3.5271600826908296, array([0.07378947, 0.35480259, 0.16757127, 0.40383667])))\n",
            "(array([9, 5, 8, 2]), (0.28749941120887723, 0.7125005887911228, 0, 0), (3.9128141700810515, array([0.43092946, 0.11659009, 0.32711523, 0.12536522])))\n",
            "(array([5, 7, 1, 6]), (0.17060853210757446, 0.8293914678924256, 0, 0), (4.095862370734152, array([0.07659855, 0.37871968, 0.50317096, 0.04151082])))\n",
            "(array([2, 5, 6, 9]), (0.7889990140736975, 0.21100098592630245, 0, 0), (4.147075946004256, array([0.37365855, 0.05489216, 0.08211793, 0.48933137])))\n",
            "MAD per digit:\n",
            "0: 0.124\n",
            "1: 0.133\n",
            "2: 0.143\n",
            "3: 0.125\n",
            "4: 0.123\n",
            "5: 0.155\n",
            "6: 0.121\n",
            "7: 0.113\n",
            "8: 0.135\n",
            "9: 0.133\n"
          ],
          "name": "stdout"
        }
      ]
    },
    {
      "metadata": {
        "id": "tjrbxk3qh30E",
        "colab_type": "text"
      },
      "cell_type": "markdown",
      "source": [
        "Very incrementally better. What if we pull all the stops, and train a much larger convolutional model, to see how far that might take us?"
      ]
    },
    {
      "metadata": {
        "id": "TK0Z30QoiAG4",
        "colab_type": "code",
        "outputId": "58cbca4b-799b-4d8a-dfbc-e14db5e7ec08",
        "colab": {
          "base_uri": "https://localhost:8080/",
          "height": 374
        }
      },
      "cell_type": "code",
      "source": [
        "large_conv_vae = ConvVAE('large_conv_vae', num_filters=16, latent_size=40).to(device)\n",
        "summary(large_conv_vae, (784, ))"
      ],
      "execution_count": 0,
      "outputs": [
        {
          "output_type": "stream",
          "text": [
            "0\n",
            "----------------------------------------------------------------\n",
            "        Layer (type)               Output Shape         Param #\n",
            "================================================================\n",
            "            Conv2d-1           [-1, 16, 14, 14]             160\n",
            "            Conv2d-2             [-1, 16, 7, 7]           2,320\n",
            "            Linear-3                   [-1, 40]          31,400\n",
            "            Linear-4                   [-1, 40]          31,400\n",
            "            Linear-5                  [-1, 784]          32,144\n",
            "   ConvTranspose2d-6           [-1, 16, 14, 14]           2,320\n",
            "   ConvTranspose2d-7            [-1, 1, 28, 28]             145\n",
            "================================================================\n",
            "Total params: 99,889\n",
            "Trainable params: 99,889\n",
            "Non-trainable params: 0\n",
            "----------------------------------------------------------------\n",
            "Input size (MB): 0.00\n",
            "Forward/backward pass size (MB): 0.07\n",
            "Params size (MB): 0.38\n",
            "Estimated Total Size (MB): 0.45\n",
            "----------------------------------------------------------------\n"
          ],
          "name": "stdout"
        }
      ]
    },
    {
      "metadata": {
        "id": "NUey5UvbiKOz",
        "colab_type": "text"
      },
      "cell_type": "markdown",
      "source": [
        "Note this has four times as many parameters as the previous convolutional model..."
      ]
    },
    {
      "metadata": {
        "id": "p_5eMtYMiJoe",
        "colab_type": "code",
        "outputId": "4c6f5f95-d4f4-43e3-c385-2f15d8d29576",
        "colab": {
          "base_uri": "https://localhost:8080/",
          "height": 323
        }
      },
      "cell_type": "code",
      "source": [
        "summary(vae, (784,))"
      ],
      "execution_count": 0,
      "outputs": [
        {
          "output_type": "stream",
          "text": [
            "----------------------------------------------------------------\n",
            "        Layer (type)               Output Shape         Param #\n",
            "================================================================\n",
            "            Linear-1                  [-1, 400]         314,000\n",
            "            Linear-2                   [-1, 20]           8,020\n",
            "            Linear-3                   [-1, 20]           8,020\n",
            "            Linear-4                  [-1, 400]           8,400\n",
            "            Linear-5                  [-1, 784]         314,384\n",
            "================================================================\n",
            "Total params: 652,824\n",
            "Trainable params: 652,824\n",
            "Non-trainable params: 0\n",
            "----------------------------------------------------------------\n",
            "Input size (MB): 0.00\n",
            "Forward/backward pass size (MB): 0.01\n",
            "Params size (MB): 2.49\n",
            "Estimated Total Size (MB): 2.51\n",
            "----------------------------------------------------------------\n"
          ],
          "name": "stdout"
        }
      ]
    },
    {
      "metadata": {
        "id": "xAin7WoOiTgK",
        "colab_type": "text"
      },
      "cell_type": "markdown",
      "source": [
        "But due to the efficiency of convolutions overall, under a sixth of the parameters of our original VAE"
      ]
    },
    {
      "metadata": {
        "id": "KuuMnG3FiNoR",
        "colab_type": "code",
        "outputId": "2932608d-1db0-402a-979a-f37a4df70ed5",
        "colab": {
          "base_uri": "https://localhost:8080/",
          "height": 1737
        }
      },
      "cell_type": "code",
      "source": [
        "large_conv_vae_optimizer = optim.Adam(large_conv_vae.parameters(), lr=1e-3)\n",
        "train_and_test(large_conv_vae, large_conv_vae_optimizer, 20,\n",
        "              train_loader, test_loader, latent_size=40)"
      ],
      "execution_count": 0,
      "outputs": [
        {
          "output_type": "stream",
          "text": [
            "Starting Train Epoch 1\n"
          ],
          "name": "stdout"
        },
        {
          "output_type": "display_data",
          "data": {
            "text/html": [
              "<div style=\"display:flex;flex-direction:row;\"><span></span><progress style='margin:2px 4px;' max='600' value='600'></progress>100% 600/600 [00:27&lt;00:00, 21.82it/s]</div>"
            ],
            "text/plain": [
              "<tqdm._fake_ipywidgets.HBox object>"
            ]
          },
          "metadata": {
            "tags": []
          }
        },
        {
          "output_type": "stream",
          "text": [
            "\n",
            "====> Epoch: 1 Average train loss: 198.5759\n",
            "====> Test set loss: 138.7436\n",
            "Starting Train Epoch 2\n"
          ],
          "name": "stdout"
        },
        {
          "output_type": "display_data",
          "data": {
            "text/html": [
              "<div style=\"display:flex;flex-direction:row;\"><span></span><progress style='margin:2px 4px;' max='600' value='600'></progress>100% 600/600 [00:28&lt;00:00, 21.38it/s]</div>"
            ],
            "text/plain": [
              "<tqdm._fake_ipywidgets.HBox object>"
            ]
          },
          "metadata": {
            "tags": []
          }
        },
        {
          "output_type": "stream",
          "text": [
            "\n",
            "====> Epoch: 2 Average train loss: 128.5656\n",
            "====> Test set loss: 120.7063\n",
            "Starting Train Epoch 3\n"
          ],
          "name": "stdout"
        },
        {
          "output_type": "display_data",
          "data": {
            "text/html": [
              "<div style=\"display:flex;flex-direction:row;\"><span></span><progress style='margin:2px 4px;' max='600' value='600'></progress>100% 600/600 [00:28&lt;00:00, 22.36it/s]</div>"
            ],
            "text/plain": [
              "<tqdm._fake_ipywidgets.HBox object>"
            ]
          },
          "metadata": {
            "tags": []
          }
        },
        {
          "output_type": "stream",
          "text": [
            "\n",
            "====> Epoch: 3 Average train loss: 118.6819\n",
            "====> Test set loss: 115.5126\n",
            "Starting Train Epoch 4\n"
          ],
          "name": "stdout"
        },
        {
          "output_type": "display_data",
          "data": {
            "text/html": [
              "<div style=\"display:flex;flex-direction:row;\"><span></span><progress style='margin:2px 4px;' max='600' value='600'></progress>100% 600/600 [00:27&lt;00:00, 21.44it/s]</div>"
            ],
            "text/plain": [
              "<tqdm._fake_ipywidgets.HBox object>"
            ]
          },
          "metadata": {
            "tags": []
          }
        },
        {
          "output_type": "stream",
          "text": [
            "\n",
            "====> Epoch: 4 Average train loss: 115.0420\n",
            "====> Test set loss: 113.1990\n",
            "Starting Train Epoch 5\n"
          ],
          "name": "stdout"
        },
        {
          "output_type": "display_data",
          "data": {
            "text/html": [
              "<div style=\"display:flex;flex-direction:row;\"><span></span><progress style='margin:2px 4px;' max='600' value='600'></progress>100% 600/600 [00:28&lt;00:00, 21.23it/s]</div>"
            ],
            "text/plain": [
              "<tqdm._fake_ipywidgets.HBox object>"
            ]
          },
          "metadata": {
            "tags": []
          }
        },
        {
          "output_type": "stream",
          "text": [
            "\n",
            "====> Epoch: 5 Average train loss: 113.1260\n",
            "====> Test set loss: 111.6563\n",
            "Starting Train Epoch 6\n"
          ],
          "name": "stdout"
        },
        {
          "output_type": "display_data",
          "data": {
            "text/html": [
              "<div style=\"display:flex;flex-direction:row;\"><span></span><progress style='margin:2px 4px;' max='600' value='600'></progress>100% 600/600 [00:27&lt;00:00, 21.53it/s]</div>"
            ],
            "text/plain": [
              "<tqdm._fake_ipywidgets.HBox object>"
            ]
          },
          "metadata": {
            "tags": []
          }
        },
        {
          "output_type": "stream",
          "text": [
            "\n",
            "====> Epoch: 6 Average train loss: 111.7681\n",
            "====> Test set loss: 110.8733\n",
            "Starting Train Epoch 7\n"
          ],
          "name": "stdout"
        },
        {
          "output_type": "display_data",
          "data": {
            "text/html": [
              "<div style=\"display:flex;flex-direction:row;\"><span></span><progress style='margin:2px 4px;' max='600' value='600'></progress>100% 600/600 [00:27&lt;00:00, 21.44it/s]</div>"
            ],
            "text/plain": [
              "<tqdm._fake_ipywidgets.HBox object>"
            ]
          },
          "metadata": {
            "tags": []
          }
        },
        {
          "output_type": "stream",
          "text": [
            "\n",
            "====> Epoch: 7 Average train loss: 110.8832\n",
            "====> Test set loss: 109.5323\n",
            "Starting Train Epoch 8\n"
          ],
          "name": "stdout"
        },
        {
          "output_type": "display_data",
          "data": {
            "text/html": [
              "<div style=\"display:flex;flex-direction:row;\"><span></span><progress style='margin:2px 4px;' max='600' value='600'></progress>100% 600/600 [00:28&lt;00:00, 21.33it/s]</div>"
            ],
            "text/plain": [
              "<tqdm._fake_ipywidgets.HBox object>"
            ]
          },
          "metadata": {
            "tags": []
          }
        },
        {
          "output_type": "stream",
          "text": [
            "\n",
            "====> Epoch: 8 Average train loss: 110.0675\n",
            "====> Test set loss: 108.9206\n",
            "Starting Train Epoch 9\n"
          ],
          "name": "stdout"
        },
        {
          "output_type": "display_data",
          "data": {
            "text/html": [
              "<div style=\"display:flex;flex-direction:row;\"><span></span><progress style='margin:2px 4px;' max='600' value='600'></progress>100% 600/600 [00:27&lt;00:00, 21.51it/s]</div>"
            ],
            "text/plain": [
              "<tqdm._fake_ipywidgets.HBox object>"
            ]
          },
          "metadata": {
            "tags": []
          }
        },
        {
          "output_type": "stream",
          "text": [
            "\n",
            "====> Epoch: 9 Average train loss: 109.4057\n",
            "====> Test set loss: 108.5905\n",
            "Starting Train Epoch 10\n"
          ],
          "name": "stdout"
        },
        {
          "output_type": "display_data",
          "data": {
            "text/html": [
              "<div style=\"display:flex;flex-direction:row;\"><span></span><progress style='margin:2px 4px;' max='600' value='600'></progress>100% 600/600 [00:27&lt;00:00, 22.45it/s]</div>"
            ],
            "text/plain": [
              "<tqdm._fake_ipywidgets.HBox object>"
            ]
          },
          "metadata": {
            "tags": []
          }
        },
        {
          "output_type": "stream",
          "text": [
            "\n",
            "====> Epoch: 10 Average train loss: 108.8921\n",
            "====> Test set loss: 107.7522\n",
            "Starting Train Epoch 11\n"
          ],
          "name": "stdout"
        },
        {
          "output_type": "display_data",
          "data": {
            "text/html": [
              "<div style=\"display:flex;flex-direction:row;\"><span></span><progress style='margin:2px 4px;' max='600' value='600'></progress>100% 600/600 [00:27&lt;00:00, 21.69it/s]</div>"
            ],
            "text/plain": [
              "<tqdm._fake_ipywidgets.HBox object>"
            ]
          },
          "metadata": {
            "tags": []
          }
        },
        {
          "output_type": "stream",
          "text": [
            "\n",
            "====> Epoch: 11 Average train loss: 108.4697\n",
            "====> Test set loss: 107.3909\n",
            "Starting Train Epoch 12\n"
          ],
          "name": "stdout"
        },
        {
          "output_type": "display_data",
          "data": {
            "text/html": [
              "<div style=\"display:flex;flex-direction:row;\"><span></span><progress style='margin:2px 4px;' max='600' value='600'></progress>100% 600/600 [00:27&lt;00:00, 21.66it/s]</div>"
            ],
            "text/plain": [
              "<tqdm._fake_ipywidgets.HBox object>"
            ]
          },
          "metadata": {
            "tags": []
          }
        },
        {
          "output_type": "stream",
          "text": [
            "\n",
            "====> Epoch: 12 Average train loss: 108.0544\n",
            "====> Test set loss: 107.1673\n",
            "Starting Train Epoch 13\n"
          ],
          "name": "stdout"
        },
        {
          "output_type": "display_data",
          "data": {
            "text/html": [
              "<div style=\"display:flex;flex-direction:row;\"><span></span><progress style='margin:2px 4px;' max='600' value='600'></progress>100% 600/600 [00:28&lt;00:00, 21.38it/s]</div>"
            ],
            "text/plain": [
              "<tqdm._fake_ipywidgets.HBox object>"
            ]
          },
          "metadata": {
            "tags": []
          }
        },
        {
          "output_type": "stream",
          "text": [
            "\n",
            "====> Epoch: 13 Average train loss: 107.7170\n",
            "====> Test set loss: 106.7844\n",
            "Starting Train Epoch 14\n"
          ],
          "name": "stdout"
        },
        {
          "output_type": "display_data",
          "data": {
            "text/html": [
              "<div style=\"display:flex;flex-direction:row;\"><span></span><progress style='margin:2px 4px;' max='600' value='600'></progress>100% 600/600 [00:27&lt;00:00, 21.79it/s]</div>"
            ],
            "text/plain": [
              "<tqdm._fake_ipywidgets.HBox object>"
            ]
          },
          "metadata": {
            "tags": []
          }
        },
        {
          "output_type": "stream",
          "text": [
            "\n",
            "====> Epoch: 14 Average train loss: 107.4237\n",
            "====> Test set loss: 106.6274\n",
            "Starting Train Epoch 15\n"
          ],
          "name": "stdout"
        },
        {
          "output_type": "display_data",
          "data": {
            "text/html": [
              "<div style=\"display:flex;flex-direction:row;\"><span></span><progress style='margin:2px 4px;' max='600' value='600'></progress>100% 600/600 [00:27&lt;00:00, 21.54it/s]</div>"
            ],
            "text/plain": [
              "<tqdm._fake_ipywidgets.HBox object>"
            ]
          },
          "metadata": {
            "tags": []
          }
        },
        {
          "output_type": "stream",
          "text": [
            "\n",
            "====> Epoch: 15 Average train loss: 107.1506\n",
            "====> Test set loss: 106.4039\n",
            "Starting Train Epoch 16\n"
          ],
          "name": "stdout"
        },
        {
          "output_type": "display_data",
          "data": {
            "text/html": [
              "<div style=\"display:flex;flex-direction:row;\"><span></span><progress style='margin:2px 4px;' max='600' value='600'></progress>100% 600/600 [00:27&lt;00:00, 21.76it/s]</div>"
            ],
            "text/plain": [
              "<tqdm._fake_ipywidgets.HBox object>"
            ]
          },
          "metadata": {
            "tags": []
          }
        },
        {
          "output_type": "stream",
          "text": [
            "\n",
            "====> Epoch: 16 Average train loss: 106.9801\n",
            "====> Test set loss: 106.2318\n",
            "Starting Train Epoch 17\n"
          ],
          "name": "stdout"
        },
        {
          "output_type": "display_data",
          "data": {
            "text/html": [
              "<div style=\"display:flex;flex-direction:row;\"><span></span><progress style='margin:2px 4px;' max='600' value='600'></progress>100% 600/600 [00:28&lt;00:00, 22.54it/s]</div>"
            ],
            "text/plain": [
              "<tqdm._fake_ipywidgets.HBox object>"
            ]
          },
          "metadata": {
            "tags": []
          }
        },
        {
          "output_type": "stream",
          "text": [
            "\n",
            "====> Epoch: 17 Average train loss: 106.7739\n",
            "====> Test set loss: 105.9136\n",
            "Starting Train Epoch 18\n"
          ],
          "name": "stdout"
        },
        {
          "output_type": "display_data",
          "data": {
            "text/html": [
              "<div style=\"display:flex;flex-direction:row;\"><span></span><progress style='margin:2px 4px;' max='600' value='600'></progress>100% 600/600 [00:27&lt;00:00, 21.98it/s]</div>"
            ],
            "text/plain": [
              "<tqdm._fake_ipywidgets.HBox object>"
            ]
          },
          "metadata": {
            "tags": []
          }
        },
        {
          "output_type": "stream",
          "text": [
            "\n",
            "====> Epoch: 18 Average train loss: 106.6123\n",
            "====> Test set loss: 105.7820\n",
            "Starting Train Epoch 19\n"
          ],
          "name": "stdout"
        },
        {
          "output_type": "display_data",
          "data": {
            "text/html": [
              "<div style=\"display:flex;flex-direction:row;\"><span></span><progress style='margin:2px 4px;' max='600' value='600'></progress>100% 600/600 [00:28&lt;00:00, 21.41it/s]</div>"
            ],
            "text/plain": [
              "<tqdm._fake_ipywidgets.HBox object>"
            ]
          },
          "metadata": {
            "tags": []
          }
        },
        {
          "output_type": "stream",
          "text": [
            "\n",
            "====> Epoch: 19 Average train loss: 106.4603\n",
            "====> Test set loss: 105.5868\n",
            "Starting Train Epoch 20\n"
          ],
          "name": "stdout"
        },
        {
          "output_type": "display_data",
          "data": {
            "text/html": [
              "<div style=\"display:flex;flex-direction:row;\"><span></span><progress style='margin:2px 4px;' max='600' value='600'></progress>100% 600/600 [00:27&lt;00:00, 21.46it/s]</div>"
            ],
            "text/plain": [
              "<tqdm._fake_ipywidgets.HBox object>"
            ]
          },
          "metadata": {
            "tags": []
          }
        },
        {
          "output_type": "stream",
          "text": [
            "\n",
            "====> Epoch: 20 Average train loss: 106.3111\n",
            "====> Test set loss: 105.4358\n"
          ],
          "name": "stdout"
        }
      ]
    },
    {
      "metadata": {
        "id": "q8lkqYDkiSRy",
        "colab_type": "text"
      },
      "cell_type": "markdown",
      "source": [
        "And, just to get a harder upper bound about how expressive the convolutional model might be, let's also train this model with digit mixtures to give it an even better shot. We'll do it with a lower learning rate, to improve the fine-tuning aspect of it. But we might as well try it as an encoder both before and after:"
      ]
    },
    {
      "metadata": {
        "id": "pgH_xzr4mCyZ",
        "colab_type": "code",
        "outputId": "ecf55460-7b21-4fa7-ea66-6c4c9649979e",
        "colab": {
          "base_uri": "https://localhost:8080/",
          "height": 35
        }
      },
      "cell_type": "code",
      "source": [
        "def biaesd_four_param_sampler(seed):\n",
        "    prior_counts = np.array((20, 10, 1, 1))\n",
        "    np.random.shuffle(prior_counts)\n",
        "    return np.random.dirichlet(prior_counts)\n",
        "\n",
        "\n",
        "def simple_four_prob_generator(seed):\n",
        "    # trying to avoid degenerate cases where one p => 0\n",
        "    # other than the third unused digit, of course\n",
        "    p = np.random.uniform(0.1, 0.9)\n",
        "    return (p, 1 - p, 0, 0)\n",
        "\n",
        "\n",
        "large_conv_vae_four_digit_abc_params = dict(prior_sampler=biaesd_four_param_sampler,\n",
        "                                          model=large_conv_vae, metric=metric)\n",
        "\n",
        "large_conv_vae_four_digit_test_results = randomized_test(\n",
        "    simple_four_prob_generator, abc, large_conv_vae_four_digit_abc_params)"
      ],
      "execution_count": 0,
      "outputs": [
        {
          "output_type": "display_data",
          "data": {
            "text/html": [
              "<div style=\"display:flex;flex-direction:row;\"><span></span><progress style='margin:2px 4px;' max='100' value='100'></progress>100% 100/100 [05:36&lt;00:00,  3.37s/it]</div>"
            ],
            "text/plain": [
              "<tqdm._fake_ipywidgets.HBox object>"
            ]
          },
          "metadata": {
            "tags": []
          }
        }
      ]
    },
    {
      "metadata": {
        "id": "VO5NqxTQmC2-",
        "colab_type": "code",
        "outputId": "cdfbe5da-ce0f-48b7-8cde-b337b4db7bdd",
        "colab": {
          "base_uri": "https://localhost:8080/",
          "height": 790
        }
      },
      "cell_type": "code",
      "source": [
        "analyze_results(large_conv_vae_four_digit_test_results)"
      ],
      "execution_count": 0,
      "outputs": [
        {
          "output_type": "stream",
          "text": [
            "0.159705296274842\n"
          ],
          "name": "stdout"
        },
        {
          "output_type": "display_data",
          "data": {
            "image/png": "[encoded data removed]",
            "text/plain": [
              "<matplotlib.figure.Figure at 0x7ff0e134dfd0>"
            ]
          },
          "metadata": {
            "tags": []
          }
        },
        {
          "output_type": "stream",
          "text": [
            "Best:\n",
            "(array([7, 0, 1, 3]), (0.5826675935593907, 0.4173324064406093, 0, 0), (4.607690675344, array([0.50067441, 0.42789434, 0.04315623, 0.02827502])))\n",
            "(array([9, 1, 6, 3]), (0.21950767989767056, 0.7804923201023295, 0, 0), (4.1700044866801225, array([0.22817935, 0.72618301, 0.03214626, 0.01349138])))\n",
            "(array([7, 1, 0, 3]), (0.2848057050417235, 0.7151942949582766, 0, 0), (4.332884632474389, array([0.24738522, 0.72579423, 0.00308866, 0.02373189])))\n",
            "(array([6, 1, 7, 3]), (0.36574378826270093, 0.6342562117372991, 0, 0), (4.232721739890641, array([0.32161876, 0.65060636, 0.00422752, 0.02354736])))\n",
            "(array([7, 9, 0, 8]), (0.44942327041877783, 0.5505767295812222, 0, 0), (4.387396304951403, array([0.36603377, 0.60232715, 0.01416545, 0.01747363])))\n",
            "Worst:\n",
            "(array([3, 8, 9, 1]), (0.25048552512742905, 0.749514474872571, 0, 0), (4.936318177232087, array([0.07949562, 0.3229975 , 0.0273473 , 0.57015958])))\n",
            "(array([5, 1, 7, 6]), (0.8121504893203092, 0.1878495106796908, 0, 0), (5.417865625737079, array([0.21440636, 0.60555666, 0.08948047, 0.0905565 ])))\n",
            "(array([2, 5, 0, 1]), (0.7578289813987564, 0.24217101860124357, 0, 0), (5.358973145106266, array([0.15441515, 0.27669237, 0.01840526, 0.55048722])))\n",
            "(array([4, 0, 9, 8]), (0.7347620984847597, 0.2652379015152403, 0, 0), (4.7124751696546285, array([0.06841119, 0.24458363, 0.57622539, 0.11077979])))\n",
            "(array([2, 9, 4, 1]), (0.8084993468748344, 0.19150065312516562, 0, 0), (5.5462037953977585, array([0.27398742, 0.08817449, 0.03639014, 0.60144795])))\n",
            "MAD per digit:\n",
            "0: 0.156\n",
            "1: 0.162\n",
            "2: 0.178\n",
            "3: 0.152\n",
            "4: 0.155\n",
            "5: 0.181\n",
            "6: 0.147\n",
            "7: 0.136\n",
            "8: 0.165\n",
            "9: 0.171\n"
          ],
          "name": "stdout"
        }
      ]
    },
    {
      "metadata": {
        "id": "XXASp1hKpON2",
        "colab_type": "text"
      },
      "cell_type": "markdown",
      "source": [
        "Interestingly, the large model, by itself, is not actually any better. What if instead of fine-tuning it we simply continute training it for another 20 iterations?"
      ]
    },
    {
      "metadata": {
        "id": "Y76zsE15pYCk",
        "colab_type": "code",
        "outputId": "b6e8a6df-6eb9-4690-b609-7f2b99c91530",
        "colab": {
          "base_uri": "https://localhost:8080/",
          "height": 1737
        }
      },
      "cell_type": "code",
      "source": [
        "large_conv_vae_optimizer = optim.Adam(large_conv_vae.parameters(), lr=1e-3)\n",
        "train_and_test(large_conv_vae, large_conv_vae_optimizer, 20,\n",
        "              train_loader, test_loader, start_epoch=21, latent_size=40)"
      ],
      "execution_count": 0,
      "outputs": [
        {
          "output_type": "stream",
          "text": [
            "Starting Train Epoch 21\n"
          ],
          "name": "stdout"
        },
        {
          "output_type": "display_data",
          "data": {
            "text/html": [
              "<div style=\"display:flex;flex-direction:row;\"><span></span><progress style='margin:2px 4px;' max='600' value='600'></progress>100% 600/600 [00:27&lt;00:00, 22.81it/s]</div>"
            ],
            "text/plain": [
              "<tqdm._fake_ipywidgets.HBox object>"
            ]
          },
          "metadata": {
            "tags": []
          }
        },
        {
          "output_type": "stream",
          "text": [
            "\n",
            "====> Epoch: 21 Average train loss: 106.3608\n",
            "====> Test set loss: 105.3295\n",
            "Starting Train Epoch 22\n"
          ],
          "name": "stdout"
        },
        {
          "output_type": "display_data",
          "data": {
            "text/html": [
              "<div style=\"display:flex;flex-direction:row;\"><span></span><progress style='margin:2px 4px;' max='600' value='600'></progress>100% 600/600 [00:27&lt;00:00, 21.79it/s]</div>"
            ],
            "text/plain": [
              "<tqdm._fake_ipywidgets.HBox object>"
            ]
          },
          "metadata": {
            "tags": []
          }
        },
        {
          "output_type": "stream",
          "text": [
            "\n",
            "====> Epoch: 22 Average train loss: 106.0629\n",
            "====> Test set loss: 105.4298\n",
            "Starting Train Epoch 23\n"
          ],
          "name": "stdout"
        },
        {
          "output_type": "display_data",
          "data": {
            "text/html": [
              "<div style=\"display:flex;flex-direction:row;\"><span></span><progress style='margin:2px 4px;' max='600' value='600'></progress>100% 600/600 [00:27&lt;00:00, 22.90it/s]</div>"
            ],
            "text/plain": [
              "<tqdm._fake_ipywidgets.HBox object>"
            ]
          },
          "metadata": {
            "tags": []
          }
        },
        {
          "output_type": "stream",
          "text": [
            "\n",
            "====> Epoch: 23 Average train loss: 105.8946\n",
            "====> Test set loss: 105.1294\n",
            "Starting Train Epoch 24\n"
          ],
          "name": "stdout"
        },
        {
          "output_type": "display_data",
          "data": {
            "text/html": [
              "<div style=\"display:flex;flex-direction:row;\"><span></span><progress style='margin:2px 4px;' max='600' value='600'></progress>100% 600/600 [00:27&lt;00:00, 21.99it/s]</div>"
            ],
            "text/plain": [
              "<tqdm._fake_ipywidgets.HBox object>"
            ]
          },
          "metadata": {
            "tags": []
          }
        },
        {
          "output_type": "stream",
          "text": [
            "\n",
            "====> Epoch: 24 Average train loss: 105.8278\n",
            "====> Test set loss: 105.1469\n",
            "Starting Train Epoch 25\n"
          ],
          "name": "stdout"
        },
        {
          "output_type": "display_data",
          "data": {
            "text/html": [
              "<div style=\"display:flex;flex-direction:row;\"><span></span><progress style='margin:2px 4px;' max='600' value='600'></progress>100% 600/600 [00:28&lt;00:00, 21.38it/s]</div>"
            ],
            "text/plain": [
              "<tqdm._fake_ipywidgets.HBox object>"
            ]
          },
          "metadata": {
            "tags": []
          }
        },
        {
          "output_type": "stream",
          "text": [
            "\n",
            "====> Epoch: 25 Average train loss: 105.7196\n",
            "====> Test set loss: 105.0195\n",
            "Starting Train Epoch 26\n"
          ],
          "name": "stdout"
        },
        {
          "output_type": "display_data",
          "data": {
            "text/html": [
              "<div style=\"display:flex;flex-direction:row;\"><span></span><progress style='margin:2px 4px;' max='600' value='600'></progress>100% 600/600 [00:27&lt;00:00, 22.29it/s]</div>"
            ],
            "text/plain": [
              "<tqdm._fake_ipywidgets.HBox object>"
            ]
          },
          "metadata": {
            "tags": []
          }
        },
        {
          "output_type": "stream",
          "text": [
            "\n",
            "====> Epoch: 26 Average train loss: 105.6179\n",
            "====> Test set loss: 104.7820\n",
            "Starting Train Epoch 27\n"
          ],
          "name": "stdout"
        },
        {
          "output_type": "display_data",
          "data": {
            "text/html": [
              "<div style=\"display:flex;flex-direction:row;\"><span></span><progress style='margin:2px 4px;' max='600' value='600'></progress>100% 600/600 [00:27&lt;00:00, 21.92it/s]</div>"
            ],
            "text/plain": [
              "<tqdm._fake_ipywidgets.HBox object>"
            ]
          },
          "metadata": {
            "tags": []
          }
        },
        {
          "output_type": "stream",
          "text": [
            "\n",
            "====> Epoch: 27 Average train loss: 105.5368\n",
            "====> Test set loss: 104.7432\n",
            "Starting Train Epoch 28\n"
          ],
          "name": "stdout"
        },
        {
          "output_type": "display_data",
          "data": {
            "text/html": [
              "<div style=\"display:flex;flex-direction:row;\"><span></span><progress style='margin:2px 4px;' max='600' value='600'></progress>100% 600/600 [00:27&lt;00:00, 21.62it/s]</div>"
            ],
            "text/plain": [
              "<tqdm._fake_ipywidgets.HBox object>"
            ]
          },
          "metadata": {
            "tags": []
          }
        },
        {
          "output_type": "stream",
          "text": [
            "\n",
            "====> Epoch: 28 Average train loss: 105.4163\n",
            "====> Test set loss: 104.7477\n",
            "Starting Train Epoch 29\n"
          ],
          "name": "stdout"
        },
        {
          "output_type": "display_data",
          "data": {
            "text/html": [
              "<div style=\"display:flex;flex-direction:row;\"><span></span><progress style='margin:2px 4px;' max='600' value='600'></progress>100% 600/600 [00:27&lt;00:00, 21.84it/s]</div>"
            ],
            "text/plain": [
              "<tqdm._fake_ipywidgets.HBox object>"
            ]
          },
          "metadata": {
            "tags": []
          }
        },
        {
          "output_type": "stream",
          "text": [
            "\n",
            "====> Epoch: 29 Average train loss: 105.4146\n",
            "====> Test set loss: 104.7561\n",
            "Starting Train Epoch 30\n"
          ],
          "name": "stdout"
        },
        {
          "output_type": "display_data",
          "data": {
            "text/html": [
              "<div style=\"display:flex;flex-direction:row;\"><span></span><progress style='margin:2px 4px;' max='600' value='600'></progress>100% 600/600 [00:28&lt;00:00, 21.42it/s]</div>"
            ],
            "text/plain": [
              "<tqdm._fake_ipywidgets.HBox object>"
            ]
          },
          "metadata": {
            "tags": []
          }
        },
        {
          "output_type": "stream",
          "text": [
            "\n",
            "====> Epoch: 30 Average train loss: 105.3175\n",
            "====> Test set loss: 104.5791\n",
            "Starting Train Epoch 31\n"
          ],
          "name": "stdout"
        },
        {
          "output_type": "display_data",
          "data": {
            "text/html": [
              "<div style=\"display:flex;flex-direction:row;\"><span></span><progress style='margin:2px 4px;' max='600' value='600'></progress>100% 600/600 [00:28&lt;00:00, 21.21it/s]</div>"
            ],
            "text/plain": [
              "<tqdm._fake_ipywidgets.HBox object>"
            ]
          },
          "metadata": {
            "tags": []
          }
        },
        {
          "output_type": "stream",
          "text": [
            "\n",
            "====> Epoch: 31 Average train loss: 105.1668\n",
            "====> Test set loss: 104.4472\n",
            "Starting Train Epoch 32\n"
          ],
          "name": "stdout"
        },
        {
          "output_type": "display_data",
          "data": {
            "text/html": [
              "<div style=\"display:flex;flex-direction:row;\"><span></span><progress style='margin:2px 4px;' max='600' value='600'></progress>100% 600/600 [00:27&lt;00:00, 22.19it/s]</div>"
            ],
            "text/plain": [
              "<tqdm._fake_ipywidgets.HBox object>"
            ]
          },
          "metadata": {
            "tags": []
          }
        },
        {
          "output_type": "stream",
          "text": [
            "\n",
            "====> Epoch: 32 Average train loss: 105.1604\n",
            "====> Test set loss: 104.4069\n",
            "Starting Train Epoch 33\n"
          ],
          "name": "stdout"
        },
        {
          "output_type": "display_data",
          "data": {
            "text/html": [
              "<div style=\"display:flex;flex-direction:row;\"><span></span><progress style='margin:2px 4px;' max='600' value='600'></progress>100% 600/600 [00:27&lt;00:00, 22.97it/s]</div>"
            ],
            "text/plain": [
              "<tqdm._fake_ipywidgets.HBox object>"
            ]
          },
          "metadata": {
            "tags": []
          }
        },
        {
          "output_type": "stream",
          "text": [
            "\n",
            "====> Epoch: 33 Average train loss: 105.1173\n",
            "====> Test set loss: 104.3754\n",
            "Starting Train Epoch 34\n"
          ],
          "name": "stdout"
        },
        {
          "output_type": "display_data",
          "data": {
            "text/html": [
              "<div style=\"display:flex;flex-direction:row;\"><span></span><progress style='margin:2px 4px;' max='600' value='600'></progress>100% 600/600 [00:27&lt;00:00, 22.08it/s]</div>"
            ],
            "text/plain": [
              "<tqdm._fake_ipywidgets.HBox object>"
            ]
          },
          "metadata": {
            "tags": []
          }
        },
        {
          "output_type": "stream",
          "text": [
            "\n",
            "====> Epoch: 34 Average train loss: 105.0278\n",
            "====> Test set loss: 104.3738\n",
            "Starting Train Epoch 35\n"
          ],
          "name": "stdout"
        },
        {
          "output_type": "display_data",
          "data": {
            "text/html": [
              "<div style=\"display:flex;flex-direction:row;\"><span></span><progress style='margin:2px 4px;' max='600' value='600'></progress>100% 600/600 [00:27&lt;00:00, 21.96it/s]</div>"
            ],
            "text/plain": [
              "<tqdm._fake_ipywidgets.HBox object>"
            ]
          },
          "metadata": {
            "tags": []
          }
        },
        {
          "output_type": "stream",
          "text": [
            "\n",
            "====> Epoch: 35 Average train loss: 104.9581\n",
            "====> Test set loss: 104.1144\n",
            "Starting Train Epoch 36\n"
          ],
          "name": "stdout"
        },
        {
          "output_type": "display_data",
          "data": {
            "text/html": [
              "<div style=\"display:flex;flex-direction:row;\"><span></span><progress style='margin:2px 4px;' max='600' value='600'></progress>100% 600/600 [00:26&lt;00:00, 22.28it/s]</div>"
            ],
            "text/plain": [
              "<tqdm._fake_ipywidgets.HBox object>"
            ]
          },
          "metadata": {
            "tags": []
          }
        },
        {
          "output_type": "stream",
          "text": [
            "\n",
            "====> Epoch: 36 Average train loss: 104.8777\n",
            "====> Test set loss: 104.2330\n",
            "Starting Train Epoch 37\n"
          ],
          "name": "stdout"
        },
        {
          "output_type": "display_data",
          "data": {
            "text/html": [
              "<div style=\"display:flex;flex-direction:row;\"><span></span><progress style='margin:2px 4px;' max='600' value='600'></progress>100% 600/600 [00:27&lt;00:00, 22.03it/s]</div>"
            ],
            "text/plain": [
              "<tqdm._fake_ipywidgets.HBox object>"
            ]
          },
          "metadata": {
            "tags": []
          }
        },
        {
          "output_type": "stream",
          "text": [
            "\n",
            "====> Epoch: 37 Average train loss: 104.8296\n",
            "====> Test set loss: 104.0885\n",
            "Starting Train Epoch 38\n"
          ],
          "name": "stdout"
        },
        {
          "output_type": "display_data",
          "data": {
            "text/html": [
              "<div style=\"display:flex;flex-direction:row;\"><span></span><progress style='margin:2px 4px;' max='600' value='600'></progress>100% 600/600 [00:27&lt;00:00, 22.69it/s]</div>"
            ],
            "text/plain": [
              "<tqdm._fake_ipywidgets.HBox object>"
            ]
          },
          "metadata": {
            "tags": []
          }
        },
        {
          "output_type": "stream",
          "text": [
            "\n",
            "====> Epoch: 38 Average train loss: 104.7588\n",
            "====> Test set loss: 104.0810\n",
            "Starting Train Epoch 39\n"
          ],
          "name": "stdout"
        },
        {
          "output_type": "display_data",
          "data": {
            "text/html": [
              "<div style=\"display:flex;flex-direction:row;\"><span></span><progress style='margin:2px 4px;' max='600' value='600'></progress>100% 600/600 [00:26&lt;00:00, 22.22it/s]</div>"
            ],
            "text/plain": [
              "<tqdm._fake_ipywidgets.HBox object>"
            ]
          },
          "metadata": {
            "tags": []
          }
        },
        {
          "output_type": "stream",
          "text": [
            "\n",
            "====> Epoch: 39 Average train loss: 104.7193\n",
            "====> Test set loss: 104.0181\n",
            "Starting Train Epoch 40\n"
          ],
          "name": "stdout"
        },
        {
          "output_type": "display_data",
          "data": {
            "text/html": [
              "<div style=\"display:flex;flex-direction:row;\"><span></span><progress style='margin:2px 4px;' max='600' value='600'></progress>100% 600/600 [00:27&lt;00:00, 22.95it/s]</div>"
            ],
            "text/plain": [
              "<tqdm._fake_ipywidgets.HBox object>"
            ]
          },
          "metadata": {
            "tags": []
          }
        },
        {
          "output_type": "stream",
          "text": [
            "\n",
            "====> Epoch: 40 Average train loss: 104.6926\n",
            "====> Test set loss: 103.9872\n"
          ],
          "name": "stdout"
        }
      ]
    },
    {
      "metadata": {
        "id": "cMCfMROC143H",
        "colab_type": "text"
      },
      "cell_type": "markdown",
      "source": [
        "Let's test it again, post another 20 epochs of training"
      ]
    },
    {
      "metadata": {
        "id": "SLiNgoXu176G",
        "colab_type": "code",
        "outputId": "dacd9aee-d708-48a9-cbf3-1f51ad6b78bf",
        "colab": {
          "base_uri": "https://localhost:8080/",
          "height": 35
        }
      },
      "cell_type": "code",
      "source": [
        "def biaesd_four_param_sampler(seed):\n",
        "    prior_counts = np.array((20, 10, 1, 1))\n",
        "    np.random.shuffle(prior_counts)\n",
        "    return np.random.dirichlet(prior_counts)\n",
        "\n",
        "\n",
        "def simple_four_prob_generator(seed):\n",
        "    # trying to avoid degenerate cases where one p => 0\n",
        "    # other than the third unused digit, of course\n",
        "    p = np.random.uniform(0.1, 0.9)\n",
        "    return (p, 1 - p, 0, 0)\n",
        "\n",
        "\n",
        "large_conv_vae_four_digit_abc_params = dict(prior_sampler=biaesd_four_param_sampler,\n",
        "                                          model=large_conv_vae, metric=metric)\n",
        "\n",
        "large_conv_40_epochs_vae_four_digit_test_results = randomized_test(\n",
        "    simple_four_prob_generator, abc, large_conv_vae_four_digit_abc_params)"
      ],
      "execution_count": 0,
      "outputs": [
        {
          "output_type": "display_data",
          "data": {
            "text/html": [
              "<div style=\"display:flex;flex-direction:row;\"><span></span><progress style='margin:2px 4px;' max='100' value='100'></progress>100% 100/100 [05:45&lt;00:00,  3.53s/it]</div>"
            ],
            "text/plain": [
              "<tqdm._fake_ipywidgets.HBox object>"
            ]
          },
          "metadata": {
            "tags": []
          }
        }
      ]
    },
    {
      "metadata": {
        "id": "KN9Kfdb04lbv",
        "colab_type": "code",
        "outputId": "1f4ab442-5bbf-4e88-a182-cedca87e2282",
        "colab": {
          "base_uri": "https://localhost:8080/",
          "height": 790
        }
      },
      "cell_type": "code",
      "source": [
        "analyze_results(large_conv_40_epochs_vae_four_digit_test_results)"
      ],
      "execution_count": 0,
      "outputs": [
        {
          "output_type": "stream",
          "text": [
            "0.15275963406462276\n"
          ],
          "name": "stdout"
        },
        {
          "output_type": "display_data",
          "data": {
            "image/png": "[encoded data removed]",
            "text/plain": [
              "<matplotlib.figure.Figure at 0x7ff0ccfdf198>"
            ]
          },
          "metadata": {
            "tags": []
          }
        },
        {
          "output_type": "stream",
          "text": [
            "Best:\n",
            "(array([9, 1, 6, 3]), (0.21950767989767056, 0.7804923201023295, 0, 0), (4.096825783799849, array([0.22817935, 0.72618301, 0.03214626, 0.01349138])))\n",
            "(array([6, 1, 7, 3]), (0.36574378826270093, 0.6342562117372991, 0, 0), (4.0687587443896165, array([0.32161876, 0.65060636, 0.00422752, 0.02354736])))\n",
            "(array([7, 1, 0, 3]), (0.2848057050417235, 0.7151942949582766, 0, 0), (4.208041926302733, array([0.24738522, 0.72579423, 0.00308866, 0.02373189])))\n",
            "(array([7, 0, 1, 3]), (0.5826675935593907, 0.4173324064406093, 0, 0), (4.378756403654581, array([0.50067441, 0.42789434, 0.04315623, 0.02827502])))\n",
            "(array([9, 0, 5, 3]), (0.3075265710949422, 0.6924734289050578, 0, 0), (4.402986519047164, array([0.33317361, 0.60979676, 0.01507368, 0.04195595])))\n",
            "Worst:\n",
            "(array([9, 5, 8, 2]), (0.28749941120887723, 0.7125005887911228, 0, 0), (4.8298726862263734, array([0.43092946, 0.11659009, 0.32711523, 0.12536522])))\n",
            "(array([2, 9, 4, 1]), (0.8084993468748344, 0.19150065312516562, 0, 0), (5.3631299824830005, array([0.07394416, 0.57784238, 0.07101286, 0.2772006 ])))\n",
            "(array([2, 5, 0, 1]), (0.7578289813987564, 0.24217101860124357, 0, 0), (5.1783165922429415, array([0.15441515, 0.27669237, 0.01840526, 0.55048722])))\n",
            "(array([3, 8, 9, 1]), (0.25048552512742905, 0.749514474872571, 0, 0), (4.763095575137741, array([0.07949562, 0.3229975 , 0.0273473 , 0.57015958])))\n",
            "(array([2, 5, 6, 3]), (0.1359764454877297, 0.8640235545122703, 0, 0), (5.199251324288798, array([0.0300061 , 0.34550741, 0.51937856, 0.10510794])))\n",
            "MAD per digit:\n",
            "0: 0.145\n",
            "1: 0.153\n",
            "2: 0.175\n",
            "3: 0.150\n",
            "4: 0.147\n",
            "5: 0.177\n",
            "6: 0.137\n",
            "7: 0.128\n",
            "8: 0.163\n",
            "9: 0.160\n"
          ],
          "name": "stdout"
        }
      ]
    },
    {
      "metadata": {
        "id": "ZgyOli8TpWBy",
        "colab_type": "text"
      },
      "cell_type": "markdown",
      "source": [
        "Now for the actual fine-tuning:"
      ]
    },
    {
      "metadata": {
        "id": "vcL25YKviNr6",
        "colab_type": "code",
        "outputId": "28a5c554-b0a9-47eb-db92-8a3d69c6d63a",
        "colab": {
          "base_uri": "https://localhost:8080/",
          "height": 654
        }
      },
      "cell_type": "code",
      "source": [
        "large_conv_vae_tuning_optimizer = optim.Adam(large_conv_vae.parameters(), lr=1e-3)\n",
        "\n",
        "def dataset_epoch_callback(epoch):\n",
        "    mixed_digit_train_dataset.epoch = epoch\n",
        "    mixed_digit_test_dataset.epoch = epoch\n",
        "    \n",
        "train_and_test(large_conv_vae, large_conv_vae_tuning_optimizer, 20, \n",
        "              mixed_digit_train_loader, mixed_digit_test_loader,\n",
        "              dataset_epoch_callback, 41, latent_size=40)"
      ],
      "execution_count": 0,
      "outputs": [
        {
          "output_type": "stream",
          "text": [
            "Starting Train Epoch 41\n"
          ],
          "name": "stdout"
        },
        {
          "output_type": "display_data",
          "data": {
            "text/html": [
              "<div style=\"display:flex;flex-direction:row;\"><span></span><progress style='margin:2px 4px;' max='600' value='600'></progress>100% 600/600 [00:28&lt;00:00, 21.79it/s]</div>"
            ],
            "text/plain": [
              "<tqdm._fake_ipywidgets.HBox object>"
            ]
          },
          "metadata": {
            "tags": []
          }
        },
        {
          "output_type": "stream",
          "text": [
            "\n",
            "====> Epoch: 41 Average train loss: 169.1047\n",
            "====> Test set loss: 166.8057\n",
            "Starting Train Epoch 42\n"
          ],
          "name": "stdout"
        },
        {
          "output_type": "display_data",
          "data": {
            "text/html": [
              "<div style=\"display:flex;flex-direction:row;\"><span></span><progress style='margin:2px 4px;' max='600' value='600'></progress>100% 600/600 [00:30&lt;00:00, 19.81it/s]</div>"
            ],
            "text/plain": [
              "<tqdm._fake_ipywidgets.HBox object>"
            ]
          },
          "metadata": {
            "tags": []
          }
        },
        {
          "output_type": "stream",
          "text": [
            "\n",
            "====> Epoch: 42 Average train loss: 166.5812\n",
            "====> Test set loss: 166.1281\n",
            "Starting Train Epoch 43\n"
          ],
          "name": "stdout"
        },
        {
          "output_type": "display_data",
          "data": {
            "text/html": [
              "<div style=\"display:flex;flex-direction:row;\"><span></span><progress style='margin:2px 4px;' max='600' value='600'></progress>100% 600/600 [00:29&lt;00:00, 20.33it/s]</div>"
            ],
            "text/plain": [
              "<tqdm._fake_ipywidgets.HBox object>"
            ]
          },
          "metadata": {
            "tags": []
          }
        },
        {
          "output_type": "stream",
          "text": [
            "\n",
            "====> Epoch: 43 Average train loss: 166.0699\n",
            "====> Test set loss: 165.7074\n",
            "Starting Train Epoch 44\n"
          ],
          "name": "stdout"
        },
        {
          "output_type": "display_data",
          "data": {
            "text/html": [
              "<div style=\"display:flex;flex-direction:row;\"><span></span><progress style='margin:2px 4px;' max='600' value='600'></progress>100% 600/600 [00:30&lt;00:00, 19.93it/s]</div>"
            ],
            "text/plain": [
              "<tqdm._fake_ipywidgets.HBox object>"
            ]
          },
          "metadata": {
            "tags": []
          }
        },
        {
          "output_type": "stream",
          "text": [
            "\n",
            "====> Epoch: 44 Average train loss: 166.4305\n",
            "====> Test set loss: 165.6954\n",
            "Starting Train Epoch 45\n"
          ],
          "name": "stdout"
        },
        {
          "output_type": "display_data",
          "data": {
            "text/html": [
              "<div style=\"display:flex;flex-direction:row;\"><span></span><progress style='margin:2px 4px;' max='600' value='600'></progress>100% 600/600 [00:29&lt;00:00, 20.62it/s]</div>"
            ],
            "text/plain": [
              "<tqdm._fake_ipywidgets.HBox object>"
            ]
          },
          "metadata": {
            "tags": []
          }
        },
        {
          "output_type": "stream",
          "text": [
            "\n",
            "====> Epoch: 45 Average train loss: 165.7703\n",
            "====> Test set loss: 165.2643\n",
            "Starting Train Epoch 46\n"
          ],
          "name": "stdout"
        },
        {
          "output_type": "display_data",
          "data": {
            "text/html": [
              "<div style=\"display:flex;flex-direction:row;\"><span></span><progress style='margin:2px 4px;' max='600' value='600'></progress>100% 600/600 [00:29&lt;00:00, 21.29it/s]</div>"
            ],
            "text/plain": [
              "<tqdm._fake_ipywidgets.HBox object>"
            ]
          },
          "metadata": {
            "tags": []
          }
        },
        {
          "output_type": "stream",
          "text": [
            "\n",
            "====> Epoch: 46 Average train loss: 165.7196\n",
            "====> Test set loss: 165.3440\n",
            "Starting Train Epoch 47\n"
          ],
          "name": "stdout"
        },
        {
          "output_type": "display_data",
          "data": {
            "text/html": [
              "<div style=\"display:flex;flex-direction:row;\"><span></span><progress style='margin:2px 4px;' max='600' value='600'></progress>100% 600/600 [00:30&lt;00:00, 20.50it/s]</div>"
            ],
            "text/plain": [
              "<tqdm._fake_ipywidgets.HBox object>"
            ]
          },
          "metadata": {
            "tags": []
          }
        },
        {
          "output_type": "stream",
          "text": [
            "\n",
            "====> Epoch: 47 Average train loss: 165.6471\n",
            "====> Test set loss: 165.3070\n",
            "Starting Train Epoch 48\n"
          ],
          "name": "stdout"
        },
        {
          "output_type": "display_data",
          "data": {
            "text/html": [
              "<div style=\"display:flex;flex-direction:row;\"><span></span><progress style='margin:2px 4px;' max='600' value='3'></progress>  0% 3/600 [00:00&lt;00:55, 10.73it/s]</div>"
            ],
            "text/plain": [
              "<tqdm._fake_ipywidgets.HBox object>"
            ]
          },
          "metadata": {
            "tags": []
          }
        }
      ]
    },
    {
      "metadata": {
        "id": "NNxzQ_NHjDRt",
        "colab_type": "text"
      },
      "cell_type": "markdown",
      "source": [
        "Load the large conv model after training, and test it"
      ]
    },
    {
      "metadata": {
        "id": "BDZdyN6D8BZd",
        "colab_type": "code",
        "outputId": "157a1118-5529-4a93-a943-f83d23a05319",
        "colab": {
          "base_uri": "https://localhost:8080/",
          "height": 34
        }
      },
      "cell_type": "code",
      "source": [
        "large_conv_vae = ConvVAE('large_conv_vae', num_filters=16, latent_size=40).to(device)\n",
        "large_conv_vae.load_model(60)"
      ],
      "execution_count": 0,
      "outputs": [
        {
          "output_type": "stream",
          "text": [
            "0\n"
          ],
          "name": "stdout"
        }
      ]
    },
    {
      "metadata": {
        "id": "u5XUlxlY8BeJ",
        "colab_type": "code",
        "outputId": "72321fce-d4ec-48d5-c988-fd184a5d1b9e",
        "colab": {
          "base_uri": "https://localhost:8080/",
          "height": 106
        }
      },
      "cell_type": "code",
      "source": [
        "def biaesd_four_param_sampler(seed):\n",
        "    prior_counts = np.array((20, 10, 1, 1))\n",
        "    np.random.shuffle(prior_counts)\n",
        "    return np.random.dirichlet(prior_counts)\n",
        "\n",
        "\n",
        "def simple_four_prob_generator(seed):\n",
        "    # trying to avoid degenerate cases where one p => 0\n",
        "    # other than the third unused digit, of course\n",
        "    p = np.random.uniform(0.1, 0.9)\n",
        "    return (p, 1 - p, 0, 0)\n",
        "\n",
        "\n",
        "large_conv_vae_four_digit_abc_params = dict(prior_sampler=biaesd_four_param_sampler,\n",
        "                                          model=large_conv_vae, metric=metric)\n",
        "\n",
        "large_conv_60_epochs_vae_four_digit_test_results = randomized_test(\n",
        "    simple_four_prob_generator, abc, large_conv_vae_four_digit_abc_params)"
      ],
      "execution_count": 0,
      "outputs": [
        {
          "output_type": "stream",
          "text": [
            "/usr/local/lib/python3.6/dist-packages/tqdm/_tqdm_notebook.py:88: TqdmExperimentalWarning: Detect Google Colab 0.0.1a2 and thus load dummy ipywidgets package. Note that UI is different from that in Jupyter. See https://github.com/tqdm/tqdm/pull/640\n",
            "  \" See https://github.com/tqdm/tqdm/pull/640\".format(colab.__version__), TqdmExperimentalWarning)\n"
          ],
          "name": "stderr"
        },
        {
          "output_type": "display_data",
          "data": {
            "text/html": [
              "<div style=\"display:flex;flex-direction:row;\"><span></span><progress style='margin:2px 4px;' max='100' value='100'></progress>100% 100/100 [06:15&lt;00:00,  3.78s/it]</div>"
            ],
            "text/plain": [
              "<tqdm._fake_ipywidgets.HBox object>"
            ]
          },
          "metadata": {
            "tags": []
          }
        },
        {
          "output_type": "stream",
          "text": [
            "\n"
          ],
          "name": "stdout"
        }
      ]
    },
    {
      "metadata": {
        "id": "orlXqXAd8Bil",
        "colab_type": "code",
        "outputId": "8e7c2c53-b749-434b-c250-b70b930aadf9",
        "colab": {
          "base_uri": "https://localhost:8080/",
          "height": 790
        }
      },
      "cell_type": "code",
      "source": [
        "analyze_results(large_conv_60_epochs_vae_four_digit_test_results)"
      ],
      "execution_count": 0,
      "outputs": [
        {
          "output_type": "stream",
          "text": [
            "0.1421309379819005\n"
          ],
          "name": "stdout"
        },
        {
          "output_type": "display_data",
          "data": {
            "image/png": "[encoded data removed]",
            "text/plain": [
              "<matplotlib.figure.Figure at 0x7f85da662780>"
            ]
          },
          "metadata": {
            "tags": []
          }
        },
        {
          "output_type": "stream",
          "text": [
            "Best:\n",
            "(array([9, 1, 6, 3]), (0.21950767989767056, 0.7804923201023295, 0, 0), (4.330073154096675, array([0.22817935, 0.72618301, 0.03214626, 0.01349138])))\n",
            "(array([7, 1, 0, 3]), (0.2848057050417235, 0.7151942949582766, 0, 0), (4.486663050858995, array([0.21682612, 0.7426667 , 0.03403411, 0.00647308])))\n",
            "(array([7, 0, 1, 3]), (0.5826675935593907, 0.4173324064406093, 0, 0), (4.9826077703231, array([0.50067441, 0.42789434, 0.04315623, 0.02827502])))\n",
            "(array([9, 0, 5, 3]), (0.3075265710949422, 0.6924734289050578, 0, 0), (5.044806354195957, array([0.33317361, 0.60979676, 0.01507368, 0.04195595])))\n",
            "(array([8, 6, 4, 2]), (0.6177504913956718, 0.38224950860432816, 0, 0), (5.077008182978999, array([0.52669856, 0.44130573, 0.01026354, 0.02173217])))\n",
            "Worst:\n",
            "(array([3, 4, 0, 9]), (0.5513960643285315, 0.4486039356714685, 0, 0), (5.031909949465636, array([0.07378947, 0.35480259, 0.16757127, 0.40383667])))\n",
            "(array([2, 5, 6, 9]), (0.7889990140736975, 0.21100098592630245, 0, 0), (5.977028320098719, array([0.37365855, 0.05489216, 0.08211793, 0.48933137])))\n",
            "(array([9, 5, 8, 2]), (0.28749941120887723, 0.7125005887911228, 0, 0), (5.427398706031146, array([0.43092946, 0.11659009, 0.32711523, 0.12536522])))\n",
            "(array([2, 5, 0, 1]), (0.7578289813987564, 0.24217101860124357, 0, 0), (5.786578477612502, array([0.15441515, 0.27669237, 0.01840526, 0.55048722])))\n",
            "(array([3, 8, 9, 1]), (0.25048552512742905, 0.749514474872571, 0, 0), (5.183926086317249, array([0.07949562, 0.3229975 , 0.0273473 , 0.57015958])))\n",
            "MAD per digit:\n",
            "0: 0.131\n",
            "1: 0.144\n",
            "2: 0.154\n",
            "3: 0.134\n",
            "4: 0.137\n",
            "5: 0.167\n",
            "6: 0.129\n",
            "7: 0.123\n",
            "8: 0.154\n",
            "9: 0.154\n"
          ],
          "name": "stdout"
        }
      ]
    },
    {
      "metadata": {
        "id": "B15roIIpmRxs",
        "colab_type": "text"
      },
      "cell_type": "markdown",
      "source": [
        "Fascinatingly, the large convolutional model appears to be worse than the smaller one. Maybe it will prove better on the larger problem, maybe not."
      ]
    },
    {
      "metadata": {
        "id": "JfOyXXWl8B2-",
        "colab_type": "text"
      },
      "cell_type": "markdown",
      "source": [
        "# One last idea: what if we improve the ABC method?\n",
        "\n",
        "What if rather than doing plain-old ABC, we try ABC-MCMC or ABC-SMC? It will not improve the performance of the encoder, but might prove meaningfully better at exploring the distribution:\n",
        "\n",
        "To perform ABC-MCMC, we must iteratively sample on the simplex. I thought about simply sampling from a normal proposal, truncating to [0, 1], and ther renormalizing, but I imagined there must be a better way. After some review, I found Director et al.'s (2017) SALT, self-adjusting logit-transform proposal, and decided to implement it. For more information, see here: https://www-tandfonline-com.ccl.idm.oclc.org/doi/abs/10.1080/00949655.2017.1376063?src=recsys&journalCode=gscs20"
      ]
    },
    {
      "metadata": {
        "id": "upJaeSEDmZ4E",
        "colab_type": "text"
      },
      "cell_type": "markdown",
      "source": [
        "## SALT pseudocode\n",
        "\n",
        "* Starting from some $\\theta$ in the $k$-dimensional simplex\n",
        "* Set aside two two out of the $k$ coordinates, the first and last to adjust. Denote them $i$ and $l$ repectively.\n",
        "* Starting from $\\theta_i$, we define $\\theta_i' = ilogit( logit(\\theta_i) + h_i Z)$, where $Z \\sim \\mathcal{N}(0, 1), h_i \\in \\mathbb{R}^+$ \n",
        "* Next, for all $j \\neq i, l$, we update $\\theta_j' = (1 - \\theta_i')(\\frac{\\theta_j}{1-\\theta_i} + U_j)$ where $U_j \\sim \\mathcal{U}(-\\epsilon, \\epsilon)$\n",
        "* We then assign all remaining probability mass to $\\theta_l' = 1 - \\sum_{j \\neq l} \\theta_j'$ \n",
        "* They derive it more thoroughly in the paper, but the transition probability ratio is ends up being $\\frac{\\theta_i'}{\\theta_i} \\left( \\frac{1 - \\theta_i'}{1-\\theta_i} \\right)^{k-1} $, notably independent of $\\epsilon$, so it can be arbitrarily small. \n",
        "* The implementaiton below is a fairly faithful translation of their `R` code to Python, sourced from https://rdrr.io/cran/SALTSampler/f/"
      ]
    },
    {
      "metadata": {
        "id": "c9XWG78Czh0E",
        "colab_type": "text"
      },
      "cell_type": "markdown",
      "source": [
        "Quick sanity check to see that it works"
      ]
    },
    {
      "metadata": {
        "id": "hk6YxqKVzki8",
        "colab_type": "code",
        "outputId": "c528215b-0caf-409a-c960-7c3af45cac88",
        "colab": {
          "base_uri": "https://localhost:8080/",
          "height": 51
        }
      },
      "cell_type": "code",
      "source": [
        "logit_values = [scipy.special.logit(np.random.dirichlet(np.ones((10))))]\n",
        "\n",
        "N_TEST = 10000\n",
        "\n",
        "for i in range(N_TEST - 1):\n",
        "    current = logit_values[-1]\n",
        "    move, log_ratio = salt_proposal(current)\n",
        "    \n",
        "    # added sanity \n",
        "    if np.any(np.logical_or(np.isnan(move), np.isinf(move))):\n",
        "        accept = False\n",
        "    else:\n",
        "        accept = np.log(np.random.uniform()) < log_ratio # + TODO: add log_probability of score\n",
        "    \n",
        "    if accept:\n",
        "        logit_values.append(move)\n",
        "    else:\n",
        "        logit_values.append(current)\n",
        "    \n",
        "\n",
        "theta_values = [scipy.special.expit(x) for x in logit_values]\n",
        "print(np.sum(theta_values) / N_TEST)\n",
        "print(len(set([tuple(theta) for theta in theta_values])))\n"
      ],
      "execution_count": 0,
      "outputs": [
        {
          "output_type": "stream",
          "text": [
            "0.9988339465748551\n",
            "8650\n"
          ],
          "name": "stdout"
        }
      ]
    },
    {
      "metadata": {
        "id": "sa8nCjtjIMkN",
        "colab_type": "text"
      },
      "cell_type": "markdown",
      "source": [
        "Let's try our newfangled ABC-MCMC on this problem, with the best-performing convolutional encoder from before:"
      ]
    },
    {
      "metadata": {
        "id": "YA1q-g3f0EPf",
        "colab_type": "code",
        "outputId": "6bc57072-c088-4505-e7a1-e2f3a303888e",
        "colab": {
          "base_uri": "https://localhost:8080/",
          "height": 35
        }
      },
      "cell_type": "code",
      "source": [
        "def biaesd_four_param_sampler(seed):\n",
        "    prior_counts = np.array((20, 10, 1, 1))\n",
        "    np.random.shuffle(prior_counts)\n",
        "    return np.random.dirichlet(prior_counts)\n",
        "\n",
        "\n",
        "def simple_four_prob_generator(seed):\n",
        "    # trying to avoid degenerate cases where one p => 0\n",
        "    # other than the third unused digit, of course\n",
        "    p = np.random.uniform(0.1, 0.9)\n",
        "    return (p, 1 - p, 0, 0)\n",
        "\n",
        "\n",
        "conv_vae_four_digit_abc_params = dict(prior_sampler=biaesd_four_param_sampler,\n",
        "                                          model=conv_vae, metric=metric, n_chains=1)\n",
        "\n",
        "conv_vae_four_digit_abc_mcmc_test_results = randomized_test(\n",
        "    simple_four_prob_generator, abc_mcmc_simplex, conv_vae_four_digit_abc_params, num_tests=100)"
      ],
      "execution_count": 0,
      "outputs": [
        {
          "output_type": "display_data",
          "data": {
            "text/html": [
              "<div style=\"display:flex;flex-direction:row;\"><span></span><progress style='margin:2px 4px;' max='100' value='100'></progress>100% 100/100 [06:11&lt;00:00,  3.75s/it]</div>"
            ],
            "text/plain": [
              "<tqdm._fake_ipywidgets.HBox object>"
            ]
          },
          "metadata": {
            "tags": []
          }
        }
      ]
    },
    {
      "metadata": {
        "id": "Tvm-sy7lK8WK",
        "colab_type": "code",
        "outputId": "a84e4b90-5338-4a4e-868a-1f4b5fdbe74a",
        "colab": {
          "base_uri": "https://localhost:8080/",
          "height": 790
        }
      },
      "cell_type": "code",
      "source": [
        "analyze_results(conv_vae_four_digit_abc_mcmc_test_results)"
      ],
      "execution_count": 0,
      "outputs": [
        {
          "output_type": "stream",
          "text": [
            "0.21363963406764325\n"
          ],
          "name": "stdout"
        },
        {
          "output_type": "display_data",
          "data": {
            "image/png": "[encoded data removed]",
            "text/plain": [
              "<matplotlib.figure.Figure at 0x7f85daa9e128>"
            ]
          },
          "metadata": {
            "tags": []
          }
        },
        {
          "output_type": "stream",
          "text": [
            "Best:\n",
            "(array([6, 1, 8, 2]), (0.4650789135548472, 0.5349210864451528, 0, 0), (3.5014910481719053, array([0.32460472, 0.4990169 , 0.16475471, 0.01162368])))\n",
            "(array([6, 1, 7, 9]), (0.1391105439374341, 0.860889456062566, 0, 0), (3.583738556405653, array([0.02748149, 0.6226444 , 0.03733778, 0.0283942 ])))\n",
            "(array([6, 1, 2, 9]), (0.5643624768287548, 0.43563752317124516, 0, 0), (3.529086718824513, array([0.40335474, 0.44630228, 0.02529286, 0.12505011])))\n",
            "(array([9, 2, 6, 3]), (0.6704712419470298, 0.3295287580529702, 0, 0), (3.59045419435794, array([0.45747105, 0.25790275, 0.05414263, 0.01769427])))\n",
            "(array([7, 9, 8, 2]), (0.4251324106861092, 0.5748675893138908, 0, 0), (3.4427972160097786, array([0.17814954, 0.5511578 , 0.02481558, 0.00236841])))\n",
            "Worst:\n",
            "(array([2, 6, 7, 0]), (0.21307195316418756, 0.7869280468358124, 0, 0), (4.05072283636732, array([0.11691922, 0.19925149, 0.38754317, 0.29628611])))\n",
            "(array([5, 2, 3, 9]), (0.3484909535394871, 0.6515090464605129, 0, 0), (3.859643279948199, array([0.09551769, 0.06902444, 0.23040491, 0.37169056])))\n",
            "(array([9, 2, 8, 6]), (0.8825236576824205, 0.11747634231757953, 0, 0), (4.121576682841536, array([0.00366488, 0.0719376 , 0.31205008, 0.38085031])))\n",
            "(array([0, 4, 5, 6]), (0.8788666163275515, 0.12113338367244852, 0, 0), (4.228001612658383, array([0.02458725, 0.30257576, 0.34210711, 0.33072987])))\n",
            "(array([5, 7, 2, 1]), (0.8824776039550912, 0.11752239604490877, 0, 0), (4.520207275204093, array([0.04215288, 0.40898426, 0.19686408, 0.35199877])))\n",
            "MAD per digit:\n",
            "0: 0.224\n",
            "1: 0.202\n",
            "2: 0.210\n",
            "3: 0.216\n",
            "4: 0.215\n",
            "5: 0.226\n",
            "6: 0.208\n",
            "7: 0.224\n",
            "8: 0.204\n",
            "9: 0.207\n"
          ],
          "name": "stdout"
        }
      ]
    },
    {
      "metadata": {
        "id": "dEP23LVYOSqY",
        "colab_type": "text"
      },
      "cell_type": "markdown",
      "source": [
        "Equally computatonally expensive per iteration, but appears to explore the space substantially worse, at least compared to a biased sampler. It might outperform an unbiased sampler. Let's try one more test, with more chains and iterations per chain, to see if that does anything?\n",
        "\n",
        "I also changed the proposal sampler to be uniform, since there's no reason to bias the prior for MCMC. "
      ]
    },
    {
      "metadata": {
        "id": "AhgUPlAaOhY7",
        "colab_type": "code",
        "outputId": "22969b17-12fd-4cbf-9687-b1937d19b365",
        "colab": {
          "base_uri": "https://localhost:8080/",
          "height": 35
        }
      },
      "cell_type": "code",
      "source": [
        "def uniform_four_param_sampler(seed):\n",
        "    prior_counts = np.array((1, 1, 1, 1))\n",
        "    return np.random.dirichlet(prior_counts)\n",
        "\n",
        "\n",
        "def simple_four_prob_generator(seed):\n",
        "    # trying to avoid degenerate cases where one p => 0\n",
        "    # other than the third unused digit, of course\n",
        "    p = np.random.uniform(0.1, 0.9)\n",
        "    return (p, 1 - p, 0, 0)\n",
        "\n",
        "\n",
        "conv_vae_four_digit_abc_params = dict(prior_sampler=uniform_four_param_sampler,\n",
        "                                          model=conv_vae, metric=metric, n_chains=4, n_iter=400)\n",
        "\n",
        "conv_vae_four_digit_abc_mcmc_test_results = randomized_test(\n",
        "    simple_four_prob_generator, abc_mcmc_simplex, conv_vae_four_digit_abc_params, num_tests=20)"
      ],
      "execution_count": 0,
      "outputs": [
        {
          "output_type": "display_data",
          "data": {
            "text/html": [
              "<div style=\"display:flex;flex-direction:row;\"><span></span><progress style='margin:2px 4px;' max='20' value='20'></progress>100% 20/20 [18:38&lt;00:00, 55.59s/it]</div>"
            ],
            "text/plain": [
              "<tqdm._fake_ipywidgets.HBox object>"
            ]
          },
          "metadata": {
            "tags": []
          }
        }
      ]
    },
    {
      "metadata": {
        "id": "hv6uUfzKRQC6",
        "colab_type": "code",
        "outputId": "70e18abf-416f-4f1a-defa-8d14eb243148",
        "colab": {
          "base_uri": "https://localhost:8080/",
          "height": 869
        }
      },
      "cell_type": "code",
      "source": [
        "analyze_results(conv_vae_four_digit_abc_mcmc_test_results)"
      ],
      "execution_count": 0,
      "outputs": [
        {
          "output_type": "stream",
          "text": [
            "0.17942066312620064\n"
          ],
          "name": "stdout"
        },
        {
          "output_type": "display_data",
          "data": {
            "image/png": "[encoded data removed]",
            "text/plain": [
              "<matplotlib.figure.Figure at 0x7f67101118d0>"
            ]
          },
          "metadata": {
            "tags": []
          }
        },
        {
          "output_type": "stream",
          "text": [
            "Best:\n",
            "(array([2, 1, 7, 3]), (0.12041964286044343, 0.8795803571395566, 0, 0), (3.6210682617899526, array([0.06600574, 0.66986343, 0.00159842, 0.02045636])))\n",
            "(array([7, 1, 5, 0]), (0.3723555048341154, 0.6276444951658846, 0, 0), (3.513367265061169, array([1.18003847e-01, 5.78878600e-01, 9.16499154e-05, 2.70504461e-02])))\n",
            "(array([9, 1, 7, 0]), (0.5890875406829185, 0.41091245931708154, 0, 0), (3.390567468068809, array([0.41546928, 0.26570776, 0.06060108, 0.02327926])))\n",
            "(array([9, 6, 3, 7]), (0.6364870269662807, 0.3635129730337193, 0, 0), (3.4006933089941507, array([0.36650104, 0.3432066 , 0.05603548, 0.06448884])))\n",
            "(array([6, 8, 3, 0]), (0.8518672904373734, 0.14813270956262659, 0, 0), (3.8854150765265207, array([0.50099761, 0.15645672, 0.00869679, 0.09667471])))\n",
            "Worst:\n",
            "(array([9, 3, 8, 0]), (0.2458898603019793, 0.7541101396980208, 0, 0), (3.5114500981109953, array([0.23349869, 0.3391991 , 0.26431693, 0.16298528])))\n",
            "(array([8, 2, 1, 7]), (0.14675013511999718, 0.8532498648800029, 0, 0), (4.011017956148393, array([0.22934399, 0.37378404, 0.3258599 , 0.07101207])))\n",
            "(array([0, 2, 9, 6]), (0.17562981958328133, 0.8243701804167187, 0, 0), (3.7649215537642036, array([0.24276879, 0.32948586, 0.19689439, 0.23085097])))\n",
            "(array([2, 5, 4, 3]), (0.12686409921178612, 0.8731359007882139, 0, 0), (3.978013784034073, array([0.10378147, 0.35912904, 0.2144797 , 0.3226098 ])))\n",
            "(array([2, 9, 4, 6]), (0.8388792680603584, 0.1611207319396416, 0, 0), (3.9963401623510597, array([0.31988114, 0.2295254 , 0.20599208, 0.24460138])))\n"
          ],
          "name": "stdout"
        },
        {
          "output_type": "error",
          "ename": "IndexError",
          "evalue": "ignored",
          "traceback": [
            "\u001b[0;31m---------------------------------------------------------------------------\u001b[0m",
            "\u001b[0;31mIndexError\u001b[0m                                Traceback (most recent call last)",
            "\u001b[0;32m<ipython-input-26-8a631e876d05>\u001b[0m in \u001b[0;36m<module>\u001b[0;34m()\u001b[0m\n\u001b[0;32m----> 1\u001b[0;31m \u001b[0manalyze_results\u001b[0m\u001b[0;34m(\u001b[0m\u001b[0mconv_vae_four_digit_abc_mcmc_test_results\u001b[0m\u001b[0;34m)\u001b[0m\u001b[0;34m\u001b[0m\u001b[0;34m\u001b[0m\u001b[0m\n\u001b[0m",
            "\u001b[0;32m<ipython-input-15-3575837f1b1d>\u001b[0m in \u001b[0;36manalyze_results\u001b[0;34m(test_results, k)\u001b[0m\n\u001b[1;32m     39\u001b[0m     \u001b[0mdigit_to_results\u001b[0m \u001b[0;34m=\u001b[0m \u001b[0mdefaultdict\u001b[0m\u001b[0;34m(\u001b[0m\u001b[0mlist\u001b[0m\u001b[0;34m)\u001b[0m\u001b[0;34m\u001b[0m\u001b[0;34m\u001b[0m\u001b[0m\n\u001b[1;32m     40\u001b[0m     \u001b[0;32mfor\u001b[0m \u001b[0mi\u001b[0m \u001b[0;32min\u001b[0m \u001b[0mrange\u001b[0m\u001b[0;34m(\u001b[0m\u001b[0mNUM_TESTS\u001b[0m\u001b[0;34m)\u001b[0m\u001b[0;34m:\u001b[0m\u001b[0;34m\u001b[0m\u001b[0;34m\u001b[0m\u001b[0m\n\u001b[0;32m---> 41\u001b[0;31m         \u001b[0mres\u001b[0m \u001b[0;34m=\u001b[0m \u001b[0mtest_results\u001b[0m\u001b[0;34m[\u001b[0m\u001b[0mi\u001b[0m\u001b[0;34m]\u001b[0m\u001b[0;34m\u001b[0m\u001b[0;34m\u001b[0m\u001b[0m\n\u001b[0m\u001b[1;32m     42\u001b[0m         \u001b[0;32mfor\u001b[0m \u001b[0md\u001b[0m \u001b[0;32min\u001b[0m \u001b[0mres\u001b[0m\u001b[0;34m[\u001b[0m\u001b[0;36m0\u001b[0m\u001b[0;34m]\u001b[0m\u001b[0;34m:\u001b[0m\u001b[0;34m\u001b[0m\u001b[0;34m\u001b[0m\u001b[0m\n\u001b[1;32m     43\u001b[0m             \u001b[0mdigit_to_results\u001b[0m\u001b[0;34m[\u001b[0m\u001b[0md\u001b[0m\u001b[0;34m]\u001b[0m\u001b[0;34m.\u001b[0m\u001b[0mappend\u001b[0m\u001b[0;34m(\u001b[0m\u001b[0mmean_devs\u001b[0m\u001b[0;34m[\u001b[0m\u001b[0mi\u001b[0m\u001b[0;34m]\u001b[0m\u001b[0;34m)\u001b[0m\u001b[0;34m\u001b[0m\u001b[0;34m\u001b[0m\u001b[0m\n",
            "\u001b[0;31mIndexError\u001b[0m: list index out of range"
          ]
        }
      ]
    },
    {
      "metadata": {
        "id": "woridird3RT7",
        "colab_type": "text"
      },
      "cell_type": "markdown",
      "source": [
        "Update: Improving, both on average, and in terms of the overall best results. Additional iterations would probably help even more, if I had to guess."
      ]
    },
    {
      "metadata": {
        "id": "Vu5Qe8s9v7pg",
        "colab_type": "text"
      },
      "cell_type": "markdown",
      "source": [
        "\n",
        "\n",
        "## Stumbling points to discuss\n",
        "\n",
        "* Using sklearn's MNIST and PyTorch's MNIST supposedly interchangably, but they're not - preprocessing or scaling is different, which threw off my model at first.\n",
        "    * Representing as 0-255 vs floats in 0-1 (without even normalizing, which I could also do)\n",
        "* Fun with memory management in Colab (see below)\n",
        "* General challenge of engineering code well with and around Colab"
      ]
    },
    {
      "metadata": {
        "id": "kP46NeM8v8AG",
        "colab_type": "code",
        "colab": {}
      },
      "cell_type": "code",
      "source": [
        "import sys\n",
        "\n",
        "# These are the usual ipython objects, including this one you are creating\n",
        "ipython_vars = ['In', 'Out', 'exit', 'quit', 'get_ipython', 'ipython_vars']\n",
        "\n",
        "# Get a sorted list of the objects and their sizes\n",
        "sorted([(x, sys.getsizeof(globals().get(x))) for x in dir() if not x.startswith('_') and x not in sys.modules and x not in ipython_vars], key=lambda x: x[1], reverse=True)"
      ],
      "execution_count": 0,
      "outputs": []
    },
    {
      "metadata": {
        "id": "5EDNTeSr5YoJ",
        "colab_type": "text"
      },
      "cell_type": "markdown",
      "source": [
        "In the event I need to nuke and restart the runtime, this cell is handy"
      ]
    },
    {
      "metadata": {
        "id": "-92yAEX45XEh",
        "colab_type": "code",
        "colab": {}
      },
      "cell_type": "code",
      "source": [
        ""
      ],
      "execution_count": 0,
      "outputs": []
    },
    {
      "metadata": {
        "id": "zKe5kwT7nT6B",
        "colab_type": "code",
        "colab": {}
      },
      "cell_type": "code",
      "source": [
        ""
      ],
      "execution_count": 0,
      "outputs": []
    }
  ]
}